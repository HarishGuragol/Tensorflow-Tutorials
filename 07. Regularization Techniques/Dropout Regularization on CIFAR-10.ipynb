{
 "cells": [
  {
   "cell_type": "markdown",
   "metadata": {},
   "source": [
    "### Import packages "
   ]
  },
  {
   "cell_type": "code",
   "execution_count": 1,
   "metadata": {
    "ExecuteTime": {
     "end_time": "2020-11-06T20:57:22.745806Z",
     "start_time": "2020-11-06T20:57:08.301092Z"
    }
   },
   "outputs": [],
   "source": [
    "#Importing packages\n",
    "import time\n",
    "import datetime\n",
    "import numpy as np\n",
    "import tensorflow as tf\n",
    "import matplotlib.pyplot as plt\n",
    "from tensorflow.keras.datasets import cifar10\n",
    "from tensorflow.keras.utils import to_categorical\n",
    "from tensorflow.keras import Model, layers, Input"
   ]
  },
  {
   "cell_type": "markdown",
   "metadata": {},
   "source": [
    "### Define the Hyperparameter & Data info"
   ]
  },
  {
   "cell_type": "code",
   "execution_count": 2,
   "metadata": {
    "ExecuteTime": {
     "end_time": "2020-11-06T20:57:25.927829Z",
     "start_time": "2020-11-06T20:57:25.903821Z"
    }
   },
   "outputs": [],
   "source": [
    "#Learning Rate, Iterations, Batch Size Hyperparameters\n",
    "learning_rate = 0.001\n",
    "iterations = 40000\n",
    "batch_size = 256\n",
    "#dropout = 0.5\n",
    "#epochs = 10"
   ]
  },
  {
   "cell_type": "markdown",
   "metadata": {},
   "source": [
    "### Load CIFAR-10 Data"
   ]
  },
  {
   "cell_type": "code",
   "execution_count": 3,
   "metadata": {
    "ExecuteTime": {
     "end_time": "2020-11-06T20:57:29.388979Z",
     "start_time": "2020-11-06T20:57:26.444847Z"
    }
   },
   "outputs": [],
   "source": [
    "#CIFAR-10 Dataset has 60000 images of common objects, 6k images per class and 10 classes in total\n",
    "(X_train, Y_train), (X_test, Y_test) = cifar10.load_data()"
   ]
  },
  {
   "cell_type": "markdown",
   "metadata": {},
   "source": [
    "### Data Preparation"
   ]
  },
  {
   "cell_type": "code",
   "execution_count": 4,
   "metadata": {
    "ExecuteTime": {
     "end_time": "2020-11-06T20:57:33.823165Z",
     "start_time": "2020-11-06T20:57:29.844994Z"
    }
   },
   "outputs": [
    {
     "name": "stdout",
     "output_type": "stream",
     "text": [
      "(50000, 3072)\n",
      "(50000, 10)\n",
      "(10000, 3072)\n",
      "(10000, 10)\n"
     ]
    }
   ],
   "source": [
    "#Convert to float type\n",
    "X_train, X_test = np.array(X_train, np.float32), np.array(X_test, np.float32)\n",
    "\n",
    "#Flatten images to 1-D vector of 3072 features (32*32*3)\n",
    "X_train, X_test = X_train.reshape([-1, 3072]), X_test.reshape([-1, 3072])\n",
    "\n",
    "#One hot encoding of labels\n",
    "Y_train = to_categorical(Y_train, 10)\n",
    "Y_test = to_categorical(Y_test, 10)\n",
    "\n",
    "#Normalization of images\n",
    "X_train = X_train / 255.\n",
    "X_test = X_test / 255.\n",
    "\n",
    "#Use Tensorflow data for shuffling and fetching it batchwise\n",
    "train_data = tf.data.Dataset.from_tensor_slices((X_train, Y_train))\n",
    "train_data = train_data.repeat().shuffle(5000).batch(batch_size).prefetch(1)\n",
    "\n",
    "print(X_train.shape)\n",
    "print(Y_train.shape)\n",
    "print(X_test.shape)\n",
    "print(Y_test.shape)"
   ]
  },
  {
   "cell_type": "markdown",
   "metadata": {},
   "source": [
    "## Define the model, Adding Dropout layer with 0.5 rate \n",
    "### We will see the graphs later to understand the difference of adding Dropout"
   ]
  },
  {
   "cell_type": "code",
   "execution_count": 5,
   "metadata": {
    "ExecuteTime": {
     "end_time": "2020-11-06T20:57:34.879426Z",
     "start_time": "2020-11-06T20:57:34.247391Z"
    }
   },
   "outputs": [],
   "source": [
    "model = tf.keras.models.Sequential()\n",
    "model.add(layers.Dense(1024, input_dim = 3072 , activation = 'relu'))\n",
    "model.add(layers.Dense(512, activation = 'relu'))\n",
    "model.add(layers.Dropout(0.5))\n",
    "model.add(layers.Dense(256, activation = 'relu'))\n",
    "model.add(layers.Dropout(0.5))\n",
    "model.add(layers.Dense(128, activation = 'relu'))\n",
    "model.add(layers.Dropout(0.5))\n",
    "model.add(layers.Dense(10, activation = 'softmax'))"
   ]
  },
  {
   "cell_type": "markdown",
   "metadata": {},
   "source": [
    "### Compile the model with optimizer"
   ]
  },
  {
   "cell_type": "code",
   "execution_count": 6,
   "metadata": {
    "ExecuteTime": {
     "end_time": "2020-11-06T20:57:35.359388Z",
     "start_time": "2020-11-06T20:57:35.271388Z"
    }
   },
   "outputs": [],
   "source": [
    "log_dir = \"logs_dropout/fit/\" + datetime.datetime.now().strftime(\"%Y%m%d-%H%M%S\")\n",
    "tensorboard_callback = tf.keras.callbacks.TensorBoard(log_dir = log_dir, histogram_freq = 1)\n",
    "\n",
    "model.compile(optimizer= tf.keras.optimizers.Adam(), loss = 'categorical_crossentropy', metrics = ['accuracy'])"
   ]
  },
  {
   "cell_type": "markdown",
   "metadata": {},
   "source": [
    "### Train the model"
   ]
  },
  {
   "cell_type": "code",
   "execution_count": 7,
   "metadata": {
    "ExecuteTime": {
     "end_time": "2020-11-06T21:03:48.036566Z",
     "start_time": "2020-11-06T20:57:35.751389Z"
    }
   },
   "outputs": [
    {
     "name": "stdout",
     "output_type": "stream",
     "text": [
      "Epoch 1/25\n",
      "  1/196 [..............................] - ETA: 0s - loss: 2.6826 - accuracy: 0.0938WARNING:tensorflow:From C:\\Users\\Pranav\\anaconda3\\lib\\site-packages\\tensorflow\\python\\ops\\summary_ops_v2.py:1277: stop (from tensorflow.python.eager.profiler) is deprecated and will be removed after 2020-07-01.\n",
      "Instructions for updating:\n",
      "use `tf.profiler.experimental.stop` instead.\n",
      "196/196 [==============================] - 16s 82ms/step - loss: 2.2409 - accuracy: 0.1452 - val_loss: 2.0526 - val_accuracy: 0.2347\n",
      "Epoch 2/25\n",
      "196/196 [==============================] - 16s 80ms/step - loss: 2.0727 - accuracy: 0.2012 - val_loss: 1.9584 - val_accuracy: 0.2596\n",
      "Epoch 3/25\n",
      "196/196 [==============================] - 13s 67ms/step - loss: 1.9488 - accuracy: 0.2680 - val_loss: 1.8860 - val_accuracy: 0.3072\n",
      "Epoch 4/25\n",
      "196/196 [==============================] - 16s 82ms/step - loss: 1.8691 - accuracy: 0.3175 - val_loss: 1.7580 - val_accuracy: 0.3586\n",
      "Epoch 5/25\n",
      "196/196 [==============================] - 13s 68ms/step - loss: 1.8102 - accuracy: 0.3472 - val_loss: 1.7389 - val_accuracy: 0.3846\n",
      "Epoch 6/25\n",
      "196/196 [==============================] - 13s 68ms/step - loss: 1.7568 - accuracy: 0.3698 - val_loss: 1.7049 - val_accuracy: 0.3982\n",
      "Epoch 7/25\n",
      "196/196 [==============================] - 16s 79ms/step - loss: 1.7200 - accuracy: 0.3826 - val_loss: 1.6717 - val_accuracy: 0.4038\n",
      "Epoch 8/25\n",
      "196/196 [==============================] - 13s 69ms/step - loss: 1.6968 - accuracy: 0.3938 - val_loss: 1.5946 - val_accuracy: 0.4278\n",
      "Epoch 9/25\n",
      "196/196 [==============================] - 16s 82ms/step - loss: 1.6651 - accuracy: 0.4089 - val_loss: 1.5873 - val_accuracy: 0.4334\n",
      "Epoch 10/25\n",
      "196/196 [==============================] - 16s 80ms/step - loss: 1.6415 - accuracy: 0.4131 - val_loss: 1.5881 - val_accuracy: 0.4379\n",
      "Epoch 11/25\n",
      "196/196 [==============================] - 13s 69ms/step - loss: 1.6277 - accuracy: 0.4212 - val_loss: 1.5655 - val_accuracy: 0.4376\n",
      "Epoch 12/25\n",
      "196/196 [==============================] - 13s 65ms/step - loss: 1.6104 - accuracy: 0.4280 - val_loss: 1.5426 - val_accuracy: 0.4503\n",
      "Epoch 13/25\n",
      "196/196 [==============================] - 15s 78ms/step - loss: 1.5942 - accuracy: 0.4337 - val_loss: 1.5614 - val_accuracy: 0.4534\n",
      "Epoch 14/25\n",
      "196/196 [==============================] - 15s 78ms/step - loss: 1.5810 - accuracy: 0.4385 - val_loss: 1.5254 - val_accuracy: 0.4590\n",
      "Epoch 15/25\n",
      "196/196 [==============================] - 13s 67ms/step - loss: 1.5622 - accuracy: 0.4460 - val_loss: 1.5162 - val_accuracy: 0.4587\n",
      "Epoch 16/25\n",
      "196/196 [==============================] - 14s 71ms/step - loss: 1.5561 - accuracy: 0.4483 - val_loss: 1.5185 - val_accuracy: 0.4565\n",
      "Epoch 17/25\n",
      "196/196 [==============================] - 14s 70ms/step - loss: 1.5450 - accuracy: 0.4531 - val_loss: 1.5082 - val_accuracy: 0.4638\n",
      "Epoch 18/25\n",
      "196/196 [==============================] - 16s 83ms/step - loss: 1.5428 - accuracy: 0.4543 - val_loss: 1.4894 - val_accuracy: 0.4715\n",
      "Epoch 19/25\n",
      "196/196 [==============================] - 15s 79ms/step - loss: 1.5260 - accuracy: 0.4586 - val_loss: 1.4725 - val_accuracy: 0.4781\n",
      "Epoch 20/25\n",
      "196/196 [==============================] - 16s 81ms/step - loss: 1.5146 - accuracy: 0.4642 - val_loss: 1.4725 - val_accuracy: 0.4807\n",
      "Epoch 21/25\n",
      "196/196 [==============================] - 17s 88ms/step - loss: 1.5139 - accuracy: 0.4676 - val_loss: 1.4929 - val_accuracy: 0.4659\n",
      "Epoch 22/25\n",
      "196/196 [==============================] - 16s 80ms/step - loss: 1.5016 - accuracy: 0.4696 - val_loss: 1.4804 - val_accuracy: 0.4739\n",
      "Epoch 23/25\n",
      "196/196 [==============================] - 13s 69ms/step - loss: 1.5013 - accuracy: 0.4684 - val_loss: 1.4586 - val_accuracy: 0.4826\n",
      "Epoch 24/25\n",
      "196/196 [==============================] - 13s 69ms/step - loss: 1.4883 - accuracy: 0.4732 - val_loss: 1.4733 - val_accuracy: 0.4764\n",
      "Epoch 25/25\n",
      "196/196 [==============================] - 14s 69ms/step - loss: 1.4837 - accuracy: 0.4753 - val_loss: 1.4707 - val_accuracy: 0.4801\n"
     ]
    }
   ],
   "source": [
    "history = model.fit(x = X_train, y = Y_train, validation_data = (X_test, Y_test),\n",
    "                    epochs = 25, callbacks = [tensorboard_callback], batch_size = batch_size)"
   ]
  },
  {
   "cell_type": "markdown",
   "metadata": {},
   "source": [
    "### Plotting Accuracy and Loss graphs"
   ]
  },
  {
   "cell_type": "code",
   "execution_count": 8,
   "metadata": {
    "ExecuteTime": {
     "end_time": "2020-11-06T21:03:49.031773Z",
     "start_time": "2020-11-06T21:03:48.388567Z"
    }
   },
   "outputs": [
    {
     "data": {
      "image/png": "[encoded data removed]",
      "text/plain": [
       "<Figure size 432x288 with 1 Axes>"
      ]
     },
     "metadata": {
      "needs_background": "light"
     },
     "output_type": "display_data"
    }
   ],
   "source": [
    "#Accuracy Graph\n",
    "plt.plot(history.history['accuracy'])\n",
    "plt.plot(history.history['val_accuracy'])\n",
    "plt.title('Model accuracy')\n",
    "plt.ylabel('Accuracy')\n",
    "plt.xlabel('Epoch')\n",
    "plt.legend(['Train', 'Test'], loc='upper left')\n",
    "plt.show()"
   ]
  },
  {
   "cell_type": "code",
   "execution_count": 9,
   "metadata": {
    "ExecuteTime": {
     "end_time": "2020-11-06T21:03:50.455775Z",
     "start_time": "2020-11-06T21:03:49.303781Z"
    }
   },
   "outputs": [
    {
     "data": {
      "image/png": "[encoded data removed]",
      "text/plain": [
       "<Figure size 432x288 with 1 Axes>"
      ]
     },
     "metadata": {
      "needs_background": "light"
     },
     "output_type": "display_data"
    }
   ],
   "source": [
    "#Loss Graph\n",
    "plt.plot(history.history['loss'])\n",
    "plt.plot(history.history['val_loss'])\n",
    "plt.title('Model loss')\n",
    "plt.ylabel('Loss')\n",
    "plt.xlabel('Epoch')\n",
    "plt.legend(['Train', 'Test'], loc='upper left')\n",
    "plt.show()"
   ]
  },
  {
   "cell_type": "markdown",
   "metadata": {},
   "source": [
    "## Model without Dropout layer"
   ]
  },
  {
   "cell_type": "code",
   "execution_count": 10,
   "metadata": {
    "ExecuteTime": {
     "end_time": "2020-11-06T21:03:51.191478Z",
     "start_time": "2020-11-06T21:03:50.903777Z"
    }
   },
   "outputs": [],
   "source": [
    "model1 = tf.keras.models.Sequential()\n",
    "model1.add(layers.Dense(1024, input_dim = 3072 , activation = 'relu'))\n",
    "model1.add(layers.Dense(512, activation = 'relu'))\n",
    "model1.add(layers.Dense(256, activation = 'relu'))\n",
    "model1.add(layers.Dense(128, activation = 'relu'))\n",
    "model1.add(layers.Dense(10, activation = 'softmax'))"
   ]
  },
  {
   "cell_type": "markdown",
   "metadata": {},
   "source": [
    "### Compile the model with optimizer"
   ]
  },
  {
   "cell_type": "code",
   "execution_count": 11,
   "metadata": {
    "ExecuteTime": {
     "end_time": "2020-11-06T21:03:51.585121Z",
     "start_time": "2020-11-06T21:03:51.497122Z"
    }
   },
   "outputs": [],
   "source": [
    "log_dir_latest = \"logs_dropout/fit_latest/\" + datetime.datetime.now().strftime(\"%Y%m%d-%H%M%S\")\n",
    "tensorboard_callback_latest = tf.keras.callbacks.TensorBoard(log_dir = log_dir_latest, histogram_freq = 1)\n",
    "\n",
    "model1.compile(optimizer= tf.keras.optimizers.Adam(), loss = 'categorical_crossentropy', metrics = ['accuracy'])"
   ]
  },
  {
   "cell_type": "markdown",
   "metadata": {},
   "source": [
    "### Train the model"
   ]
  },
  {
   "cell_type": "code",
   "execution_count": 12,
   "metadata": {
    "ExecuteTime": {
     "end_time": "2020-11-06T21:09:47.750303Z",
     "start_time": "2020-11-06T21:03:59.979458Z"
    }
   },
   "outputs": [
    {
     "name": "stdout",
     "output_type": "stream",
     "text": [
      "Epoch 1/25\n",
      "196/196 [==============================] - 17s 85ms/step - loss: 1.9890 - accuracy: 0.2756 - val_loss: 1.8153 - val_accuracy: 0.3423\n",
      "Epoch 2/25\n",
      "196/196 [==============================] - 14s 74ms/step - loss: 1.7257 - accuracy: 0.3791 - val_loss: 1.6580 - val_accuracy: 0.4041\n",
      "Epoch 3/25\n",
      "196/196 [==============================] - 12s 62ms/step - loss: 1.6353 - accuracy: 0.4156 - val_loss: 1.5820 - val_accuracy: 0.4345\n",
      "Epoch 4/25\n",
      "196/196 [==============================] - 15s 78ms/step - loss: 1.5555 - accuracy: 0.4435 - val_loss: 1.5858 - val_accuracy: 0.4334\n",
      "Epoch 5/25\n",
      "196/196 [==============================] - 17s 87ms/step - loss: 1.5022 - accuracy: 0.4630 - val_loss: 1.5328 - val_accuracy: 0.4485\n",
      "Epoch 6/25\n",
      "196/196 [==============================] - 13s 66ms/step - loss: 1.4571 - accuracy: 0.4805 - val_loss: 1.4808 - val_accuracy: 0.4757\n",
      "Epoch 7/25\n",
      "196/196 [==============================] - 15s 76ms/step - loss: 1.4201 - accuracy: 0.4918 - val_loss: 1.4627 - val_accuracy: 0.4820\n",
      "Epoch 8/25\n",
      "196/196 [==============================] - 12s 63ms/step - loss: 1.3924 - accuracy: 0.5010 - val_loss: 1.4269 - val_accuracy: 0.4908\n",
      "Epoch 9/25\n",
      "196/196 [==============================] - 12s 63ms/step - loss: 1.3544 - accuracy: 0.5151 - val_loss: 1.4370 - val_accuracy: 0.4950\n",
      "Epoch 10/25\n",
      "196/196 [==============================] - 13s 66ms/step - loss: 1.3159 - accuracy: 0.5281 - val_loss: 1.4421 - val_accuracy: 0.4892\n",
      "Epoch 11/25\n",
      "196/196 [==============================] - 15s 77ms/step - loss: 1.2931 - accuracy: 0.5365 - val_loss: 1.4259 - val_accuracy: 0.4976\n",
      "Epoch 12/25\n",
      "196/196 [==============================] - 12s 64ms/step - loss: 1.2795 - accuracy: 0.5428 - val_loss: 1.3720 - val_accuracy: 0.5166\n",
      "Epoch 13/25\n",
      "196/196 [==============================] - 15s 77ms/step - loss: 1.2341 - accuracy: 0.5590 - val_loss: 1.3615 - val_accuracy: 0.5220\n",
      "Epoch 14/25\n",
      "196/196 [==============================] - 13s 64ms/step - loss: 1.2067 - accuracy: 0.5673 - val_loss: 1.4063 - val_accuracy: 0.5032\n",
      "Epoch 15/25\n",
      "196/196 [==============================] - 16s 81ms/step - loss: 1.1769 - accuracy: 0.5772 - val_loss: 1.3918 - val_accuracy: 0.5091\n",
      "Epoch 16/25\n",
      "196/196 [==============================] - 15s 75ms/step - loss: 1.1533 - accuracy: 0.5863 - val_loss: 1.3515 - val_accuracy: 0.5257\n",
      "Epoch 17/25\n",
      "196/196 [==============================] - 14s 73ms/step - loss: 1.1195 - accuracy: 0.5984 - val_loss: 1.3476 - val_accuracy: 0.5224\n",
      "Epoch 18/25\n",
      "196/196 [==============================] - 12s 61ms/step - loss: 1.0917 - accuracy: 0.6077 - val_loss: 1.4226 - val_accuracy: 0.5141\n",
      "Epoch 19/25\n",
      "196/196 [==============================] - 12s 61ms/step - loss: 1.0714 - accuracy: 0.6129 - val_loss: 1.3544 - val_accuracy: 0.5270\n",
      "Epoch 20/25\n",
      "196/196 [==============================] - 12s 61ms/step - loss: 1.0342 - accuracy: 0.6279 - val_loss: 1.3823 - val_accuracy: 0.5251\n",
      "Epoch 21/25\n",
      "196/196 [==============================] - 15s 77ms/step - loss: 1.0015 - accuracy: 0.6398 - val_loss: 1.3785 - val_accuracy: 0.5370\n",
      "Epoch 22/25\n",
      "196/196 [==============================] - 12s 62ms/step - loss: 0.9735 - accuracy: 0.6495 - val_loss: 1.4279 - val_accuracy: 0.5262\n",
      "Epoch 23/25\n",
      "196/196 [==============================] - 12s 61ms/step - loss: 0.9495 - accuracy: 0.6569 - val_loss: 1.4624 - val_accuracy: 0.5087\n",
      "Epoch 24/25\n",
      "196/196 [==============================] - 13s 65ms/step - loss: 0.9259 - accuracy: 0.6663 - val_loss: 1.4542 - val_accuracy: 0.5142\n",
      "Epoch 25/25\n",
      "196/196 [==============================] - 15s 76ms/step - loss: 0.8919 - accuracy: 0.6795 - val_loss: 1.4713 - val_accuracy: 0.5193\n"
     ]
    }
   ],
   "source": [
    "history1 = model1.fit(x = X_train, y = Y_train, validation_data = (X_test, Y_test),\n",
    "                    epochs = 25, callbacks = [tensorboard_callback_latest], batch_size = batch_size)"
   ]
  },
  {
   "cell_type": "markdown",
   "metadata": {},
   "source": [
    "### Plotting Accuracy and Loss Graphs"
   ]
  },
  {
   "cell_type": "code",
   "execution_count": 13,
   "metadata": {
    "ExecuteTime": {
     "end_time": "2020-11-06T21:09:48.134305Z",
     "start_time": "2020-11-06T21:09:47.918302Z"
    }
   },
   "outputs": [
    {
     "data": {
      "image/png": "[encoded data removed]",
      "text/plain": [
       "<Figure size 432x288 with 1 Axes>"
      ]
     },
     "metadata": {
      "needs_background": "light"
     },
     "output_type": "display_data"
    }
   ],
   "source": [
    "#Accuracy Graph\n",
    "plt.plot(history1.history['accuracy'])\n",
    "plt.plot(history1.history['val_accuracy'])\n",
    "plt.title('Model accuracy')\n",
    "plt.ylabel('Accuracy')\n",
    "plt.xlabel('Epoch')\n",
    "plt.legend(['Train', 'Test'], loc='upper left')\n",
    "plt.show()"
   ]
  },
  {
   "cell_type": "code",
   "execution_count": 14,
   "metadata": {
    "ExecuteTime": {
     "end_time": "2020-11-06T21:09:48.894314Z",
     "start_time": "2020-11-06T21:09:48.310306Z"
    }
   },
   "outputs": [
    {
     "data": {
      "image/png": "[encoded data removed]",
      "text/plain": [
       "<Figure size 432x288 with 1 Axes>"
      ]
     },
     "metadata": {
      "needs_background": "light"
     },
     "output_type": "display_data"
    }
   ],
   "source": [
    "#Loss Graph\n",
    "plt.plot(history1.history['loss'])\n",
    "plt.plot(history1.history['val_loss'])\n",
    "plt.title('Model loss')\n",
    "plt.ylabel('Loss')\n",
    "plt.xlabel('Epoch')\n",
    "plt.legend(['Train', 'Test'], loc='upper left')\n",
    "plt.show()"
   ]
  },
  {
   "cell_type": "markdown",
   "metadata": {},
   "source": [
    "## For a small network we are not able to visualize a difference in training time. Usually a network with Dropout will take around 2x to 2.5x times than a network without Dropout. Here the Dropout Network took 6m 12s and the Non-Dropout network took 5m 48s for 25 epochs.\n",
    "\n",
    "## But the striking difference we can observe is the Test Accuracy & Test Loss is way better in the network with Dropout than the other network. The Train & Test Curves are almost nearer to each other and preventing overfitting of the network\n",
    "\n",
    "## Note: Here we demonstrate only the affect of Dropout, and not focusing on improving the capacity of the network, which can be done by adding proper Regularization, BatchNormalization and Augmentation in a Bigger and better CNN approach network "
   ]
  }
 ],
 "metadata": {
  "kernelspec": {
   "display_name": "Python 3",
   "language": "python",
   "name": "python3"
  },
  "language_info": {
   "codemirror_mode": {
    "name": "ipython",
    "version": 3
   },
   "file_extension": ".py",
   "mimetype": "text/x-python",
   "name": "python",
   "nbconvert_exporter": "python",
   "pygments_lexer": "ipython3",
   "version": "3.7.6"
  },
  "varInspector": {
   "cols": {
    "lenName": 16,
    "lenType": 16,
    "lenVar": 40
   },
   "kernels_config": {
    "python": {
     "delete_cmd_postfix": "",
     "delete_cmd_prefix": "del ",
     "library": "var_list.py",
     "varRefreshCmd": "print(var_dic_list())"
    },
    "r": {
     "delete_cmd_postfix": ") ",
     "delete_cmd_prefix": "rm(",
     "library": "var_list.r",
     "varRefreshCmd": "cat(var_dic_list()) "
    }
   },
   "types_to_exclude": [
    "module",
    "function",
    "builtin_function_or_method",
    "instance",
    "_Feature"
   ],
   "window_display": false
  }
 },
 "nbformat": 4,
 "nbformat_minor": 4
}
