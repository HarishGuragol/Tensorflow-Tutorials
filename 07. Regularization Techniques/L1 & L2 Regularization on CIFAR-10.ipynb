{
 "cells": [
  {
   "cell_type": "markdown",
   "metadata": {},
   "source": [
    "### Import packages "
   ]
  },
  {
   "cell_type": "code",
   "execution_count": 1,
   "metadata": {
    "ExecuteTime": {
     "end_time": "2020-11-06T21:32:23.723718Z",
     "start_time": "2020-11-06T21:32:13.414490Z"
    }
   },
   "outputs": [],
   "source": [
    "#Importing packages\n",
    "import time\n",
    "import datetime\n",
    "import numpy as np\n",
    "import tensorflow as tf\n",
    "import matplotlib.pyplot as plt\n",
    "from tensorflow.keras import regularizers\n",
    "from tensorflow.keras.datasets import cifar10\n",
    "from tensorflow.keras.utils import to_categorical\n",
    "from tensorflow.keras import Model, layers, Input"
   ]
  },
  {
   "cell_type": "markdown",
   "metadata": {},
   "source": [
    "### Define the Hyperparameter & Data info"
   ]
  },
  {
   "cell_type": "code",
   "execution_count": 2,
   "metadata": {
    "ExecuteTime": {
     "end_time": "2020-11-06T21:32:30.819257Z",
     "start_time": "2020-11-06T21:32:30.787254Z"
    }
   },
   "outputs": [],
   "source": [
    "#Learning Rate, Iterations, Batch Size Hyperparameters\n",
    "learning_rate = 0.001\n",
    "iterations = 40000\n",
    "batch_size = 256\n",
    "#dropout = 0.5\n",
    "#epochs = 10"
   ]
  },
  {
   "cell_type": "markdown",
   "metadata": {},
   "source": [
    "### Load CIFAR-10 Data"
   ]
  },
  {
   "cell_type": "code",
   "execution_count": 3,
   "metadata": {
    "ExecuteTime": {
     "end_time": "2020-11-06T21:32:34.200945Z",
     "start_time": "2020-11-06T21:32:31.712871Z"
    }
   },
   "outputs": [],
   "source": [
    "#CIFAR-10 Dataset has 60000 images of common objects, 6k images per class and 10 classes in total\n",
    "(X_train, Y_train), (X_test, Y_test) = cifar10.load_data()"
   ]
  },
  {
   "cell_type": "markdown",
   "metadata": {},
   "source": [
    "### Data Preparation"
   ]
  },
  {
   "cell_type": "code",
   "execution_count": 4,
   "metadata": {
    "ExecuteTime": {
     "end_time": "2020-11-06T21:32:38.493052Z",
     "start_time": "2020-11-06T21:32:35.452768Z"
    }
   },
   "outputs": [
    {
     "name": "stdout",
     "output_type": "stream",
     "text": [
      "(50000, 3072)\n",
      "(50000, 10)\n",
      "(10000, 3072)\n",
      "(10000, 10)\n"
     ]
    }
   ],
   "source": [
    "#Convert to float type\n",
    "X_train, X_test = np.array(X_train, np.float32), np.array(X_test, np.float32)\n",
    "\n",
    "#Flatten images to 1-D vector of 3072 features (32*32*3)\n",
    "X_train, X_test = X_train.reshape([-1, 3072]), X_test.reshape([-1, 3072])\n",
    "\n",
    "#One hot encoding of labels\n",
    "Y_train = to_categorical(Y_train, 10)\n",
    "Y_test = to_categorical(Y_test, 10)\n",
    "\n",
    "#Normalization of images\n",
    "X_train = X_train / 255.\n",
    "X_test = X_test / 255.\n",
    "\n",
    "#Use Tensorflow data for shuffling and fetching it batchwise\n",
    "train_data = tf.data.Dataset.from_tensor_slices((X_train, Y_train))\n",
    "train_data = train_data.repeat().shuffle(5000).batch(batch_size).prefetch(1)\n",
    "\n",
    "print(X_train.shape)\n",
    "print(Y_train.shape)\n",
    "print(X_test.shape)\n",
    "print(Y_test.shape)"
   ]
  },
  {
   "cell_type": "markdown",
   "metadata": {},
   "source": [
    "## Define the model, Using L2 Regularizer \n",
    "### We will see the graphs later to understand the difference of adding Dropout"
   ]
  },
  {
   "cell_type": "code",
   "execution_count": 5,
   "metadata": {
    "ExecuteTime": {
     "end_time": "2020-11-06T21:32:39.381094Z",
     "start_time": "2020-11-06T21:32:38.837048Z"
    }
   },
   "outputs": [],
   "source": [
    "model = tf.keras.models.Sequential()\n",
    "model.add(layers.Dense(1024, input_dim = 3072 , activation = 'relu'))\n",
    "model.add(layers.Dense(512, activation = 'relu', kernel_regularizer = regularizers.L2(0.01)))\n",
    "model.add(layers.Dense(256, activation = 'relu', kernel_regularizer = regularizers.L2(0.01)))\n",
    "model.add(layers.Dense(128, activation = 'relu', kernel_regularizer = regularizers.L2(0.01)))\n",
    "model.add(layers.Dense(10, activation = 'softmax'))"
   ]
  },
  {
   "cell_type": "markdown",
   "metadata": {},
   "source": [
    "### Compile the model with optimizer"
   ]
  },
  {
   "cell_type": "code",
   "execution_count": 6,
   "metadata": {
    "ExecuteTime": {
     "end_time": "2020-11-06T21:32:43.389643Z",
     "start_time": "2020-11-06T21:32:43.333647Z"
    }
   },
   "outputs": [],
   "source": [
    "log_dir = \"logs_l2/fit/\" + datetime.datetime.now().strftime(\"%Y%m%d-%H%M%S\")\n",
    "tensorboard_callback = tf.keras.callbacks.TensorBoard(log_dir = log_dir, histogram_freq = 1)\n",
    "\n",
    "model.compile(optimizer= tf.keras.optimizers.Adam(), loss = 'categorical_crossentropy', metrics = ['accuracy'])"
   ]
  },
  {
   "cell_type": "markdown",
   "metadata": {},
   "source": [
    "### Train the model"
   ]
  },
  {
   "cell_type": "code",
   "execution_count": 7,
   "metadata": {
    "ExecuteTime": {
     "end_time": "2020-11-06T21:38:55.889779Z",
     "start_time": "2020-11-06T21:32:53.207462Z"
    }
   },
   "outputs": [
    {
     "name": "stdout",
     "output_type": "stream",
     "text": [
      "Epoch 1/25\n",
      "  1/196 [..............................] - ETA: 0s - loss: 14.3011 - accuracy: 0.0820WARNING:tensorflow:From C:\\Users\\Pranav\\anaconda3\\lib\\site-packages\\tensorflow\\python\\ops\\summary_ops_v2.py:1277: stop (from tensorflow.python.eager.profiler) is deprecated and will be removed after 2020-07-01.\n",
      "Instructions for updating:\n",
      "use `tf.profiler.experimental.stop` instead.\n",
      "196/196 [==============================] - 15s 79ms/step - loss: 4.6478 - accuracy: 0.2884 - val_loss: 2.6097 - val_accuracy: 0.3209\n",
      "Epoch 2/25\n",
      "196/196 [==============================] - 16s 82ms/step - loss: 2.2329 - accuracy: 0.3719 - val_loss: 2.0433 - val_accuracy: 0.3808\n",
      "Epoch 3/25\n",
      "196/196 [==============================] - 13s 65ms/step - loss: 1.9322 - accuracy: 0.3994 - val_loss: 1.9393 - val_accuracy: 0.3784\n",
      "Epoch 4/25\n",
      "196/196 [==============================] - 13s 65ms/step - loss: 1.8053 - accuracy: 0.4172 - val_loss: 1.7522 - val_accuracy: 0.4236\n",
      "Epoch 5/25\n",
      "196/196 [==============================] - 15s 77ms/step - loss: 1.7285 - accuracy: 0.4299 - val_loss: 1.6977 - val_accuracy: 0.4320\n",
      "Epoch 6/25\n",
      "196/196 [==============================] - 15s 78ms/step - loss: 1.6726 - accuracy: 0.4420 - val_loss: 1.6549 - val_accuracy: 0.4483\n",
      "Epoch 7/25\n",
      "196/196 [==============================] - 13s 66ms/step - loss: 1.6306 - accuracy: 0.4582 - val_loss: 1.6026 - val_accuracy: 0.4677\n",
      "Epoch 8/25\n",
      "196/196 [==============================] - 13s 66ms/step - loss: 1.6123 - accuracy: 0.4605 - val_loss: 1.5901 - val_accuracy: 0.4718\n",
      "Epoch 9/25\n",
      "196/196 [==============================] - 13s 68ms/step - loss: 1.5870 - accuracy: 0.4693 - val_loss: 1.5938 - val_accuracy: 0.4642\n",
      "Epoch 10/25\n",
      "196/196 [==============================] - 16s 81ms/step - loss: 1.5510 - accuracy: 0.4823 - val_loss: 1.5731 - val_accuracy: 0.4746\n",
      "Epoch 11/25\n",
      "196/196 [==============================] - 14s 69ms/step - loss: 1.5390 - accuracy: 0.4859 - val_loss: 1.5420 - val_accuracy: 0.4867\n",
      "Epoch 12/25\n",
      "196/196 [==============================] - 14s 71ms/step - loss: 1.5186 - accuracy: 0.4946 - val_loss: 1.5934 - val_accuracy: 0.4752\n",
      "Epoch 13/25\n",
      "196/196 [==============================] - 13s 68ms/step - loss: 1.5001 - accuracy: 0.5026 - val_loss: 1.5325 - val_accuracy: 0.48810s - los\n",
      "Epoch 14/25\n",
      "196/196 [==============================] - 14s 70ms/step - loss: 1.4907 - accuracy: 0.5065 - val_loss: 1.5499 - val_accuracy: 0.4791\n",
      "Epoch 15/25\n",
      "196/196 [==============================] - 13s 68ms/step - loss: 1.4643 - accuracy: 0.5159 - val_loss: 1.5180 - val_accuracy: 0.4901\n",
      "Epoch 16/25\n",
      "196/196 [==============================] - 15s 77ms/step - loss: 1.4525 - accuracy: 0.5180 - val_loss: 1.5082 - val_accuracy: 0.5058\n",
      "Epoch 17/25\n",
      "196/196 [==============================] - 15s 78ms/step - loss: 1.4407 - accuracy: 0.5236 - val_loss: 1.4957 - val_accuracy: 0.4991\n",
      "Epoch 18/25\n",
      "196/196 [==============================] - 15s 79ms/step - loss: 1.4300 - accuracy: 0.5257 - val_loss: 1.4752 - val_accuracy: 0.5099\n",
      "Epoch 19/25\n",
      "196/196 [==============================] - 15s 78ms/step - loss: 1.4164 - accuracy: 0.5320 - val_loss: 1.5387 - val_accuracy: 0.4877\n",
      "Epoch 20/25\n",
      "196/196 [==============================] - 13s 67ms/step - loss: 1.3986 - accuracy: 0.5368 - val_loss: 1.5168 - val_accuracy: 0.5033\n",
      "Epoch 21/25\n",
      "196/196 [==============================] - 15s 78ms/step - loss: 1.3837 - accuracy: 0.5451 - val_loss: 1.4747 - val_accuracy: 0.5081\n",
      "Epoch 22/25\n",
      "196/196 [==============================] - 16s 83ms/step - loss: 1.3773 - accuracy: 0.5473 - val_loss: 1.4558 - val_accuracy: 0.5173\n",
      "Epoch 23/25\n",
      "196/196 [==============================] - 16s 80ms/step - loss: 1.3645 - accuracy: 0.5519 - val_loss: 1.4388 - val_accuracy: 0.5308\n",
      "Epoch 24/25\n",
      "196/196 [==============================] - 13s 67ms/step - loss: 1.3543 - accuracy: 0.5559 - val_loss: 1.4769 - val_accuracy: 0.5068\n",
      "Epoch 25/25\n",
      "196/196 [==============================] - 13s 67ms/step - loss: 1.3453 - accuracy: 0.5566 - val_loss: 1.4532 - val_accuracy: 0.5183\n"
     ]
    }
   ],
   "source": [
    "history = model.fit(x = X_train, y = Y_train, validation_data = (X_test, Y_test),\n",
    "                    epochs = 25, callbacks = [tensorboard_callback], batch_size = batch_size)"
   ]
  },
  {
   "cell_type": "markdown",
   "metadata": {},
   "source": [
    "### Plotting Accuracy and Loss graphs"
   ]
  },
  {
   "cell_type": "code",
   "execution_count": 8,
   "metadata": {
    "ExecuteTime": {
     "end_time": "2020-11-06T21:39:06.372740Z",
     "start_time": "2020-11-06T21:39:05.844739Z"
    }
   },
   "outputs": [
    {
     "data": {
      "image/png": "[encoded data removed]",
      "text/plain": [
       "<Figure size 432x288 with 1 Axes>"
      ]
     },
     "metadata": {
      "needs_background": "light"
     },
     "output_type": "display_data"
    }
   ],
   "source": [
    "#Accuracy Graph\n",
    "plt.plot(history.history['accuracy'])\n",
    "plt.plot(history.history['val_accuracy'])\n",
    "plt.title('Model accuracy')\n",
    "plt.ylabel('Accuracy')\n",
    "plt.xlabel('Epoch')\n",
    "plt.legend(['Train', 'Test'], loc='upper left')\n",
    "plt.show()"
   ]
  },
  {
   "cell_type": "code",
   "execution_count": 9,
   "metadata": {
    "ExecuteTime": {
     "end_time": "2020-11-06T21:39:09.607206Z",
     "start_time": "2020-11-06T21:39:09.023166Z"
    }
   },
   "outputs": [
    {
     "data": {
      "image/png": "[encoded data removed]",
      "text/plain": [
       "<Figure size 432x288 with 1 Axes>"
      ]
     },
     "metadata": {
      "needs_background": "light"
     },
     "output_type": "display_data"
    }
   ],
   "source": [
    "#Loss Graph\n",
    "plt.plot(history.history['loss'])\n",
    "plt.plot(history.history['val_loss'])\n",
    "plt.title('Model loss')\n",
    "plt.ylabel('Loss')\n",
    "plt.xlabel('Epoch')\n",
    "plt.legend(['Train', 'Test'], loc='upper left')\n",
    "plt.show()"
   ]
  },
  {
   "cell_type": "code",
   "execution_count": 10,
   "metadata": {
    "ExecuteTime": {
     "end_time": "2020-11-06T21:39:20.319764Z",
     "start_time": "2020-11-06T21:39:15.390706Z"
    }
   },
   "outputs": [
    {
     "name": "stdout",
     "output_type": "stream",
     "text": [
      "313/313 [==============================] - 5s 15ms/step - loss: 1.4532 - accuracy: 0.5183\n"
     ]
    },
    {
     "data": {
      "text/plain": [
       "[1.4532421827316284, 0.5182999968528748]"
      ]
     },
     "execution_count": 10,
     "metadata": {},
     "output_type": "execute_result"
    }
   ],
   "source": [
    "model.evaluate(X_test, Y_test)"
   ]
  },
  {
   "cell_type": "markdown",
   "metadata": {},
   "source": [
    "## Model without L2 Regularizer"
   ]
  },
  {
   "cell_type": "code",
   "execution_count": 11,
   "metadata": {
    "ExecuteTime": {
     "end_time": "2020-11-06T21:39:23.148841Z",
     "start_time": "2020-11-06T21:39:22.868767Z"
    }
   },
   "outputs": [],
   "source": [
    "model1 = tf.keras.models.Sequential()\n",
    "model1.add(layers.Dense(1024, input_dim = 3072 , activation = 'relu'))\n",
    "model1.add(layers.Dense(512, activation = 'relu'))\n",
    "model1.add(layers.Dense(256, activation = 'relu'))\n",
    "model1.add(layers.Dense(128, activation = 'relu'))\n",
    "model1.add(layers.Dense(10, activation = 'softmax'))"
   ]
  },
  {
   "cell_type": "markdown",
   "metadata": {},
   "source": [
    "### Compile the model with optimizer"
   ]
  },
  {
   "cell_type": "code",
   "execution_count": 12,
   "metadata": {
    "ExecuteTime": {
     "end_time": "2020-11-06T21:39:25.398734Z",
     "start_time": "2020-11-06T21:39:25.342722Z"
    }
   },
   "outputs": [],
   "source": [
    "log_dir_latest = \"logs_l2/fit_latest/\" + datetime.datetime.now().strftime(\"%Y%m%d-%H%M%S\")\n",
    "tensorboard_callback_latest = tf.keras.callbacks.TensorBoard(log_dir = log_dir_latest, histogram_freq = 1)\n",
    "\n",
    "model1.compile(optimizer= tf.keras.optimizers.Adam(), loss = 'categorical_crossentropy', metrics = ['accuracy'])"
   ]
  },
  {
   "cell_type": "markdown",
   "metadata": {},
   "source": [
    "### Train the model"
   ]
  },
  {
   "cell_type": "code",
   "execution_count": 13,
   "metadata": {
    "ExecuteTime": {
     "end_time": "2020-11-06T21:45:14.201351Z",
     "start_time": "2020-11-06T21:39:26.682105Z"
    }
   },
   "outputs": [
    {
     "name": "stdout",
     "output_type": "stream",
     "text": [
      "Epoch 1/25\n",
      "196/196 [==============================] - 16s 81ms/step - loss: 1.9568 - accuracy: 0.2888 - val_loss: 1.7854 - val_accuracy: 0.3539\n",
      "Epoch 2/25\n",
      "196/196 [==============================] - 13s 64ms/step - loss: 1.6977 - accuracy: 0.3936 - val_loss: 1.7045 - val_accuracy: 0.39210s - los\n",
      "Epoch 3/25\n",
      "196/196 [==============================] - 13s 65ms/step - loss: 1.6063 - accuracy: 0.4277 - val_loss: 1.6036 - val_accuracy: 0.4258\n",
      "Epoch 4/25\n",
      "196/196 [==============================] - 15s 75ms/step - loss: 1.5427 - accuracy: 0.4489 - val_loss: 1.5043 - val_accuracy: 0.4654\n",
      "Epoch 5/25\n",
      "196/196 [==============================] - 12s 63ms/step - loss: 1.4992 - accuracy: 0.4647 - val_loss: 1.5071 - val_accuracy: 0.4681\n",
      "Epoch 6/25\n",
      "196/196 [==============================] - 15s 75ms/step - loss: 1.4585 - accuracy: 0.4765 - val_loss: 1.4844 - val_accuracy: 0.4747\n",
      "Epoch 7/25\n",
      "196/196 [==============================] - 12s 63ms/step - loss: 1.4191 - accuracy: 0.4948 - val_loss: 1.4817 - val_accuracy: 0.4730\n",
      "Epoch 8/25\n",
      "196/196 [==============================] - 13s 68ms/step - loss: 1.3820 - accuracy: 0.5088 - val_loss: 1.4708 - val_accuracy: 0.4804\n",
      "Epoch 9/25\n",
      "196/196 [==============================] - 12s 62ms/step - loss: 1.3577 - accuracy: 0.5163 - val_loss: 1.4008 - val_accuracy: 0.5008\n",
      "Epoch 10/25\n",
      "196/196 [==============================] - 16s 79ms/step - loss: 1.3278 - accuracy: 0.5271 - val_loss: 1.4575 - val_accuracy: 0.4864\n",
      "Epoch 11/25\n",
      "196/196 [==============================] - 14s 71ms/step - loss: 1.2970 - accuracy: 0.5370 - val_loss: 1.3908 - val_accuracy: 0.5191\n",
      "Epoch 12/25\n",
      "196/196 [==============================] - 15s 75ms/step - loss: 1.2710 - accuracy: 0.5454 - val_loss: 1.3975 - val_accuracy: 0.5102\n",
      "Epoch 13/25\n",
      "196/196 [==============================] - 12s 63ms/step - loss: 1.2433 - accuracy: 0.5563 - val_loss: 1.3599 - val_accuracy: 0.5109\n",
      "Epoch 14/25\n",
      "196/196 [==============================] - 13s 66ms/step - loss: 1.2081 - accuracy: 0.5647 - val_loss: 1.3643 - val_accuracy: 0.5175\n",
      "Epoch 15/25\n",
      "196/196 [==============================] - 13s 67ms/step - loss: 1.1865 - accuracy: 0.5757 - val_loss: 1.3642 - val_accuracy: 0.5203\n",
      "Epoch 16/25\n",
      "196/196 [==============================] - 16s 80ms/step - loss: 1.1601 - accuracy: 0.5838 - val_loss: 1.3891 - val_accuracy: 0.5167\n",
      "Epoch 17/25\n",
      "196/196 [==============================] - 13s 64ms/step - loss: 1.1224 - accuracy: 0.5979 - val_loss: 1.3563 - val_accuracy: 0.5204\n",
      "Epoch 18/25\n",
      "196/196 [==============================] - 12s 63ms/step - loss: 1.0961 - accuracy: 0.6077 - val_loss: 1.3617 - val_accuracy: 0.5302\n",
      "Epoch 19/25\n",
      "196/196 [==============================] - 15s 75ms/step - loss: 1.0660 - accuracy: 0.6187 - val_loss: 1.4357 - val_accuracy: 0.5081\n",
      "Epoch 20/25\n",
      "196/196 [==============================] - 13s 64ms/step - loss: 1.0460 - accuracy: 0.6238 - val_loss: 1.3705 - val_accuracy: 0.5348\n",
      "Epoch 21/25\n",
      "196/196 [==============================] - 12s 64ms/step - loss: 1.0143 - accuracy: 0.6358 - val_loss: 1.3847 - val_accuracy: 0.5333\n",
      "Epoch 22/25\n",
      "196/196 [==============================] - 15s 75ms/step - loss: 0.9815 - accuracy: 0.6461 - val_loss: 1.4076 - val_accuracy: 0.5285\n",
      "Epoch 23/25\n",
      "196/196 [==============================] - 15s 77ms/step - loss: 0.9525 - accuracy: 0.6584 - val_loss: 1.4242 - val_accuracy: 0.5351\n",
      "Epoch 24/25\n",
      "196/196 [==============================] - 13s 66ms/step - loss: 0.9150 - accuracy: 0.6725 - val_loss: 1.4767 - val_accuracy: 0.5210\n",
      "Epoch 25/25\n",
      "196/196 [==============================] - 16s 83ms/step - loss: 0.8964 - accuracy: 0.6773 - val_loss: 1.4258 - val_accuracy: 0.5351\n"
     ]
    }
   ],
   "source": [
    "history1 = model1.fit(x = X_train, y = Y_train, validation_data = (X_test, Y_test),\n",
    "                    epochs = 25, callbacks = [tensorboard_callback_latest], batch_size = batch_size)"
   ]
  },
  {
   "cell_type": "markdown",
   "metadata": {},
   "source": [
    "### Plotting Accuracy and Loss Graphs"
   ]
  },
  {
   "cell_type": "code",
   "execution_count": 14,
   "metadata": {
    "ExecuteTime": {
     "end_time": "2020-11-06T21:45:24.877122Z",
     "start_time": "2020-11-06T21:45:24.357120Z"
    }
   },
   "outputs": [
    {
     "data": {
      "image/png": "[encoded data removed]",
      "text/plain": [
       "<Figure size 432x288 with 1 Axes>"
      ]
     },
     "metadata": {
      "needs_background": "light"
     },
     "output_type": "display_data"
    }
   ],
   "source": [
    "#Accuracy Graph\n",
    "plt.plot(history1.history['accuracy'])\n",
    "plt.plot(history1.history['val_accuracy'])\n",
    "plt.title('Model accuracy')\n",
    "plt.ylabel('Accuracy')\n",
    "plt.xlabel('Epoch')\n",
    "plt.legend(['Train', 'Test'], loc='upper left')\n",
    "plt.show()"
   ]
  },
  {
   "cell_type": "code",
   "execution_count": 15,
   "metadata": {
    "ExecuteTime": {
     "end_time": "2020-11-06T21:45:35.092255Z",
     "start_time": "2020-11-06T21:45:34.436256Z"
    }
   },
   "outputs": [
    {
     "data": {
      "image/png": "[encoded data removed]",
      "text/plain": [
       "<Figure size 432x288 with 1 Axes>"
      ]
     },
     "metadata": {
      "needs_background": "light"
     },
     "output_type": "display_data"
    }
   ],
   "source": [
    "#Loss Graph\n",
    "plt.plot(history1.history['loss'])\n",
    "plt.plot(history1.history['val_loss'])\n",
    "plt.title('Model loss')\n",
    "plt.ylabel('Loss')\n",
    "plt.xlabel('Epoch')\n",
    "plt.legend(['Train', 'Test'], loc='upper left')\n",
    "plt.show()"
   ]
  },
  {
   "cell_type": "code",
   "execution_count": 16,
   "metadata": {
    "ExecuteTime": {
     "end_time": "2020-11-06T21:45:42.948685Z",
     "start_time": "2020-11-06T21:45:37.684398Z"
    }
   },
   "outputs": [
    {
     "name": "stdout",
     "output_type": "stream",
     "text": [
      "313/313 [==============================] - 5s 16ms/step - loss: 1.4258 - accuracy: 0.5351\n"
     ]
    },
    {
     "data": {
      "text/plain": [
       "[1.4257856607437134, 0.535099983215332]"
      ]
     },
     "execution_count": 16,
     "metadata": {},
     "output_type": "execute_result"
    }
   ],
   "source": [
    "model1.evaluate(X_test, Y_test)"
   ]
  },
  {
   "cell_type": "markdown",
   "metadata": {},
   "source": [
    "## Note: Here we demonstrate only the affect of L2 Regularizer, and not focusing on improving the capacity of the network, which can be done by adding proper Regularization, BatchNormalization and Augmentation in a Bigger and better CNN approach network "
   ]
  }
 ],
 "metadata": {
  "kernelspec": {
   "display_name": "Python 3",
   "language": "python",
   "name": "python3"
  },
  "language_info": {
   "codemirror_mode": {
    "name": "ipython",
    "version": 3
   },
   "file_extension": ".py",
   "mimetype": "text/x-python",
   "name": "python",
   "nbconvert_exporter": "python",
   "pygments_lexer": "ipython3",
   "version": "3.7.6"
  },
  "varInspector": {
   "cols": {
    "lenName": 16,
    "lenType": 16,
    "lenVar": 40
   },
   "kernels_config": {
    "python": {
     "delete_cmd_postfix": "",
     "delete_cmd_prefix": "del ",
     "library": "var_list.py",
     "varRefreshCmd": "print(var_dic_list())"
    },
    "r": {
     "delete_cmd_postfix": ") ",
     "delete_cmd_prefix": "rm(",
     "library": "var_list.r",
     "varRefreshCmd": "cat(var_dic_list()) "
    }
   },
   "types_to_exclude": [
    "module",
    "function",
    "builtin_function_or_method",
    "instance",
    "_Feature"
   ],
   "window_display": false
  }
 },
 "nbformat": 4,
 "nbformat_minor": 4
}
