{
 "cells": [
  {
   "cell_type": "markdown",
   "metadata": {},
   "source": [
    "### Defining a model using Keras Sub-Classing technique"
   ]
  },
  {
   "cell_type": "code",
   "execution_count": 1,
   "metadata": {},
   "outputs": [],
   "source": [
    "import tensorflow as tf"
   ]
  },
  {
   "cell_type": "code",
   "execution_count": 2,
   "metadata": {},
   "outputs": [],
   "source": [
    "class MyModel(tf.keras.Model):\n",
    "    def __init__(self, num_classes = 10):\n",
    "        super(MyModel, self).__init__()\n",
    "   \n",
    "    #Define your layers here\n",
    "        inputs = tf.keras.Input(shape = (28, 28))  \n",
    "        self.l1 = tf.keras.layers.Flatten()\n",
    "        self.l2 = tf.keras.layers.Dense(512, activation = 'relu', name = 'dense1')\n",
    "        self.l3 = tf.keras.layers.Dropout(0.2)\n",
    "        self.final = tf.keras.layers.Dense(10, activation = tf.nn.softmax, name = 'output1')\n",
    "    \n",
    "    def call(self, inputs):\n",
    "    #Define the forward pass\n",
    "        x = self.l1(inputs)\n",
    "        x = self.l2(x)\n",
    "        x = self.l3(x)\n",
    "        return self.final(x)"
   ]
  },
  {
   "cell_type": "code",
   "execution_count": 3,
   "metadata": {},
   "outputs": [],
   "source": [
    "model = MyModel()\n",
    "model.compile(optimizer= tf.keras.optimizers.Adam(), loss = 'sparse_categorical_crossentropy', metrics = ['accuracy'])\n",
    "#model.summary()\n",
    "#model.fit(x, y)"
   ]
  },
  {
   "cell_type": "markdown",
   "metadata": {},
   "source": [
    "### Defining a model using Keras Functional API"
   ]
  },
  {
   "cell_type": "code",
   "execution_count": 4,
   "metadata": {},
   "outputs": [],
   "source": [
    "#Using Keras Functional API\n",
    "inputs = tf.keras.Input(shape = (28,28))  \n",
    "x = tf.keras.layers.Flatten()(inputs)\n",
    "x = tf.keras.layers.Dense(512, activation='relu', name = 'dense2')(x)\n",
    "x = tf.keras.layers.Dropout(0.2)(x)\n",
    "final = tf.keras.layers.Dense(10, activation = tf.nn.softmax, name = 'output2')(x)"
   ]
  },
  {
   "cell_type": "code",
   "execution_count": 5,
   "metadata": {},
   "outputs": [],
   "source": [
    "model_1 = tf.keras.Model(inputs = inputs, outputs = final)\n",
    "model_1.compile(optimizer= tf.keras.optimizers.Adam(), loss = 'sparse_categorical_crossentropy', metrics = ['accuracy'])\n",
    "#model_1.summary()\n",
    "#model_1.fit(x, y)"
   ]
  },
  {
   "cell_type": "markdown",
   "metadata": {},
   "source": [
    "### Defining a model using Sequential : Method 1"
   ]
  },
  {
   "cell_type": "code",
   "execution_count": 6,
   "metadata": {},
   "outputs": [],
   "source": [
    "#Using Sequential \n",
    "model_2 = tf.keras.models.Sequential([\n",
    " tf.keras.layers.Flatten(),\n",
    " tf.keras.layers.Dense(512, activation = tf.nn.relu, name = 'dense2'),\n",
    " tf.keras.layers.Dropout(0.2),\n",
    " tf.keras.layers.Dense(10, activation = tf.nn.softmax, name = 'output2')\n",
    "])\n",
    "model_2.compile(optimizer= tf.keras.optimizers.Adam(), loss = 'sparse_categorical_crossentropy', metrics = ['accuracy'])\n",
    "#model_2.summary()\n",
    "#model_2.fit(x, y)"
   ]
  },
  {
   "cell_type": "markdown",
   "metadata": {},
   "source": [
    "### Defining a model using Sequential : Method 2"
   ]
  },
  {
   "cell_type": "code",
   "execution_count": 7,
   "metadata": {},
   "outputs": [],
   "source": [
    "#Using Sequential\n",
    "model_3 = tf.keras.models.Sequential()\n",
    "model_3.add(tf.keras.layers.Flatten())\n",
    "model_3.add(tf.keras.layers.Dense(512, activation='relu', name = 'dense3'))\n",
    "model_3.add(tf.keras.layers.Dropout(0.2))\n",
    "model_3.add(tf.keras.layers.Dense(10,activation=tf.nn.softmax, name = 'output3'))\n",
    "model_3.compile(optimizer= tf.keras.optimizers.Adam(), loss = 'sparse_categorical_crossentropy', metrics = ['accuracy'])\n",
    "#model_3.summary()\n",
    "#model_3.fit(x, y)"
   ]
  }
 ],
 "metadata": {
  "kernelspec": {
   "display_name": "Python 3",
   "language": "python",
   "name": "python3"
  },
  "language_info": {
   "codemirror_mode": {
    "name": "ipython",
    "version": 3
   },
   "file_extension": ".py",
   "mimetype": "text/x-python",
   "name": "python",
   "nbconvert_exporter": "python",
   "pygments_lexer": "ipython3",
   "version": "3.7.6"
  }
 },
 "nbformat": 4,
 "nbformat_minor": 4
}
