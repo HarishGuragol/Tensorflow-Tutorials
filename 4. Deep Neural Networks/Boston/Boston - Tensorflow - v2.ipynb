{
 "cells": [
  {
   "cell_type": "markdown",
   "metadata": {},
   "source": [
    "Import packages and modules"
   ]
  },
  {
   "cell_type": "code",
   "execution_count": 1,
   "metadata": {},
   "outputs": [],
   "source": [
    "#Import packages\n",
    "\n",
    "import numpy as np\n",
    "import tensorflow as tf\n",
    "import matplotlib.pyplot as plt\n",
    "from sklearn.preprocessing import scale\n",
    "from sklearn.datasets import load_boston"
   ]
  },
  {
   "cell_type": "markdown",
   "metadata": {},
   "source": [
    "Load the Boston Housing Dataset"
   ]
  },
  {
   "cell_type": "code",
   "execution_count": 2,
   "metadata": {},
   "outputs": [],
   "source": [
    "features, prices = load_boston(return_X_y = True)"
   ]
  },
  {
   "cell_type": "markdown",
   "metadata": {},
   "source": [
    "Define Hyperparameters & Data Info"
   ]
  },
  {
   "cell_type": "code",
   "execution_count": 3,
   "metadata": {},
   "outputs": [],
   "source": [
    "learning_rate = 0.001\n",
    "epochs = 20000"
   ]
  },
  {
   "cell_type": "markdown",
   "metadata": {},
   "source": [
    "Data Preparation"
   ]
  },
  {
   "cell_type": "code",
   "execution_count": 4,
   "metadata": {},
   "outputs": [],
   "source": [
    "#Training samples\n",
    "#Scale is used to convert data into zero mean and unit std dev\n",
    "train_features = tf.cast(scale(features[ : 350]), dtype = tf.float32)\n",
    "train_prices = prices[ : 350]\n",
    "\n",
    "#Validation samples\n",
    "#Scale is used to convert data into zero mean and unit std dev\n",
    "valid_features = tf.cast(scale(features[350 : 450]), dtype = tf.float32)\n",
    "valid_prices = prices[350 : 450]\n",
    "\n",
    "#Testing samples\n",
    "#Scale is used to convert data into zero mean and unit std dev\n",
    "test_features = tf.cast(scale(features[450 : ]), dtype = tf.float32)\n",
    "test_prices = prices[450 : ]"
   ]
  },
  {
   "cell_type": "markdown",
   "metadata": {},
   "source": [
    "Forward pass of the model"
   ]
  },
  {
   "cell_type": "code",
   "execution_count": 5,
   "metadata": {},
   "outputs": [],
   "source": [
    "#Function to make a forward passs\n",
    "def forward_pass(x, weights, bias):\n",
    "    return tf.add(tf.matmul(x, weights), bias)"
   ]
  },
  {
   "cell_type": "markdown",
   "metadata": {},
   "source": [
    "Define the cost function"
   ]
  },
  {
   "cell_type": "code",
   "execution_count": 6,
   "metadata": {},
   "outputs": [],
   "source": [
    "#Cost function definition - R-MSE\n",
    "def loss(x, y, weights, bias):\n",
    "    \n",
    "    #Calculate Loss and R-MSE\n",
    "    squared_error = tf.square(forward_pass(x, weights, bias) - y )\n",
    "    return tf.sqrt(tf.reduce_mean(squared_error))"
   ]
  },
  {
   "cell_type": "markdown",
   "metadata": {},
   "source": [
    "Put it all together"
   ]
  },
  {
   "cell_type": "code",
   "execution_count": 7,
   "metadata": {},
   "outputs": [],
   "source": [
    "# Find the derivative of loss with respect to weight and bias\n",
    "def gradient(x, y, weights, bias):\n",
    "    \n",
    "    with tf.GradientTape() as tape:\n",
    "        loss_value = loss(x, y, weights, bias)\n",
    "    return tape.gradient(loss_value, [weights, bias])# direction and value ofthe gradient of our weight and bias"
   ]
  },
  {
   "cell_type": "markdown",
   "metadata": {},
   "source": [
    "Initialize the Weights and Bias"
   ]
  },
  {
   "cell_type": "code",
   "execution_count": 8,
   "metadata": {},
   "outputs": [
    {
     "name": "stdout",
     "output_type": "stream",
     "text": [
      "Initial loss: 26.971519470214844\n"
     ]
    }
   ],
   "source": [
    "#Initialize W and B for the network\n",
    "W = tf.Variable(tf.random.normal([13, 1], mean = 1.0, stddev = 1.0, dtype = tf.float32))\n",
    "B = tf.Variable(tf.zeros(1) , dtype = tf.float32)\n",
    "#print(W,B)\n",
    "print(\"Initial loss: {}\".format(loss(train_features, train_prices, W, B)))"
   ]
  },
  {
   "cell_type": "markdown",
   "metadata": {},
   "source": [
    "Training Loop"
   ]
  },
  {
   "cell_type": "code",
   "execution_count": 9,
   "metadata": {},
   "outputs": [
    {
     "name": "stdout",
     "output_type": "stream",
     "text": [
      "Training Loss after Epoch 0: 26.970518112182617\n",
      "Validation Loss after Epoch 0: 19.49664306640625 \n",
      "\n",
      "Training Loss after Epoch 1000: 25.987638473510742\n",
      "Validation Loss after Epoch 1000: 18.516525268554688 \n",
      "\n",
      "Training Loss after Epoch 2000: 25.035659790039062\n",
      "Validation Loss after Epoch 2000: 17.5928955078125 \n",
      "\n",
      "Training Loss after Epoch 3000: 24.110034942626953\n",
      "Validation Loss after Epoch 3000: 16.72028160095215 \n",
      "\n",
      "Training Loss after Epoch 4000: 23.20732307434082\n",
      "Validation Loss after Epoch 4000: 15.894769668579102 \n",
      "\n",
      "Training Loss after Epoch 5000: 22.32505989074707\n",
      "Validation Loss after Epoch 5000: 15.113884925842285 \n",
      "\n",
      "Training Loss after Epoch 6000: 21.461631774902344\n",
      "Validation Loss after Epoch 6000: 14.376500129699707 \n",
      "\n",
      "Training Loss after Epoch 7000: 20.616178512573242\n",
      "Validation Loss after Epoch 7000: 13.682733535766602 \n",
      "\n",
      "Training Loss after Epoch 8000: 19.78846549987793\n",
      "Validation Loss after Epoch 8000: 13.033791542053223 \n",
      "\n",
      "Training Loss after Epoch 9000: 18.97884178161621\n",
      "Validation Loss after Epoch 9000: 12.431818962097168 \n",
      "\n",
      "Training Loss after Epoch 10000: 18.188077926635742\n",
      "Validation Loss after Epoch 10000: 11.879703521728516 \n",
      "\n",
      "Training Loss after Epoch 11000: 17.417430877685547\n",
      "Validation Loss after Epoch 11000: 11.380887031555176 \n",
      "\n",
      "Training Loss after Epoch 12000: 16.668479919433594\n",
      "Validation Loss after Epoch 12000: 10.9390230178833 \n",
      "\n",
      "Training Loss after Epoch 13000: 15.94314956665039\n",
      "Validation Loss after Epoch 13000: 10.557672500610352 \n",
      "\n",
      "Training Loss after Epoch 14000: 15.243621826171875\n",
      "Validation Loss after Epoch 14000: 10.239871978759766 \n",
      "\n",
      "Training Loss after Epoch 15000: 14.572296142578125\n",
      "Validation Loss after Epoch 15000: 9.987687110900879 \n",
      "\n",
      "Training Loss after Epoch 16000: 13.93172836303711\n",
      "Validation Loss after Epoch 16000: 9.801828384399414 \n",
      "\n",
      "Training Loss after Epoch 17000: 13.32453441619873\n",
      "Validation Loss after Epoch 17000: 9.681303977966309 \n",
      "\n",
      "Training Loss after Epoch 18000: 12.753293991088867\n",
      "Validation Loss after Epoch 18000: 9.623261451721191 \n",
      "\n",
      "Training Loss after Epoch 19000: 12.2203950881958\n",
      "Validation Loss after Epoch 19000: 9.623047828674316 \n",
      "\n",
      "Training Loss after Epoch 20000: 11.727904319763184\n",
      "Validation Loss after Epoch 20000: 9.674430847167969 \n",
      "\n"
     ]
    }
   ],
   "source": [
    "tl = []\n",
    "vl = []\n",
    "for i in range(epochs+1): #iterate for each training epoch\n",
    "    \n",
    "    #Calculate gradients\n",
    "    deltaW, deltaB = gradient(train_features, train_prices, W, B) \n",
    "    \n",
    "    #Wieght update and bias update\n",
    "    change_W = deltaW * learning_rate \n",
    "    change_B = deltaB * learning_rate \n",
    "    \n",
    "    #Make changes to the values according to the gradients and learning rate\n",
    "    W.assign_sub(change_W) # subract from W\n",
    "    B.assign_sub(change_B) # subract from B\n",
    "    \n",
    "    #Printing loss information\n",
    "    if i % 1000 == 0:\n",
    "        tl.append(loss(train_features, train_prices, W, B))\n",
    "        vl.append(loss(valid_features, valid_prices, W, B))\n",
    "        print(\"Training Loss after Epoch {}: {}\".format(i, loss(train_features, train_prices, W, B)))\n",
    "        print(\"Validation Loss after Epoch {}: {} \\n\".format(i, loss(valid_features, valid_prices, W, B)))"
   ]
  },
  {
   "cell_type": "markdown",
   "metadata": {},
   "source": [
    "Plot Loss Graphs"
   ]
  },
  {
   "cell_type": "code",
   "execution_count": 10,
   "metadata": {},
   "outputs": [
    {
     "data": {
      "text/plain": [
       "[]"
      ]
     },
     "execution_count": 10,
     "metadata": {},
     "output_type": "execute_result"
    },
    {
     "data": {
      "image/png": "[encoded data removed]",
      "text/plain": [
       "<Figure size 432x288 with 1 Axes>"
      ]
     },
     "metadata": {
      "needs_background": "light"
     },
     "output_type": "display_data"
    }
   ],
   "source": [
    "iterations = np.arange(0, 20001, 1000)\n",
    "plt.plot(iterations, tl, label = 'Training Loss')\n",
    "plt.plot(iterations, vl, label = 'Validation Loss')\n",
    "plt.title('Loss Graph')\n",
    "plt.xlabel('Epochs')\n",
    "plt.xticks(np.arange(0, 20001, 1000))\n",
    "plt.ylabel('Loss')\n",
    "plt.legend()\n",
    "plt.plot()"
   ]
  },
  {
   "cell_type": "markdown",
   "metadata": {},
   "source": [
    "Real time predictions"
   ]
  },
  {
   "cell_type": "code",
   "execution_count": 11,
   "metadata": {},
   "outputs": [],
   "source": [
    "def predictions(index):\n",
    "    '''\n",
    "    \n",
    "    '''\n",
    "\n",
    "    example_house = index\n",
    "    y = test_prices[example_house]\n",
    "    y_pred = forward_pass(test_features,W.numpy(),B.numpy())[example_house]\n",
    "    print('Actual median house value is {} (in $10k)'.format(y))\n",
    "    print('Predicted median house value is {} (in $10k)'.format(y_pred))"
   ]
  },
  {
   "cell_type": "code",
   "execution_count": 12,
   "metadata": {},
   "outputs": [
    {
     "name": "stdout",
     "output_type": "stream",
     "text": [
      "Actual median house value is 16.4 (in $10k)\n",
      "Predicted median house value is [17.348192] (in $10k)\n"
     ]
    }
   ],
   "source": [
    "predictions(10)"
   ]
  },
  {
   "cell_type": "code",
   "execution_count": 13,
   "metadata": {},
   "outputs": [
    {
     "name": "stdout",
     "output_type": "stream",
     "text": [
      "Actual median house value is 19.9 (in $10k)\n",
      "Predicted median house value is [17.216639] (in $10k)\n"
     ]
    }
   ],
   "source": [
    "predictions(15)"
   ]
  },
  {
   "cell_type": "code",
   "execution_count": 14,
   "metadata": {},
   "outputs": [
    {
     "name": "stdout",
     "output_type": "stream",
     "text": [
      "Actual median house value is 19.9 (in $10k)\n",
      "Predicted median house value is [18.984604] (in $10k)\n"
     ]
    }
   ],
   "source": [
    "predictions(20)"
   ]
  }
 ],
 "metadata": {
  "kernelspec": {
   "display_name": "Python 3",
   "language": "python",
   "name": "python3"
  },
  "language_info": {
   "codemirror_mode": {
    "name": "ipython",
    "version": 3
   },
   "file_extension": ".py",
   "mimetype": "text/x-python",
   "name": "python",
   "nbconvert_exporter": "python",
   "pygments_lexer": "ipython3",
   "version": "3.7.6"
  }
 },
 "nbformat": 4,
 "nbformat_minor": 4
}
