{
 "cells": [
  {
   "cell_type": "code",
   "execution_count": null,
   "metadata": {},
   "outputs": [],
   "source": [
    "import numpy as np\n",
    "from tensorflow.keras.datasets import mnist\n",
    "from keras.utils import to_categorical\n",
    "import matplotlib.pyplot as plt"
   ]
  },
  {
   "cell_type": "code",
   "execution_count": null,
   "metadata": {},
   "outputs": [],
   "source": [
    "(X_train, Y_train), (X_test, Y_test) = mnist.load_data()"
   ]
  },
  {
   "cell_type": "code",
   "execution_count": null,
   "metadata": {},
   "outputs": [],
   "source": [
    "X_train = X_train.reshape(X_train.shape[0], -1)\n",
    "X_test = X_test.reshape(X_test.shape[0], -1)\n",
    "\n",
    "X_train = X_train / 255.\n",
    "X_test = X_test / 255.\n",
    "\n",
    "Y_train = Y_train.reshape(60000, 1)\n",
    "Y_test = Y_test.reshape(10000, 1)\n",
    "Y_train = to_categorical(Y_train, num_classes = 10)\n",
    "Y_test = to_categorical(Y_test, num_classes = 10)\n",
    "Y_train = Y_train.T\n",
    "Y_test = Y_test.T\n",
    "\n",
    "print(X_train.shape)\n",
    "print(Y_train.shape)\n",
    "print(X_test.shape)\n",
    "print(Y_test.shape)"
   ]
  },
  {
   "cell_type": "code",
   "execution_count": null,
   "metadata": {},
   "outputs": [],
   "source": [
    "#ReLU Function\n",
    "def ReLU(x):\n",
    "    \n",
    "    r = np.maximum(0, x)\n",
    "    \n",
    "    return r\n",
    "\n",
    "#Function to calculate derivative of the ReLU\n",
    "def ReLU_derivative(r):\n",
    "    \n",
    "    if r.all() > 0:\n",
    "        dr = 1\n",
    "    if r.all() < 0:\n",
    "        dr = 0\n",
    "    \n",
    "    return dr\n",
    "\n",
    "#Softmax Function\n",
    "def Softmax(x):\n",
    "    \n",
    "    exp = x - np.max(x)    \n",
    "    return exp / exp.sum(axis = 0, keepdims = True)\n",
    "\n",
    "#Function to calculate derivative of the Softmax\n",
    "def Softmax_derivative(s):\n",
    "    #Yet to be coded\n",
    "    jacobian = np.diag(s)\n",
    "    \n",
    "    for i in range(len(jacobian)):\n",
    "        for j in range(len(jacobian)):\n",
    "            if i == j:\n",
    "                jacobian[i][j] = s[i] * (1 - s[i])\n",
    "            else:\n",
    "                jacobian[i][j] = -s[i] * s[j]\n",
    "    \n",
    "    return jacobian\n",
    "\n",
    "#Sigmoid Function\n",
    "def sigmoid(x):\n",
    "    \n",
    "    s = 1.0/(1 + np.exp(-x))\n",
    "    \n",
    "    return s\n",
    "\n",
    "#Function to calculate derivative of the Sigmoid\n",
    "def sigmoid_derivative(s):\n",
    "    \n",
    "    ds = s * (1 - s)\n",
    "    \n",
    "    return ds"
   ]
  },
  {
   "cell_type": "code",
   "execution_count": null,
   "metadata": {},
   "outputs": [],
   "source": [
    "params = {}\n",
    "\n",
    "params['w1'] = np.random.rand(784, 512)\n",
    "params['b1'] = np.zeros((1, 512))\n",
    "\n",
    "params['w2'] = np.random.rand(512, 10)\n",
    "params['b2'] = np.zeros((1, 10))"
   ]
  },
  {
   "cell_type": "code",
   "execution_count": null,
   "metadata": {},
   "outputs": [],
   "source": [
    "print(params['w1'].shape)\n",
    "print(params['b1'].shape)\n",
    "print(params['w2'].shape)\n",
    "print(params['b2'].shape)"
   ]
  }
 ],
 "metadata": {
  "kernelspec": {
   "display_name": "Python 3",
   "language": "python",
   "name": "python3"
  },
  "language_info": {
   "codemirror_mode": {
    "name": "ipython",
    "version": 3
   },
   "file_extension": ".py",
   "mimetype": "text/x-python",
   "name": "python",
   "nbconvert_exporter": "python",
   "pygments_lexer": "ipython3",
   "version": "3.7.6"
  }
 },
 "nbformat": 4,
 "nbformat_minor": 4
}
