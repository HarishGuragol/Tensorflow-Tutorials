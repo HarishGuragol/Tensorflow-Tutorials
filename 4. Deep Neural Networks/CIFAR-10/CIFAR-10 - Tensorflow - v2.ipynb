{
 "cells": [
  {
   "cell_type": "markdown",
   "metadata": {},
   "source": [
    "Import packages "
   ]
  },
  {
   "cell_type": "code",
   "execution_count": 1,
   "metadata": {},
   "outputs": [],
   "source": [
    "#Importing packages\n",
    "import time\n",
    "import numpy as np\n",
    "import tensorflow as tf\n",
    "from tensorflow.keras import Model, layers\n",
    "from tensorflow.keras.datasets import cifar10\n",
    "from tensorflow.keras.utils import to_categorical"
   ]
  },
  {
   "cell_type": "markdown",
   "metadata": {},
   "source": [
    "Define the Hyperparameter & Data info"
   ]
  },
  {
   "cell_type": "code",
   "execution_count": 2,
   "metadata": {},
   "outputs": [],
   "source": [
    "#Learning Rate, Iterations, Batch Size Hyperparameters\n",
    "learning_rate = 0.001\n",
    "iterations = 40000\n",
    "batch_size = 256\n",
    "#dropout = 0.5\n",
    "#epochs = 10"
   ]
  },
  {
   "cell_type": "markdown",
   "metadata": {},
   "source": [
    "Load CIFAR-10 Data"
   ]
  },
  {
   "cell_type": "code",
   "execution_count": 3,
   "metadata": {},
   "outputs": [],
   "source": [
    "#CIFAR-10 Dataset has 60000 images of common objects, 6k images per class and 10 classes in total\n",
    "(X_train, Y_train), (X_test, Y_test) = cifar10.load_data()"
   ]
  },
  {
   "cell_type": "markdown",
   "metadata": {},
   "source": [
    "Data Preparation"
   ]
  },
  {
   "cell_type": "code",
   "execution_count": 4,
   "metadata": {},
   "outputs": [
    {
     "name": "stdout",
     "output_type": "stream",
     "text": [
      "(50000, 3072)\n",
      "(50000, 10)\n",
      "(10000, 3072)\n",
      "(10000, 10)\n"
     ]
    }
   ],
   "source": [
    "#Convert to float type\n",
    "X_train, X_test = np.array(X_train, np.float32), np.array(X_test, np.float32)\n",
    "\n",
    "#Flatten images to 1-D vector of 3072 features (32*32*3)\n",
    "X_train, X_test = X_train.reshape([-1, 3072]), X_test.reshape([-1, 3072])\n",
    "\n",
    "#One hot encoding of labels\n",
    "Y_train = to_categorical(Y_train, 10)\n",
    "Y_test = to_categorical(Y_test, 10)\n",
    "\n",
    "#Normalization of images\n",
    "X_train = X_train / 255.\n",
    "X_test = X_test / 255.\n",
    "\n",
    "#Use Tensorflow data for shuffling and fetching it batchwise\n",
    "train_data = tf.data.Dataset.from_tensor_slices((X_train, Y_train))\n",
    "train_data = train_data.repeat().shuffle(5000).batch(batch_size).prefetch(1)\n",
    "\n",
    "print(X_train.shape)\n",
    "print(Y_train.shape)\n",
    "print(X_test.shape)\n",
    "print(Y_test.shape)"
   ]
  },
  {
   "cell_type": "markdown",
   "metadata": {},
   "source": [
    "Define the model"
   ]
  },
  {
   "cell_type": "code",
   "execution_count": 5,
   "metadata": {},
   "outputs": [],
   "source": [
    "class NeuralNet(Model):\n",
    "    \n",
    "    def __init__(self):\n",
    "        super(NeuralNet, self).__init__()\n",
    "        self.L1 = layers.Dense(1024, activation=tf.nn.relu)\n",
    "        self.L2 = layers.Dense(512, activation=tf.nn.relu)\n",
    "        self.L3 = layers.Dense(256, activation=tf.nn.relu)\n",
    "        self.L4 = layers.Dense(128, activation=tf.nn.relu)\n",
    "        self.Yhat = layers.Dense(10)\n",
    "\n",
    "    # Set forward pass.\n",
    "    def call(self, x, is_training=False):\n",
    "        x = self.L1(x)\n",
    "        x = self.L2(x)\n",
    "        x = self.L3(x)\n",
    "        x = self.L4(x)\n",
    "        x = self.Yhat(x)\n",
    "        if not is_training:\n",
    "            x = tf.nn.softmax(x)\n",
    "        return x\n",
    "\n",
    "# Build the network\n",
    "model = NeuralNet()"
   ]
  },
  {
   "cell_type": "markdown",
   "metadata": {},
   "source": [
    "Define the cost function"
   ]
  },
  {
   "cell_type": "code",
   "execution_count": 6,
   "metadata": {},
   "outputs": [],
   "source": [
    "#Cost function definition, using the softmax cross entropy loss\n",
    "def cross_entropy(y_pred, y_true):\n",
    "    \n",
    "    loss = tf.nn.softmax_cross_entropy_with_logits(logits = y_pred, labels = y_true)\n",
    "    \n",
    "    return tf.reduce_mean(loss)"
   ]
  },
  {
   "cell_type": "markdown",
   "metadata": {},
   "source": [
    "Metrics to check predictions"
   ]
  },
  {
   "cell_type": "code",
   "execution_count": 7,
   "metadata": {},
   "outputs": [],
   "source": [
    "#To verify the predictions\n",
    "def accuracy(y_pred, y_true):\n",
    "    \n",
    "    correct_prediction = tf.equal(tf.argmax(y_pred, 1), tf.argmax(y_true, 1))\n",
    "    a = tf.reduce_mean(tf.cast(correct_prediction, tf.float32), axis=-1)\n",
    "    \n",
    "    return a"
   ]
  },
  {
   "cell_type": "markdown",
   "metadata": {},
   "source": [
    "Define the optimizer"
   ]
  },
  {
   "cell_type": "code",
   "execution_count": 8,
   "metadata": {},
   "outputs": [],
   "source": [
    "#Setup the optimizer function with learning rate as parameter\n",
    "optimizer = tf.optimizers.Adam(learning_rate)"
   ]
  },
  {
   "cell_type": "markdown",
   "metadata": {},
   "source": [
    "Put it all together (Optimization of the network)"
   ]
  },
  {
   "cell_type": "code",
   "execution_count": 9,
   "metadata": {},
   "outputs": [],
   "source": [
    "def run(X, Y):\n",
    "    \n",
    "    #Using GradientTape for automatic differentiation.\n",
    "    with tf.GradientTape() as tape:\n",
    "        pred = model(X, is_training = True)\n",
    "        loss = cross_entropy(pred, Y)\n",
    "        \n",
    "    #Get W and B values \n",
    "    train_variables = model.trainable_variables\n",
    "    \n",
    "    #Compute gradients.\n",
    "    gradients = tape.gradient(loss, train_variables)\n",
    "    \n",
    "    #Update W and b following gradients\n",
    "    optimizer.apply_gradients(zip(gradients, train_variables))"
   ]
  },
  {
   "cell_type": "markdown",
   "metadata": {},
   "source": [
    "Let's train for 40000 iterations"
   ]
  },
  {
   "cell_type": "code",
   "execution_count": 10,
   "metadata": {},
   "outputs": [
    {
     "name": "stderr",
     "output_type": "stream",
     "text": [
      "C:\\Users\\Pranav\\anaconda3\\lib\\site-packages\\ipykernel_launcher.py:2: DeprecationWarning: time.clock has been deprecated in Python 3.3 and will be removed from Python 3.8: use time.perf_counter or time.process_time instead\n",
      "  \n"
     ]
    },
    {
     "name": "stdout",
     "output_type": "stream",
     "text": [
      "Iteration = 2000\n",
      "Loss = 1.1579036712646484\n",
      "Accuracy = 0.5390625\n",
      "\n",
      "Iteration = 4000\n",
      "Loss = 0.8776501417160034\n",
      "Accuracy = 0.6875\n",
      "\n",
      "Iteration = 6000\n",
      "Loss = 0.591355562210083\n",
      "Accuracy = 0.8046875\n",
      "\n",
      "Iteration = 8000\n",
      "Loss = 0.48672130703926086\n",
      "Accuracy = 0.83203125\n",
      "\n",
      "Iteration = 10000\n",
      "Loss = 0.31234341859817505\n",
      "Accuracy = 0.8984375\n",
      "\n",
      "Iteration = 12000\n",
      "Loss = 0.18548598885536194\n",
      "Accuracy = 0.93359375\n",
      "\n",
      "Iteration = 14000\n",
      "Loss = 0.19418595731258392\n",
      "Accuracy = 0.9296875\n",
      "\n",
      "Iteration = 16000\n",
      "Loss = 0.08150805532932281\n",
      "Accuracy = 0.96484375\n",
      "\n",
      "Iteration = 18000\n",
      "Loss = 0.08615701645612717\n",
      "Accuracy = 0.96875\n",
      "\n",
      "Iteration = 20000\n",
      "Loss = 0.07693085819482803\n",
      "Accuracy = 0.97265625\n",
      "\n",
      "Iteration = 22000\n",
      "Loss = 0.08117414265871048\n",
      "Accuracy = 0.984375\n",
      "\n",
      "Iteration = 24000\n",
      "Loss = 0.11098531633615494\n",
      "Accuracy = 0.96484375\n",
      "\n",
      "Iteration = 26000\n",
      "Loss = 0.04526330903172493\n",
      "Accuracy = 0.9921875\n",
      "\n",
      "Iteration = 28000\n",
      "Loss = 0.10141861438751221\n",
      "Accuracy = 0.98046875\n",
      "\n",
      "Iteration = 30000\n",
      "Loss = 0.09146558493375778\n",
      "Accuracy = 0.9765625\n",
      "\n",
      "Iteration = 32000\n",
      "Loss = 0.038246553391218185\n",
      "Accuracy = 0.98828125\n",
      "\n",
      "Iteration = 34000\n",
      "Loss = 0.030383404344320297\n",
      "Accuracy = 0.99609375\n",
      "\n",
      "Iteration = 36000\n",
      "Loss = 0.03919961303472519\n",
      "Accuracy = 0.98828125\n",
      "\n",
      "Iteration = 38000\n",
      "Loss = 0.04340452700853348\n",
      "Accuracy = 0.9921875\n",
      "\n",
      "Iteration = 40000\n",
      "Loss = 0.07824636995792389\n",
      "Accuracy = 0.96875\n",
      "\n",
      "Time Elapsed = 2653.0838297 \n",
      "\n"
     ]
    },
    {
     "name": "stderr",
     "output_type": "stream",
     "text": [
      "C:\\Users\\Pranav\\anaconda3\\lib\\site-packages\\ipykernel_launcher.py:21: DeprecationWarning: time.clock has been deprecated in Python 3.3 and will be removed from Python 3.8: use time.perf_counter or time.process_time instead\n"
     ]
    },
    {
     "name": "stdout",
     "output_type": "stream",
     "text": [
      "Accuracy on Test Set is 0.4959000051021576\n"
     ]
    }
   ],
   "source": [
    "#Run the for-loop for a well defined number of epochs\n",
    "s = time.clock()\n",
    "loss_plot = []\n",
    "accuracy_plot = []\n",
    "\n",
    "for i, (Batch_x, Batch_y) in enumerate(train_data.take(40001), 1):\n",
    "    #Run the optimization to update W and b values.\n",
    "    run(Batch_x, Batch_y)\n",
    "    \n",
    "    if i % 2000 == 0:\n",
    "        pred = model(Batch_x, is_training = True)\n",
    "        loss = cross_entropy(pred, Batch_y)\n",
    "        acc = accuracy(pred, Batch_y)\n",
    "        print('Iteration = {}'.format(i))\n",
    "        print('Loss = {}'.format(loss))\n",
    "        print('Accuracy = {}\\n'.format(acc))\n",
    "        \n",
    "        loss_plot.append(loss)\n",
    "        accuracy_plot.append(acc)\n",
    "        \n",
    "e = time.clock()\n",
    "\n",
    "print('Time Elapsed = {} \\n'.format(e-s))\n",
    "\n",
    "pred = model(X_test, is_training = False)\n",
    "test_accuracy = accuracy(pred, Y_test)\n",
    "print('Accuracy on Test Set is {}'.format(test_accuracy))"
   ]
  },
  {
   "cell_type": "markdown",
   "metadata": {},
   "source": [
    "Plotting the graph"
   ]
  },
  {
   "cell_type": "code",
   "execution_count": 11,
   "metadata": {},
   "outputs": [
    {
     "data": {
      "image/png": "[encoded data removed]",
      "text/plain": [
       "<Figure size 432x288 with 1 Axes>"
      ]
     },
     "metadata": {
      "needs_background": "light"
     },
     "output_type": "display_data"
    }
   ],
   "source": [
    "import matplotlib.pyplot as plt\n",
    "import numpy as np\n",
    "\n",
    "iterations = np.arange(1000, 40001, 2000)\n",
    "plt.plot(iterations, loss_plot, label = 'Training Loss')\n",
    "plt.title('Loss graph')\n",
    "plt.xlabel('Epochs')\n",
    "plt.xticks(np.arange(1000, 40001, 2000))\n",
    "plt.ylabel('Loss')\n",
    "plt.legend()\n",
    "plt.show()"
   ]
  },
  {
   "cell_type": "code",
   "execution_count": 12,
   "metadata": {},
   "outputs": [
    {
     "data": {
      "image/png": "[encoded data removed]",
      "text/plain": [
       "<Figure size 432x288 with 1 Axes>"
      ]
     },
     "metadata": {
      "needs_background": "light"
     },
     "output_type": "display_data"
    }
   ],
   "source": [
    "iterations = np.arange(1000, 40001, 2000)\n",
    "plt.plot(iterations, accuracy_plot, label = 'Training Accuracy')\n",
    "plt.title('Accuracy graph')\n",
    "plt.xlabel('Epochs')\n",
    "plt.xticks(np.arange(1000, 40001, 2000))\n",
    "plt.ylabel('Accuracy')\n",
    "plt.legend()\n",
    "plt.show()"
   ]
  },
  {
   "cell_type": "markdown",
   "metadata": {},
   "source": [
    "Real Time Predictions"
   ]
  },
  {
   "cell_type": "code",
   "execution_count": 13,
   "metadata": {},
   "outputs": [],
   "source": [
    "def real_time(index):\n",
    "    '''\n",
    "    \n",
    "    '''\n",
    "    \n",
    "    labels = ['Airplane', 'Automobile', 'Bird', 'Cat', 'Deer', 'Dog', 'Frog', 'Horse', 'Ship', 'Truck']\n",
    "    \n",
    "    prediction = model(X_test[index].reshape(1, 3072), is_training = False)\n",
    "    print('Actual Ground Truth is {} ; {}'.format(np.squeeze(Y_test[index]), labels[np.argmax(Y_test[index])]))\n",
    "    print('Prediction for test image is {}; {}'.format(np.squeeze(prediction), labels[np.argmax(prediction[0])]))\n",
    "    plt.imshow(np.reshape(X_test[index].reshape(1, 3072), [32, 32, 3]))"
   ]
  },
  {
   "cell_type": "code",
   "execution_count": 14,
   "metadata": {},
   "outputs": [
    {
     "name": "stdout",
     "output_type": "stream",
     "text": [
      "Actual Ground Truth is [0. 0. 0. 0. 0. 0. 0. 1. 0. 0.] ; Horse\n",
      "Prediction for test image is [4.80074505e-07 3.66243068e-04 3.19800705e-07 2.54331667e-10\n",
      " 5.92246124e-07 1.01439625e-01 4.39066499e-01 1.38287700e-03\n",
      " 4.57741886e-01 1.41323812e-06]; Ship\n"
     ]
    },
    {
     "data": {
      "image/png": "[encoded data removed]",
      "text/plain": [
       "<Figure size 432x288 with 1 Axes>"
      ]
     },
     "metadata": {
      "needs_background": "light"
     },
     "output_type": "display_data"
    }
   ],
   "source": [
    "real_time(20)"
   ]
  },
  {
   "cell_type": "code",
   "execution_count": 15,
   "metadata": {},
   "outputs": [
    {
     "name": "stdout",
     "output_type": "stream",
     "text": [
      "Actual Ground Truth is [0. 0. 0. 0. 1. 0. 0. 0. 0. 0.] ; Deer\n",
      "Prediction for test image is [1.47324535e-08 6.06261710e-06 4.49594024e-16 4.80628842e-22\n",
      " 9.99993920e-01 1.50198212e-15 6.06323540e-23 1.26734289e-12\n",
      " 2.37351263e-13 2.02674166e-09]; Deer\n"
     ]
    },
    {
     "data": {
      "image/png": "[encoded data removed]",
      "text/plain": [
       "<Figure size 432x288 with 1 Axes>"
      ]
     },
     "metadata": {
      "needs_background": "light"
     },
     "output_type": "display_data"
    }
   ],
   "source": [
    "real_time(40)"
   ]
  }
 ],
 "metadata": {
  "kernelspec": {
   "display_name": "Python 3",
   "language": "python",
   "name": "python3"
  },
  "language_info": {
   "codemirror_mode": {
    "name": "ipython",
    "version": 3
   },
   "file_extension": ".py",
   "mimetype": "text/x-python",
   "name": "python",
   "nbconvert_exporter": "python",
   "pygments_lexer": "ipython3",
   "version": "3.7.6"
  }
 },
 "nbformat": 4,
 "nbformat_minor": 4
}
