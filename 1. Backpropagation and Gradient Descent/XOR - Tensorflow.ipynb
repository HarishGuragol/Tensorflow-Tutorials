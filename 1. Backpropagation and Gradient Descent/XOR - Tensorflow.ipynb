{
 "cells": [
  {
   "cell_type": "markdown",
   "metadata": {},
   "source": [
    "Import tensorflow and disable v2"
   ]
  },
  {
   "cell_type": "code",
   "execution_count": 1,
   "metadata": {},
   "outputs": [
    {
     "name": "stdout",
     "output_type": "stream",
     "text": [
      "WARNING:tensorflow:From C:\\Users\\Pranav\\anaconda3\\lib\\site-packages\\tensorflow\\python\\compat\\v2_compat.py:96: disable_resource_variables (from tensorflow.python.ops.variable_scope) is deprecated and will be removed in a future version.\n",
      "Instructions for updating:\n",
      "non-resource variables are not supported in the long term\n"
     ]
    }
   ],
   "source": [
    "#Importing packages\n",
    "import time\n",
    "import tensorflow.compat.v1 as tf\n",
    "tf.disable_v2_behavior()"
   ]
  },
  {
   "cell_type": "markdown",
   "metadata": {},
   "source": [
    "Create placeholders for Input(X) and Output(Y)"
   ]
  },
  {
   "cell_type": "code",
   "execution_count": 2,
   "metadata": {},
   "outputs": [],
   "source": [
    "#Define the placeholders for holding Input and Output Instances\n",
    "X = tf.placeholder(tf.float32, shape = [4, 2])\n",
    "Y = tf.placeholder(tf.float32, shape = [4, 1])"
   ]
  },
  {
   "cell_type": "markdown",
   "metadata": {},
   "source": [
    "Define the range of the random initializer between -1 & 1"
   ]
  },
  {
   "cell_type": "code",
   "execution_count": 3,
   "metadata": {},
   "outputs": [],
   "source": [
    "#Defining the weights of 1st hidden layer and output neuron\n",
    "w1 = tf.Variable([[1.0, 0.0], [1.0, 0.0]], shape = [2, 2])\n",
    "w2 = tf.Variable([[0.0], [1.0]], shape = [2, 1])"
   ]
  },
  {
   "cell_type": "markdown",
   "metadata": {},
   "source": [
    "Define the bias "
   ]
  },
  {
   "cell_type": "code",
   "execution_count": 4,
   "metadata": {},
   "outputs": [],
   "source": [
    "#Defining the bias of 1st hidden layer and output neuron\n",
    "b1 = tf.Variable([0.0, 0.0], shape = [2])\n",
    "b2 = tf.Variable([0.0], shape = 1)"
   ]
  },
  {
   "cell_type": "markdown",
   "metadata": {},
   "source": [
    "Setup the model flow"
   ]
  },
  {
   "cell_type": "code",
   "execution_count": 5,
   "metadata": {},
   "outputs": [],
   "source": [
    "#Setting the flow -> Inputs -> Weights * Inputs -> Activation -> Weights * Activation1 -> Output \n",
    "A1 = tf.sigmoid(tf.matmul(X, w1) + b1)\n",
    "Yhat = tf.sigmoid(tf.matmul(A1, w2) + b2)"
   ]
  },
  {
   "cell_type": "markdown",
   "metadata": {},
   "source": [
    "Define the cost function"
   ]
  },
  {
   "cell_type": "code",
   "execution_count": 6,
   "metadata": {},
   "outputs": [],
   "source": [
    "#Cost function definition\n",
    "#cost = tf.reduce_mean(-1 * (Y * tf.log(Yhat)) + (1 - Y) * tf.log(1 - Yhat))\n",
    "cost = tf.reduce_mean(tf.squared_difference(Y, Yhat))"
   ]
  },
  {
   "cell_type": "markdown",
   "metadata": {},
   "source": [
    "Put it all together"
   ]
  },
  {
   "cell_type": "code",
   "execution_count": 7,
   "metadata": {},
   "outputs": [],
   "source": [
    "#Setup the optimizer function with learning rate as parameter\n",
    "train = tf.train.GradientDescentOptimizer(0.1).minimize(cost)"
   ]
  },
  {
   "cell_type": "markdown",
   "metadata": {},
   "source": [
    "Define the input values to the network (XOR)"
   ]
  },
  {
   "cell_type": "code",
   "execution_count": 8,
   "metadata": {},
   "outputs": [],
   "source": [
    "#Define the XOR Inputs and Outputs\n",
    "XOR_input = [[0, 0], [0, 1], [1, 0], [1, 1]]\n",
    "XOR_output = [[0], [1], [1], [0]]"
   ]
  },
  {
   "cell_type": "markdown",
   "metadata": {},
   "source": [
    "Instantiate the tensorflow global variables -> Graph"
   ]
  },
  {
   "cell_type": "code",
   "execution_count": 9,
   "metadata": {},
   "outputs": [],
   "source": [
    "#Initialize the Tensorflow Session and global varibales (Get it readdy to spawn a Computational Graph)\n",
    "init = tf.global_variables_initializer()\n",
    "sess = tf.Session()\n",
    "sess.run(init)"
   ]
  },
  {
   "cell_type": "markdown",
   "metadata": {},
   "source": [
    "Let's train for 10000 epochs"
   ]
  },
  {
   "cell_type": "code",
   "execution_count": null,
   "metadata": {},
   "outputs": [
    {
     "name": "stderr",
     "output_type": "stream",
     "text": [
      "C:\\Users\\Pranav\\anaconda3\\lib\\site-packages\\ipykernel_launcher.py:2: DeprecationWarning: time.clock has been deprecated in Python 3.3 and will be removed from Python 3.8: use time.perf_counter or time.process_time instead\n",
      "  \n"
     ]
    },
    {
     "name": "stdout",
     "output_type": "stream",
     "text": [
      "Epoch = 0\n",
      "Cost = 0.2644258439540863\n",
      "[0.6202572]\n",
      "[0.6200183]\n",
      "[0.6200183]\n",
      "[0.6198486]\n",
      "Epoch = 10000\n",
      "Cost = 0.07002333551645279\n",
      "[0.20779312]\n",
      "[0.75347465]\n",
      "[0.75347465]\n",
      "[0.33965552]\n",
      "Epoch = 20000\n",
      "Cost = 0.006195535883307457\n",
      "[0.07956646]\n",
      "[0.92717546]\n",
      "[0.92717546]\n",
      "[0.08856916]\n",
      "Epoch = 30000\n",
      "Cost = 0.0028774880338460207\n",
      "[0.05516866]\n",
      "[0.95049554]\n",
      "[0.95049554]\n",
      "[0.05970752]\n"
     ]
    }
   ],
   "source": [
    "#Run the for-loop for a well defined number of epochs\n",
    "s = time.clock()\n",
    "for i in range(100001):\n",
    "    \n",
    "    #Generate the Computational Graph and train the network\n",
    "    sess.run(train, feed_dict = {X : XOR_input, Y : XOR_output})\n",
    "    \n",
    "    #Print epoch and cost values at end of every 10000th epoch\n",
    "    if i % 10000 == 0:\n",
    "        print('Epoch = {}'.format(i))\n",
    "        print('Cost = {}'.format(sess.run(cost, feed_dict = {X : XOR_input, Y : XOR_output})))\n",
    "        \n",
    "        #Print the network output at this state\n",
    "        for a in sess.run(Yhat, feed_dict = {X : XOR_input, Y : XOR_output}):\n",
    "            print(a)\n",
    "\n",
    "        \n",
    "e = time.clock()\n",
    "\n",
    "print('Time Elapsed = {}'.format(e-s))"
   ]
  }
 ],
 "metadata": {
  "kernelspec": {
   "display_name": "Python 3",
   "language": "python",
   "name": "python3"
  },
  "language_info": {
   "codemirror_mode": {
    "name": "ipython",
    "version": 3
   },
   "file_extension": ".py",
   "mimetype": "text/x-python",
   "name": "python",
   "nbconvert_exporter": "python",
   "pygments_lexer": "ipython3",
   "version": "3.7.6"
  }
 },
 "nbformat": 4,
 "nbformat_minor": 4
}
