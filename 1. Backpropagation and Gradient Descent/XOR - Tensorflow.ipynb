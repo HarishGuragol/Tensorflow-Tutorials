{
 "cells": [
  {
   "cell_type": "markdown",
   "metadata": {},
   "source": [
    "Import tensorflow and disable v2"
   ]
  },
  {
   "cell_type": "code",
   "execution_count": 1,
   "metadata": {},
   "outputs": [
    {
     "name": "stdout",
     "output_type": "stream",
     "text": [
      "WARNING:tensorflow:From C:\\Users\\Pranav\\anaconda3\\lib\\site-packages\\tensorflow\\python\\compat\\v2_compat.py:96: disable_resource_variables (from tensorflow.python.ops.variable_scope) is deprecated and will be removed in a future version.\n",
      "Instructions for updating:\n",
      "non-resource variables are not supported in the long term\n"
     ]
    }
   ],
   "source": [
    "import time\n",
    "import tensorflow.compat.v1 as tf\n",
    "tf.disable_v2_behavior()"
   ]
  },
  {
   "cell_type": "markdown",
   "metadata": {},
   "source": [
    "Create placeholders for Input(X) and Output(Y)"
   ]
  },
  {
   "cell_type": "code",
   "execution_count": 2,
   "metadata": {},
   "outputs": [],
   "source": [
    "X = tf.placeholder(tf.float32, shape = [4, 2])\n",
    "Y = tf.placeholder(tf.float32, shape = [4, 1])"
   ]
  },
  {
   "cell_type": "markdown",
   "metadata": {},
   "source": [
    "Define the range of the random initializer between -1 & 1"
   ]
  },
  {
   "cell_type": "code",
   "execution_count": 3,
   "metadata": {},
   "outputs": [],
   "source": [
    "w1 = tf.Variable([[1.0, 0.0], [1.0, 0.0]], shape = [2, 2])\n",
    "w2 = tf.Variable([[0.0], [1.0]], shape = [2, 1])"
   ]
  },
  {
   "cell_type": "markdown",
   "metadata": {},
   "source": [
    "Define the bias "
   ]
  },
  {
   "cell_type": "code",
   "execution_count": 4,
   "metadata": {},
   "outputs": [],
   "source": [
    "b1 = tf.Variable([0.0, 0.0], shape = [2])\n",
    "b2 = tf.Variable([0.0], shape = 1)"
   ]
  },
  {
   "cell_type": "markdown",
   "metadata": {},
   "source": [
    "Setup the model flow"
   ]
  },
  {
   "cell_type": "code",
   "execution_count": 5,
   "metadata": {},
   "outputs": [],
   "source": [
    "A1 = tf.sigmoid(tf.matmul(X, w1) + b1)\n",
    "Yhat = tf.sigmoid(tf.matmul(A1, w2) + b2)"
   ]
  },
  {
   "cell_type": "markdown",
   "metadata": {},
   "source": [
    "Define the cost function"
   ]
  },
  {
   "cell_type": "code",
   "execution_count": 6,
   "metadata": {},
   "outputs": [],
   "source": [
    "#cost = tf.reduce_mean(-1 * (Y * tf.log(Yhat)) + (1 - Y) * tf.log(1 - Yhat))\n",
    "cost = tf.reduce_mean(tf.squared_difference(Y, Yhat))"
   ]
  },
  {
   "cell_type": "markdown",
   "metadata": {},
   "source": [
    "Put it all together"
   ]
  },
  {
   "cell_type": "code",
   "execution_count": 7,
   "metadata": {},
   "outputs": [],
   "source": [
    "train = tf.train.GradientDescentOptimizer(0.1).minimize(cost)"
   ]
  },
  {
   "cell_type": "markdown",
   "metadata": {},
   "source": [
    "Define the input values to the network (XOR)"
   ]
  },
  {
   "cell_type": "code",
   "execution_count": 8,
   "metadata": {},
   "outputs": [],
   "source": [
    "XOR_input = [[0, 0], [0, 1], [1, 0], [1, 1]]\n",
    "XOR_output = [[0], [1], [1], [0]]"
   ]
  },
  {
   "cell_type": "markdown",
   "metadata": {},
   "source": [
    "Instantiate the tensorflow global variables -> Graph"
   ]
  },
  {
   "cell_type": "code",
   "execution_count": 9,
   "metadata": {},
   "outputs": [],
   "source": [
    "init = tf.global_variables_initializer()\n",
    "sess = tf.Session()\n",
    "sess.run(init)"
   ]
  },
  {
   "cell_type": "markdown",
   "metadata": {},
   "source": [
    "Let's train for 10000 epochs"
   ]
  },
  {
   "cell_type": "code",
   "execution_count": 10,
   "metadata": {},
   "outputs": [
    {
     "name": "stderr",
     "output_type": "stream",
     "text": [
      "C:\\Users\\Pranav\\anaconda3\\lib\\site-packages\\ipykernel_launcher.py:1: DeprecationWarning: time.clock has been deprecated in Python 3.3 and will be removed from Python 3.8: use time.perf_counter or time.process_time instead\n",
      "  \"\"\"Entry point for launching an IPython kernel.\n"
     ]
    },
    {
     "name": "stdout",
     "output_type": "stream",
     "text": [
      "Epoch = 0\n",
      "Cost = 0.2644258439540863\n",
      "[0.6202572]\n",
      "[0.6200183]\n",
      "[0.6200183]\n",
      "[0.6198486]\n",
      "Epoch = 10000\n",
      "Cost = 0.07002333551645279\n",
      "[0.20779312]\n",
      "[0.75347465]\n",
      "[0.75347465]\n",
      "[0.33965552]\n",
      "Epoch = 20000\n",
      "Cost = 0.006195535883307457\n",
      "[0.07956646]\n",
      "[0.92717546]\n",
      "[0.92717546]\n",
      "[0.08856916]\n",
      "Epoch = 30000\n",
      "Cost = 0.0028774880338460207\n",
      "[0.05516866]\n",
      "[0.95049554]\n",
      "[0.95049554]\n",
      "[0.05970752]\n",
      "Epoch = 40000\n",
      "Cost = 0.0018379392568022013\n",
      "[0.04440128]\n",
      "[0.96048534]\n",
      "[0.96048534]\n",
      "[0.04751281]\n",
      "Epoch = 50000\n",
      "Cost = 0.0013404132332652807\n",
      "[0.03807224]\n",
      "[0.96628344]\n",
      "[0.96628344]\n",
      "[0.04047894]\n",
      "Epoch = 60000\n",
      "Cost = 0.0010511395521461964\n",
      "[0.03380318]\n",
      "[0.970159]\n",
      "[0.970159]\n",
      "[0.03579012]\n",
      "Epoch = 70000\n",
      "Cost = 0.0008627263596281409\n",
      "[0.0306817]\n",
      "[0.97297317]\n",
      "[0.97297317]\n",
      "[0.03238271]\n",
      "Epoch = 80000\n",
      "Cost = 0.0007307603373192251\n",
      "[0.02828002]\n",
      "[0.9751314]\n",
      "[0.9751314]\n",
      "[0.02977224]\n",
      "Epoch = 90000\n",
      "Cost = 0.0006333373603411019\n",
      "[0.02635819]\n",
      "[0.976854]\n",
      "[0.976854]\n",
      "[0.02769699]\n",
      "Epoch = 100000\n",
      "Cost = 0.0005582977319136262\n",
      "[0.02478384]\n",
      "[0.9782787]\n",
      "[0.9782787]\n",
      "[0.02598696]\n",
      "Time Elapsed = 27.292688933999997\n"
     ]
    },
    {
     "name": "stderr",
     "output_type": "stream",
     "text": [
      "C:\\Users\\Pranav\\anaconda3\\lib\\site-packages\\ipykernel_launcher.py:12: DeprecationWarning: time.clock has been deprecated in Python 3.3 and will be removed from Python 3.8: use time.perf_counter or time.process_time instead\n",
      "  if sys.path[0] == '':\n"
     ]
    }
   ],
   "source": [
    "s = time.clock()\n",
    "for i in range(100001):\n",
    "    sess.run(train, feed_dict = {X : XOR_input, Y : XOR_output})\n",
    "    if i % 10000 == 0:\n",
    "        print('Epoch = {}'.format(i))\n",
    "        print('Cost = {}'.format(sess.run(cost, feed_dict = {X : XOR_input, Y : XOR_output})))\n",
    "        \n",
    "        for a in sess.run(Yhat, feed_dict = {X : XOR_input, Y : XOR_output}):\n",
    "            print(a)\n",
    "\n",
    "        \n",
    "e = time.clock()\n",
    "\n",
    "print('Time Elapsed = {}'.format(e-s))"
   ]
  }
 ],
 "metadata": {
  "kernelspec": {
   "display_name": "Python 3",
   "language": "python",
   "name": "python3"
  },
  "language_info": {
   "codemirror_mode": {
    "name": "ipython",
    "version": 3
   },
   "file_extension": ".py",
   "mimetype": "text/x-python",
   "name": "python",
   "nbconvert_exporter": "python",
   "pygments_lexer": "ipython3",
   "version": "3.7.6"
  }
 },
 "nbformat": 4,
 "nbformat_minor": 4
}
