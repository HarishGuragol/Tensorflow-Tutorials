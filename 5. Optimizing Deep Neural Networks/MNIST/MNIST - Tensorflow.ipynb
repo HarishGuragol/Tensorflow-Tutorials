{
 "cells": [
  {
   "cell_type": "markdown",
   "metadata": {},
   "source": [
    "Import tensorflow and disable v2"
   ]
  },
  {
   "cell_type": "code",
   "execution_count": null,
   "metadata": {},
   "outputs": [],
   "source": [
    "#Importing packages\n",
    "import time\n",
    "import tensorflow.compat.v1 as tf\n",
    "import input_data\n",
    "import matplotlib.pyplot as plt\n",
    "\n",
    "tf.disable_v2_behavior()"
   ]
  },
  {
   "cell_type": "markdown",
   "metadata": {},
   "source": [
    "Load MNIST Data"
   ]
  },
  {
   "cell_type": "code",
   "execution_count": null,
   "metadata": {},
   "outputs": [],
   "source": [
    "#MNIST Dataset has 70000 instances of hand written digits from 0-9, each image size is 28*28\n",
    "mnist = input_data.read_data_sets(\"MNIST_data/\", one_hot = True)"
   ]
  },
  {
   "cell_type": "markdown",
   "metadata": {},
   "source": [
    "Define the Hyperparameter & Data info"
   ]
  },
  {
   "cell_type": "code",
   "execution_count": null,
   "metadata": {},
   "outputs": [],
   "source": [
    "#Learning Rate, Iterations, Batch Size Hyperparameters\n",
    "learning_rate = 0.001\n",
    "iterations = 10000\n",
    "batch_size = 128\n",
    "#dropout = 0.5\n",
    "#epochs = 10"
   ]
  },
  {
   "cell_type": "markdown",
   "metadata": {},
   "source": [
    "Create placeholders for Input(X) and Output(Y)"
   ]
  },
  {
   "cell_type": "code",
   "execution_count": null,
   "metadata": {},
   "outputs": [],
   "source": [
    "#Define the placeholders for holding Input and Output Instances\n",
    "#Here shape is [None, 784], where None means any number of  examples can be passed and 784 stands for 28 * 28\n",
    "X = tf.placeholder(tf.float32, shape = [None, 784])\n",
    "#Here shape is [None, 10], where 10 represents number of output classes\n",
    "Y = tf.placeholder(tf.float32, shape = [None, 10])"
   ]
  },
  {
   "cell_type": "markdown",
   "metadata": {},
   "source": [
    "Define the weight matrices"
   ]
  },
  {
   "cell_type": "code",
   "execution_count": null,
   "metadata": {},
   "outputs": [],
   "source": [
    "#Defining the weights of 2 hidden layers and output layer\n",
    "w1 = tf.get_variable(name = 'w1', shape = [784, 512], regularizer = tf.contrib.layers.l2_regularizer(0.001))\n",
    "w2 = tf.get_variable(name = 'w2', shape = [512, 256], regularizer = tf.contrib.layers.l2_regularizer(0.001))\n",
    "w3 = tf.get_variable(name = 'w3', shape = [256, 10], regularizer = tf.contrib.layers.l2_regularizer(0.001))"
   ]
  },
  {
   "cell_type": "markdown",
   "metadata": {},
   "source": [
    "Define the bias "
   ]
  },
  {
   "cell_type": "code",
   "execution_count": null,
   "metadata": {},
   "outputs": [],
   "source": [
    "#Defining the bias of 2 hidden layers and output layer\n",
    "b1 = tf.Variable(tf.constant(0, shape = [512], dtype = tf.float32))\n",
    "b2 = tf.Variable(tf.constant(0, shape = [256], dtype = tf.float32))\n",
    "b3 = tf.Variable(tf.constant(0, shape = [10], dtype = tf.float32))"
   ]
  },
  {
   "cell_type": "markdown",
   "metadata": {},
   "source": [
    "Setup the model flow"
   ]
  },
  {
   "cell_type": "code",
   "execution_count": null,
   "metadata": {},
   "outputs": [],
   "source": [
    "#Setting the flow -> Input -> L1 -> A1 -> L2 -> A2 -> Ouput\n",
    "A1 = tf.nn.relu(tf.matmul(X, w1) + b1)\n",
    "A2 = tf.nn.relu(tf.matmul(A1, w2) + b2)\n",
    "#drop = tf.nn.dropout(A3, 0.5)\n",
    "Yhat = tf.nn.softmax(tf.matmul(A2, w3) + b3)"
   ]
  },
  {
   "cell_type": "markdown",
   "metadata": {},
   "source": [
    "Define the cost function"
   ]
  },
  {
   "cell_type": "code",
   "execution_count": null,
   "metadata": {},
   "outputs": [],
   "source": [
    "#Cost function definition, using the softmax cross entropy loss\n",
    "cross_entropy = tf.reduce_mean(tf.nn.softmax_cross_entropy_with_logits(logits = Yhat, labels = Y))\n",
    "final_loss = cross_entropy + tf.reduce_sum(tf.losses.get_regularization_loss())"
   ]
  },
  {
   "cell_type": "markdown",
   "metadata": {},
   "source": [
    "Metrics to check predictions"
   ]
  },
  {
   "cell_type": "code",
   "execution_count": null,
   "metadata": {},
   "outputs": [],
   "source": [
    "#To verify the predictions\n",
    "pred = tf.equal(tf.argmax(Yhat, 1), tf.argmax(Y, 1))\n",
    "accuracy = tf.reduce_mean(tf.cast(pred, tf.float32))"
   ]
  },
  {
   "cell_type": "markdown",
   "metadata": {},
   "source": [
    "Put it all together"
   ]
  },
  {
   "cell_type": "code",
   "execution_count": null,
   "metadata": {},
   "outputs": [],
   "source": [
    "#Setup the optimizer function with learning rate as parameter\n",
    "#train_step = tf.train.AdamOptimizer(learning_rate).minimize(cross_entropy)\n",
    "train_step = tf.train.AdamOptimizer(learning_rate).minimize(final_loss)"
   ]
  },
  {
   "cell_type": "markdown",
   "metadata": {},
   "source": [
    "Instantiate the tensorflow global variables -> Graph"
   ]
  },
  {
   "cell_type": "code",
   "execution_count": null,
   "metadata": {},
   "outputs": [],
   "source": [
    "#Initialize the Tensorflow Session and global varibales (Get it ready to spawn a Computational Graph)\n",
    "init = tf.global_variables_initializer()\n",
    "sess = tf.Session()\n",
    "sess.run(init)"
   ]
  },
  {
   "cell_type": "markdown",
   "metadata": {},
   "source": [
    "Let's train for 10000 iterations"
   ]
  },
  {
   "cell_type": "code",
   "execution_count": null,
   "metadata": {},
   "outputs": [],
   "source": [
    "#Run the for-loop for a well defined number of epochs\n",
    "s = time.clock()\n",
    "loss = []\n",
    "accuracy1 = []\n",
    "for i in range(iterations + 1):\n",
    "\n",
    "    #Train in mini-batches\n",
    "    batchX, batchY = mnist.train.next_batch(batch_size)\n",
    "\n",
    "    #Generate the Computational Graph and train the network\n",
    "    sess.run(train_step, feed_dict={X: batchX, Y: batchY})\n",
    "\n",
    "    #Print step and cost values at end of every 100th step\n",
    "    if i % 1000 == 0:\n",
    "        minibatch_loss, minibatch_accuracy = sess.run([cross_entropy, accuracy], feed_dict={X: batchX, Y: batchY})\n",
    "        \n",
    "        print('Iteration = {}'.format(i))\n",
    "        print('Loss = {}'.format(minibatch_loss))\n",
    "        print('Accuracy = {}\\n'.format(minibatch_accuracy))\n",
    "        \n",
    "        loss.append(minibatch_loss)\n",
    "        accuracy1.append(minibatch_accuracy)\n",
    "    \n",
    "            \n",
    "e = time.clock()\n",
    "\n",
    "print('Time Elapsed = {} \\n'.format(e-s))\n",
    "\n",
    "test_accuracy = sess.run(accuracy, feed_dict={X: mnist.test.images, Y: mnist.test.labels})\n",
    "print('Accuracy on Test Set is {}'.format(test_accuracy))"
   ]
  },
  {
   "cell_type": "markdown",
   "metadata": {},
   "source": [
    "Plotting the graph"
   ]
  },
  {
   "cell_type": "code",
   "execution_count": null,
   "metadata": {},
   "outputs": [],
   "source": [
    "import matplotlib.pyplot as plt\n",
    "import numpy as np\n",
    "\n",
    "iterations = np.arange(0, 10001, 1000)\n",
    "plt.plot(iterations, loss, label = 'Training Loss')\n",
    "plt.title('Loss graph')\n",
    "plt.xlabel('Epochs')\n",
    "plt.xticks(np.arange(0, 10001, 1000))\n",
    "plt.ylabel('Loss')\n",
    "plt.legend()\n",
    "plt.show()"
   ]
  },
  {
   "cell_type": "code",
   "execution_count": null,
   "metadata": {},
   "outputs": [],
   "source": [
    "iterations = np.arange(0, 10001, 1000)\n",
    "plt.plot(iterations, accuracy1, label = 'Training Accuracy')\n",
    "plt.title('Accuracy graph')\n",
    "plt.xlabel('Epochs')\n",
    "plt.xticks(np.arange(0, 10001, 1000))\n",
    "plt.ylabel('Accuracy')\n",
    "plt.legend()\n",
    "plt.show()"
   ]
  },
  {
   "cell_type": "markdown",
   "metadata": {},
   "source": [
    "Real Time Predictions"
   ]
  },
  {
   "cell_type": "code",
   "execution_count": null,
   "metadata": {},
   "outputs": [],
   "source": [
    "#Import required packages\n",
    "import numpy as np\n",
    "from PIL import Image"
   ]
  },
  {
   "cell_type": "code",
   "execution_count": null,
   "metadata": {},
   "outputs": [],
   "source": [
    "#Loading, converting and flattening an image for prediction\n",
    "img = np.invert(Image.open('test_img.png').convert('L')).ravel()"
   ]
  },
  {
   "cell_type": "code",
   "execution_count": null,
   "metadata": {},
   "outputs": [],
   "source": [
    "#Passing the loaded image to the neural network\n",
    "prediction = sess.run(tf.argmax(Yhat, 1), feed_dict={X: [img]})\n",
    "print('Actual Ground Truth is {}'.format(2))\n",
    "print('Prediction for test image is {}'.format(np.squeeze(prediction)))\n",
    "plt.imshow(img)"
   ]
  },
  {
   "cell_type": "code",
   "execution_count": null,
   "metadata": {},
   "outputs": [],
   "source": [
    "#Prediction using data from the Test Set randomly (We can select the index randomly)\n",
    "\n",
    "prediction = sess.run(tf.argmax(Yhat, 1), feed_dict={X: [mnist.test.images[21]]})\n",
    "print('Actual Ground Truth is {}'.format(np.squeeze(mnist.test.labels[21])))\n",
    "print('Prediction for test image is {}'.format(np.squeeze(prediction)))\n",
    "plt.imshow(mnist.test.images[21])"
   ]
  }
 ],
 "metadata": {
  "kernelspec": {
   "display_name": "Python 3",
   "language": "python",
   "name": "python3"
  },
  "language_info": {
   "codemirror_mode": {
    "name": "ipython",
    "version": 3
   },
   "file_extension": ".py",
   "mimetype": "text/x-python",
   "name": "python",
   "nbconvert_exporter": "python",
   "pygments_lexer": "ipython3",
   "version": "3.7.6"
  }
 },
 "nbformat": 4,
 "nbformat_minor": 4
}
