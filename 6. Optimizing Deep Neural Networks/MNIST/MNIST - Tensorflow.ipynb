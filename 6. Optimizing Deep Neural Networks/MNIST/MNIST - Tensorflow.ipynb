{
 "cells": [
  {
   "cell_type": "markdown",
   "metadata": {},
   "source": [
    "Import tensorflow and disable v2"
   ]
  },
  {
   "cell_type": "code",
   "execution_count": 1,
   "metadata": {},
   "outputs": [
    {
     "name": "stdout",
     "output_type": "stream",
     "text": [
      "WARNING:tensorflow:From C:\\Users\\Pranav\\anaconda3\\lib\\site-packages\\tensorflow\\python\\compat\\v2_compat.py:96: disable_resource_variables (from tensorflow.python.ops.variable_scope) is deprecated and will be removed in a future version.\n",
      "Instructions for updating:\n",
      "non-resource variables are not supported in the long term\n"
     ]
    }
   ],
   "source": [
    "#Importing packages\n",
    "import time\n",
    "import tensorflow.compat.v1 as tf\n",
    "import input_data\n",
    "\n",
    "tf.disable_v2_behavior()"
   ]
  },
  {
   "cell_type": "markdown",
   "metadata": {},
   "source": [
    "Load MNIST Data"
   ]
  },
  {
   "cell_type": "code",
   "execution_count": 2,
   "metadata": {},
   "outputs": [
    {
     "name": "stdout",
     "output_type": "stream",
     "text": [
      "WARNING:tensorflow:From <ipython-input-2-de78a0f2e290>:2: read_data_sets (from input_data) is deprecated and will be removed in a future version.\n",
      "Instructions for updating:\n",
      "Please use alternatives such as: tensorflow_datasets.load('mnist')\n",
      "WARNING:tensorflow:From E:\\Tensorflow-Tutorials\\5. Optimizing Deep Neural Networks\\MNIST\\input_data.py:297: _maybe_download (from input_data) is deprecated and will be removed in a future version.\n",
      "Instructions for updating:\n",
      "Please write your own downloading logic.\n",
      "Successfully downloaded train-images-idx3-ubyte.gz 9912422 bytes.\n",
      "WARNING:tensorflow:From E:\\Tensorflow-Tutorials\\5. Optimizing Deep Neural Networks\\MNIST\\input_data.py:299: _extract_images (from input_data) is deprecated and will be removed in a future version.\n",
      "Instructions for updating:\n",
      "Please use tf.data to implement this functionality.\n",
      "Extracting MNIST_data/train-images-idx3-ubyte.gz\n",
      "Successfully downloaded train-labels-idx1-ubyte.gz 28881 bytes.\n",
      "WARNING:tensorflow:From E:\\Tensorflow-Tutorials\\5. Optimizing Deep Neural Networks\\MNIST\\input_data.py:304: _extract_labels (from input_data) is deprecated and will be removed in a future version.\n",
      "Instructions for updating:\n",
      "Please use tf.data to implement this functionality.\n",
      "Extracting MNIST_data/train-labels-idx1-ubyte.gz\n",
      "WARNING:tensorflow:From E:\\Tensorflow-Tutorials\\5. Optimizing Deep Neural Networks\\MNIST\\input_data.py:112: _dense_to_one_hot (from input_data) is deprecated and will be removed in a future version.\n",
      "Instructions for updating:\n",
      "Please use tf.one_hot on tensors.\n",
      "Successfully downloaded t10k-images-idx3-ubyte.gz 1648877 bytes.\n",
      "Extracting MNIST_data/t10k-images-idx3-ubyte.gz\n",
      "Successfully downloaded t10k-labels-idx1-ubyte.gz 4542 bytes.\n",
      "Extracting MNIST_data/t10k-labels-idx1-ubyte.gz\n",
      "WARNING:tensorflow:From E:\\Tensorflow-Tutorials\\5. Optimizing Deep Neural Networks\\MNIST\\input_data.py:328: _DataSet.__init__ (from input_data) is deprecated and will be removed in a future version.\n",
      "Instructions for updating:\n",
      "Please use alternatives such as official/mnist/_DataSet.py from tensorflow/models.\n"
     ]
    }
   ],
   "source": [
    "#MNIST Dataset has 70000 instances of hand written digits from 0-9, each image size is 28*28\n",
    "mnist = input_data.read_data_sets(\"MNIST_data/\", one_hot = True)"
   ]
  },
  {
   "cell_type": "markdown",
   "metadata": {},
   "source": [
    "Define the Hyperparameter & Data info"
   ]
  },
  {
   "cell_type": "code",
   "execution_count": 3,
   "metadata": {},
   "outputs": [],
   "source": [
    "#Learning Rate, Iterations, Batch Size Hyperparameters\n",
    "learning_rate = 0.001\n",
    "iterations = 10000\n",
    "batch_size = 128\n",
    "dropout = 0.5\n",
    "#epochs = 10"
   ]
  },
  {
   "cell_type": "markdown",
   "metadata": {},
   "source": [
    "Create placeholders for Input(X) and Output(Y)"
   ]
  },
  {
   "cell_type": "code",
   "execution_count": 4,
   "metadata": {},
   "outputs": [],
   "source": [
    "#Define the placeholders for holding Input and Output Instances\n",
    "#Here shape is [None, 784], where None means any number of  examples can be passed and 784 stands for 28 * 28\n",
    "X = tf.placeholder(tf.float32, shape = [None, 784])\n",
    "#Here shape is [None, 10], where 10 represents number of output classes\n",
    "Y = tf.placeholder(tf.float32, shape = [None, 10])\n",
    "#Dropout\n",
    "keep_prob = tf.placeholder(tf.float32)"
   ]
  },
  {
   "cell_type": "markdown",
   "metadata": {},
   "source": [
    "Define the weight matrices"
   ]
  },
  {
   "cell_type": "code",
   "execution_count": 5,
   "metadata": {},
   "outputs": [],
   "source": [
    "#Defining the weights of 2 hidden layers and output layer\n",
    "w1 = tf.Variable(tf.truncated_normal([784, 512], stddev = 0.1))\n",
    "w2 = tf.Variable(tf.truncated_normal([512, 256], stddev = 0.1))\n",
    "w3 = tf.Variable(tf.truncated_normal([256, 10], stddev = 0.1))"
   ]
  },
  {
   "cell_type": "markdown",
   "metadata": {},
   "source": [
    "Define the bias "
   ]
  },
  {
   "cell_type": "code",
   "execution_count": 6,
   "metadata": {},
   "outputs": [],
   "source": [
    "#Defining the bias of 2 hidden layers and output layer\n",
    "b1 = tf.Variable(tf.constant(0, shape = [512], dtype = tf.float32))\n",
    "b2 = tf.Variable(tf.constant(0, shape = [256], dtype = tf.float32))\n",
    "b3 = tf.Variable(tf.constant(0, shape = [10], dtype = tf.float32))"
   ]
  },
  {
   "cell_type": "markdown",
   "metadata": {},
   "source": [
    "Setup the model flow"
   ]
  },
  {
   "cell_type": "code",
   "execution_count": 7,
   "metadata": {},
   "outputs": [
    {
     "name": "stdout",
     "output_type": "stream",
     "text": [
      "WARNING:tensorflow:From <ipython-input-7-adc113ba324d>:5: calling dropout (from tensorflow.python.ops.nn_ops) with keep_prob is deprecated and will be removed in a future version.\n",
      "Instructions for updating:\n",
      "Please use `rate` instead of `keep_prob`. Rate should be set to `rate = 1 - keep_prob`.\n"
     ]
    }
   ],
   "source": [
    "#Setting the flow -> Input -> L1 -> A1 -> L2 -> A2 -> Ouput\n",
    "A1 = tf.nn.relu(tf.matmul(X, w1) + b1)\n",
    "#drop1 = tf.nn.dropout(A1, keep_prob)\n",
    "A2 = tf.nn.relu(tf.matmul(A1, w2) + b2)\n",
    "drop2 = tf.nn.dropout(A2, keep_prob)\n",
    "Yhat = tf.nn.softmax(tf.matmul(A2, w3) + b3)"
   ]
  },
  {
   "cell_type": "markdown",
   "metadata": {},
   "source": [
    "Define the cost function"
   ]
  },
  {
   "cell_type": "code",
   "execution_count": 8,
   "metadata": {},
   "outputs": [
    {
     "name": "stdout",
     "output_type": "stream",
     "text": [
      "WARNING:tensorflow:From <ipython-input-8-daed0c9d06f0>:2: softmax_cross_entropy_with_logits (from tensorflow.python.ops.nn_ops) is deprecated and will be removed in a future version.\n",
      "Instructions for updating:\n",
      "\n",
      "Future major versions of TensorFlow will allow gradients to flow\n",
      "into the labels input on backprop by default.\n",
      "\n",
      "See `tf.nn.softmax_cross_entropy_with_logits_v2`.\n",
      "\n"
     ]
    }
   ],
   "source": [
    "#Cost function definition, using the softmax cross entropy loss\n",
    "cross_entropy = tf.reduce_mean(tf.nn.softmax_cross_entropy_with_logits(logits = Yhat, labels = Y))"
   ]
  },
  {
   "cell_type": "markdown",
   "metadata": {},
   "source": [
    "Metrics to check predictions"
   ]
  },
  {
   "cell_type": "code",
   "execution_count": 9,
   "metadata": {},
   "outputs": [],
   "source": [
    "#To verify the predictions\n",
    "pred = tf.equal(tf.argmax(Yhat, 1), tf.argmax(Y, 1))\n",
    "accuracy = tf.reduce_mean(tf.cast(pred, tf.float32))"
   ]
  },
  {
   "cell_type": "markdown",
   "metadata": {},
   "source": [
    "Put it all together"
   ]
  },
  {
   "cell_type": "code",
   "execution_count": 10,
   "metadata": {},
   "outputs": [],
   "source": [
    "#Setup the optimizer function with learning rate as parameter\n",
    "train_step = tf.train.AdamOptimizer(learning_rate).minimize(cross_entropy)"
   ]
  },
  {
   "cell_type": "markdown",
   "metadata": {},
   "source": [
    "Instantiate the tensorflow global variables -> Graph"
   ]
  },
  {
   "cell_type": "code",
   "execution_count": 11,
   "metadata": {},
   "outputs": [],
   "source": [
    "#Initialize the Tensorflow Session and global varibales (Get it ready to spawn a Computational Graph)\n",
    "init = tf.global_variables_initializer()\n",
    "sess = tf.Session()\n",
    "sess.run(init)"
   ]
  },
  {
   "cell_type": "markdown",
   "metadata": {},
   "source": [
    "Let's train for 10000 iterations"
   ]
  },
  {
   "cell_type": "code",
   "execution_count": 12,
   "metadata": {},
   "outputs": [
    {
     "name": "stderr",
     "output_type": "stream",
     "text": [
      "C:\\Users\\Pranav\\anaconda3\\lib\\site-packages\\ipykernel_launcher.py:2: DeprecationWarning: time.clock has been deprecated in Python 3.3 and will be removed from Python 3.8: use time.perf_counter or time.process_time instead\n",
      "  \n"
     ]
    },
    {
     "name": "stdout",
     "output_type": "stream",
     "text": [
      "Iteration = 0\n",
      "Loss = 2.20377779006958\n",
      "Accuracy = 0.296875\n",
      "\n",
      "Iteration = 1000\n",
      "Loss = 1.493693232536316\n",
      "Accuracy = 0.96875\n",
      "\n",
      "Iteration = 2000\n",
      "Loss = 1.4925189018249512\n",
      "Accuracy = 0.96875\n",
      "\n",
      "Iteration = 3000\n",
      "Loss = 1.4694232940673828\n",
      "Accuracy = 0.9921875\n",
      "\n",
      "Iteration = 4000\n",
      "Loss = 1.4614896774291992\n",
      "Accuracy = 1.0\n",
      "\n",
      "Iteration = 5000\n",
      "Loss = 1.476994514465332\n",
      "Accuracy = 0.984375\n",
      "\n",
      "Iteration = 6000\n",
      "Loss = 1.4690041542053223\n",
      "Accuracy = 0.9921875\n",
      "\n",
      "Iteration = 7000\n",
      "Loss = 1.4616968631744385\n",
      "Accuracy = 1.0\n",
      "\n",
      "Iteration = 8000\n",
      "Loss = 1.4613409042358398\n",
      "Accuracy = 1.0\n",
      "\n",
      "Iteration = 9000\n",
      "Loss = 1.4711644649505615\n",
      "Accuracy = 0.9921875\n",
      "\n",
      "Iteration = 10000\n",
      "Loss = 1.4689475297927856\n",
      "Accuracy = 0.9921875\n",
      "\n",
      "Time Elapsed = 101.17978250000002 \n",
      "\n"
     ]
    },
    {
     "name": "stderr",
     "output_type": "stream",
     "text": [
      "C:\\Users\\Pranav\\anaconda3\\lib\\site-packages\\ipykernel_launcher.py:25: DeprecationWarning: time.clock has been deprecated in Python 3.3 and will be removed from Python 3.8: use time.perf_counter or time.process_time instead\n"
     ]
    },
    {
     "name": "stdout",
     "output_type": "stream",
     "text": [
      "Accuracy on Test Set is 0.9812999963760376\n"
     ]
    }
   ],
   "source": [
    "#Run the for-loop for a well defined number of epochs\n",
    "s = time.clock()\n",
    "loss = []\n",
    "accuracy1 = []\n",
    "for i in range(iterations + 1):\n",
    "\n",
    "    #Train in mini-batches\n",
    "    batchX, batchY = mnist.train.next_batch(batch_size)\n",
    "\n",
    "    #Generate the Computational Graph and train the network\n",
    "    sess.run(train_step, feed_dict={X: batchX, Y: batchY, keep_prob: dropout})\n",
    "\n",
    "    #Print step and cost values at end of every 100th step\n",
    "    if i % 1000 == 0:\n",
    "        minibatch_loss, minibatch_accuracy = sess.run([cross_entropy, accuracy], feed_dict={X: batchX, Y: batchY, keep_prob: 1.0})\n",
    "        \n",
    "        print('Iteration = {}'.format(i))\n",
    "        print('Loss = {}'.format(minibatch_loss))\n",
    "        print('Accuracy = {}\\n'.format(minibatch_accuracy))\n",
    "        \n",
    "        loss.append(minibatch_loss)\n",
    "        accuracy1.append(minibatch_accuracy)\n",
    "    \n",
    "            \n",
    "e = time.clock()\n",
    "\n",
    "print('Time Elapsed = {} \\n'.format(e-s))\n",
    "\n",
    "test_accuracy = sess.run(accuracy, feed_dict={X: mnist.test.images, Y: mnist.test.labels, keep_prob: 1.0})\n",
    "print('Accuracy on Test Set is {}'.format(test_accuracy))"
   ]
  },
  {
   "cell_type": "markdown",
   "metadata": {},
   "source": [
    "Plotting the graph"
   ]
  },
  {
   "cell_type": "code",
   "execution_count": 13,
   "metadata": {},
   "outputs": [
    {
     "data": {
      "image/png": "[encoded data removed]",
      "text/plain": [
       "<Figure size 432x288 with 1 Axes>"
      ]
     },
     "metadata": {
      "needs_background": "light"
     },
     "output_type": "display_data"
    }
   ],
   "source": [
    "import matplotlib.pyplot as plt\n",
    "import numpy as np\n",
    "\n",
    "iterations = np.arange(0, 10001, 1000)\n",
    "plt.plot(iterations, loss, label = 'Training Loss')\n",
    "plt.title('Loss graph')\n",
    "plt.xlabel('Epochs')\n",
    "plt.xticks(np.arange(0, 10001, 1000))\n",
    "plt.ylabel('Loss')\n",
    "plt.legend()\n",
    "plt.show()"
   ]
  },
  {
   "cell_type": "code",
   "execution_count": 14,
   "metadata": {},
   "outputs": [
    {
     "data": {
      "image/png": "[encoded data removed]",
      "text/plain": [
       "<Figure size 432x288 with 1 Axes>"
      ]
     },
     "metadata": {
      "needs_background": "light"
     },
     "output_type": "display_data"
    }
   ],
   "source": [
    "iterations = np.arange(0, 10001, 1000)\n",
    "plt.plot(iterations, accuracy1, label = 'Training Accuracy')\n",
    "plt.title('Accuracy graph')\n",
    "plt.xlabel('Epochs')\n",
    "plt.xticks(np.arange(0, 10001, 1000))\n",
    "plt.ylabel('Accuracy')\n",
    "plt.legend()\n",
    "plt.show()"
   ]
  },
  {
   "cell_type": "markdown",
   "metadata": {},
   "source": [
    "Real Time Predictions"
   ]
  },
  {
   "cell_type": "code",
   "execution_count": 15,
   "metadata": {},
   "outputs": [],
   "source": [
    "#Import required packages\n",
    "import numpy as np\n",
    "from PIL import Image"
   ]
  },
  {
   "cell_type": "code",
   "execution_count": 16,
   "metadata": {},
   "outputs": [],
   "source": [
    "#Loading, converting and flattening an image for prediction\n",
    "img = np.invert(Image.open('test_img.png').convert('L')).ravel()"
   ]
  },
  {
   "cell_type": "code",
   "execution_count": 17,
   "metadata": {},
   "outputs": [
    {
     "name": "stdout",
     "output_type": "stream",
     "text": [
      "Actual Ground Truth is 2\n",
      "Prediction for test image is 2\n"
     ]
    }
   ],
   "source": [
    "#Passing the loaded image to the neural network\n",
    "prediction = sess.run(tf.argmax(Yhat, 1), feed_dict={X: [img]})\n",
    "print('Actual Ground Truth is {}'.format(2))\n",
    "print('Prediction for test image is {}'.format(np.squeeze(prediction)))"
   ]
  },
  {
   "cell_type": "code",
   "execution_count": 18,
   "metadata": {},
   "outputs": [
    {
     "name": "stdout",
     "output_type": "stream",
     "text": [
      "Actual Ground Truth is [0. 0. 0. 0. 0. 0. 1. 0. 0. 0.]\n",
      "Prediction for test image is 6\n"
     ]
    }
   ],
   "source": [
    "#Prediction using data from the Test Set randomly (We can select the index randomly)\n",
    "\n",
    "prediction = sess.run(tf.argmax(Yhat, 1), feed_dict={X: [mnist.test.images[21]]})\n",
    "print('Actual Ground Truth is {}'.format(np.squeeze(mnist.test.labels[21])))\n",
    "print('Prediction for test image is {}'.format(np.squeeze(prediction)))"
   ]
  }
 ],
 "metadata": {
  "kernelspec": {
   "display_name": "Python 3",
   "language": "python",
   "name": "python3"
  },
  "language_info": {
   "codemirror_mode": {
    "name": "ipython",
    "version": 3
   },
   "file_extension": ".py",
   "mimetype": "text/x-python",
   "name": "python",
   "nbconvert_exporter": "python",
   "pygments_lexer": "ipython3",
   "version": "3.7.6"
  }
 },
 "nbformat": 4,
 "nbformat_minor": 4
}
