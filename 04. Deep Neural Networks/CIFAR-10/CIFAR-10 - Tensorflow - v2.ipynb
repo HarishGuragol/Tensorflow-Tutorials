{
 "cells": [
  {
   "cell_type": "markdown",
   "metadata": {},
   "source": [
    "### Import packages "
   ]
  },
  {
   "cell_type": "code",
   "execution_count": 1,
   "metadata": {},
   "outputs": [],
   "source": [
    "#Importing packages\n",
    "import time\n",
    "import numpy as np\n",
    "import tensorflow as tf\n",
    "from tensorflow.keras import Model, layers\n",
    "from tensorflow.keras.datasets import cifar10\n",
    "from tensorflow.keras.utils import to_categorical"
   ]
  },
  {
   "cell_type": "markdown",
   "metadata": {},
   "source": [
    "### Define the Hyperparameter & Data info"
   ]
  },
  {
   "cell_type": "code",
   "execution_count": 2,
   "metadata": {},
   "outputs": [],
   "source": [
    "#Learning Rate, Iterations, Batch Size Hyperparameters\n",
    "learning_rate = 0.001\n",
    "iterations = 40000\n",
    "batch_size = 256\n",
    "#dropout = 0.5\n",
    "#epochs = 10"
   ]
  },
  {
   "cell_type": "markdown",
   "metadata": {},
   "source": [
    "### Load CIFAR-10 Data"
   ]
  },
  {
   "cell_type": "code",
   "execution_count": 3,
   "metadata": {},
   "outputs": [],
   "source": [
    "#CIFAR-10 Dataset has 60000 images of common objects, 6k images per class and 10 classes in total\n",
    "(X_train, Y_train), (X_test, Y_test) = cifar10.load_data()"
   ]
  },
  {
   "cell_type": "markdown",
   "metadata": {},
   "source": [
    "### Data Preparation"
   ]
  },
  {
   "cell_type": "code",
   "execution_count": 4,
   "metadata": {},
   "outputs": [
    {
     "name": "stdout",
     "output_type": "stream",
     "text": [
      "(50000, 3072)\n",
      "(50000, 10)\n",
      "(10000, 3072)\n",
      "(10000, 10)\n"
     ]
    }
   ],
   "source": [
    "#Convert to float type\n",
    "X_train, X_test = np.array(X_train, np.float32), np.array(X_test, np.float32)\n",
    "\n",
    "#Flatten images to 1-D vector of 3072 features (32*32*3)\n",
    "X_train, X_test = X_train.reshape([-1, 3072]), X_test.reshape([-1, 3072])\n",
    "\n",
    "#One hot encoding of labels\n",
    "Y_train = to_categorical(Y_train, 10)\n",
    "Y_test = to_categorical(Y_test, 10)\n",
    "\n",
    "#Normalization of images\n",
    "X_train = X_train / 255.\n",
    "X_test = X_test / 255.\n",
    "\n",
    "#Use Tensorflow data for shuffling and fetching it batchwise\n",
    "train_data = tf.data.Dataset.from_tensor_slices((X_train, Y_train))\n",
    "train_data = train_data.repeat().shuffle(5000).batch(batch_size).prefetch(1)\n",
    "\n",
    "print(X_train.shape)\n",
    "print(Y_train.shape)\n",
    "print(X_test.shape)\n",
    "print(Y_test.shape)"
   ]
  },
  {
   "cell_type": "markdown",
   "metadata": {},
   "source": [
    "### Define the model"
   ]
  },
  {
   "cell_type": "code",
   "execution_count": 5,
   "metadata": {},
   "outputs": [],
   "source": [
    "class NeuralNet(Model):\n",
    "    \n",
    "    def __init__(self):\n",
    "        super(NeuralNet, self).__init__()\n",
    "        self.L1 = layers.Dense(1024, activation=tf.nn.relu)\n",
    "        self.L2 = layers.Dense(512, activation=tf.nn.relu)\n",
    "        self.L3 = layers.Dense(256, activation=tf.nn.relu)\n",
    "        self.L4 = layers.Dense(128, activation=tf.nn.relu)\n",
    "        self.Yhat = layers.Dense(10)\n",
    "\n",
    "    # Set forward pass.\n",
    "    def call(self, x, is_training=False):\n",
    "        x = self.L1(x)\n",
    "        x = self.L2(x)\n",
    "        x = self.L3(x)\n",
    "        x = self.L4(x)\n",
    "        x = self.Yhat(x)\n",
    "        if not is_training:\n",
    "            x = tf.nn.softmax(x)\n",
    "        return x\n",
    "\n",
    "# Build the network\n",
    "model = NeuralNet()"
   ]
  },
  {
   "cell_type": "markdown",
   "metadata": {},
   "source": [
    "### Define the cost function"
   ]
  },
  {
   "cell_type": "code",
   "execution_count": 6,
   "metadata": {},
   "outputs": [],
   "source": [
    "#Cost function definition, using the softmax cross entropy loss\n",
    "def cross_entropy(y_pred, y_true):\n",
    "    \n",
    "    loss = tf.nn.softmax_cross_entropy_with_logits(logits = y_pred, labels = y_true)\n",
    "    \n",
    "    return tf.reduce_mean(loss)"
   ]
  },
  {
   "cell_type": "markdown",
   "metadata": {},
   "source": [
    "### Metrics to check predictions"
   ]
  },
  {
   "cell_type": "code",
   "execution_count": 7,
   "metadata": {},
   "outputs": [],
   "source": [
    "#To verify the predictions\n",
    "def accuracy(y_pred, y_true):\n",
    "    \n",
    "    correct_prediction = tf.equal(tf.argmax(y_pred, 1), tf.argmax(y_true, 1))\n",
    "    a = tf.reduce_mean(tf.cast(correct_prediction, tf.float32), axis=-1)\n",
    "    \n",
    "    return a"
   ]
  },
  {
   "cell_type": "markdown",
   "metadata": {},
   "source": [
    "### Define the optimizer"
   ]
  },
  {
   "cell_type": "code",
   "execution_count": 8,
   "metadata": {},
   "outputs": [],
   "source": [
    "#Setup the optimizer function with learning rate as parameter\n",
    "optimizer = tf.optimizers.Adam(learning_rate)"
   ]
  },
  {
   "cell_type": "markdown",
   "metadata": {},
   "source": [
    "### Put it all together (Optimization of the network)"
   ]
  },
  {
   "cell_type": "code",
   "execution_count": 9,
   "metadata": {},
   "outputs": [],
   "source": [
    "def run(X, Y):\n",
    "    \n",
    "    #Using GradientTape for automatic differentiation.\n",
    "    with tf.GradientTape() as tape:\n",
    "        pred = model(X, is_training = True)\n",
    "        loss = cross_entropy(pred, Y)\n",
    "        \n",
    "    #Get W and B values \n",
    "    train_variables = model.trainable_variables\n",
    "    \n",
    "    #Compute gradients.\n",
    "    gradients = tape.gradient(loss, train_variables)\n",
    "    \n",
    "    #Update W and b following gradients\n",
    "    optimizer.apply_gradients(zip(gradients, train_variables))"
   ]
  },
  {
   "cell_type": "markdown",
   "metadata": {},
   "source": [
    "### Let's train for 40000 iterations"
   ]
  },
  {
   "cell_type": "code",
   "execution_count": 10,
   "metadata": {},
   "outputs": [
    {
     "name": "stderr",
     "output_type": "stream",
     "text": [
      "C:\\Users\\Pranav\\anaconda3\\lib\\site-packages\\ipykernel_launcher.py:2: DeprecationWarning: time.clock has been deprecated in Python 3.3 and will be removed from Python 3.8: use time.perf_counter or time.process_time instead\n",
      "  \n"
     ]
    },
    {
     "name": "stdout",
     "output_type": "stream",
     "text": [
      "Iteration = 2000\n",
      "Loss = 1.2670389413833618\n",
      "Accuracy = 0.53125\n",
      "\n",
      "Iteration = 4000\n",
      "Loss = 0.9940581321716309\n",
      "Accuracy = 0.6484375\n",
      "\n",
      "Iteration = 6000\n",
      "Loss = 0.6059043407440186\n",
      "Accuracy = 0.7890625\n",
      "\n",
      "Iteration = 8000\n",
      "Loss = 0.4105767011642456\n",
      "Accuracy = 0.84375\n",
      "\n",
      "Iteration = 10000\n",
      "Loss = 0.24148187041282654\n",
      "Accuracy = 0.9375\n",
      "\n",
      "Iteration = 12000\n",
      "Loss = 0.19604197144508362\n",
      "Accuracy = 0.94140625\n",
      "\n",
      "Iteration = 14000\n",
      "Loss = 0.15814144909381866\n",
      "Accuracy = 0.9453125\n",
      "\n",
      "Iteration = 16000\n",
      "Loss = 0.100471630692482\n",
      "Accuracy = 0.96484375\n",
      "\n",
      "Iteration = 18000\n",
      "Loss = 0.11904657632112503\n",
      "Accuracy = 0.9609375\n",
      "\n",
      "Iteration = 20000\n",
      "Loss = 0.12988662719726562\n",
      "Accuracy = 0.953125\n",
      "\n",
      "Iteration = 22000\n",
      "Loss = 0.1046629399061203\n",
      "Accuracy = 0.953125\n",
      "\n",
      "Iteration = 24000\n",
      "Loss = 0.06634382903575897\n",
      "Accuracy = 0.97265625\n",
      "\n",
      "Iteration = 26000\n",
      "Loss = 0.035869769752025604\n",
      "Accuracy = 0.9921875\n",
      "\n",
      "Iteration = 28000\n",
      "Loss = 0.09824971109628677\n",
      "Accuracy = 0.9609375\n",
      "\n",
      "Iteration = 30000\n",
      "Loss = 0.06062733381986618\n",
      "Accuracy = 0.984375\n",
      "\n",
      "Iteration = 32000\n",
      "Loss = 0.036776602268218994\n",
      "Accuracy = 0.9921875\n",
      "\n",
      "Iteration = 34000\n",
      "Loss = 0.03806554898619652\n",
      "Accuracy = 0.9921875\n",
      "\n",
      "Iteration = 36000\n",
      "Loss = 0.020215298980474472\n",
      "Accuracy = 0.99609375\n",
      "\n",
      "Iteration = 38000\n",
      "Loss = 0.040054015815258026\n",
      "Accuracy = 0.9921875\n",
      "\n",
      "Iteration = 40000\n",
      "Loss = 0.039605822414159775\n",
      "Accuracy = 0.984375\n",
      "\n",
      "Time Elapsed = 2900.9964852 \n",
      "\n"
     ]
    },
    {
     "name": "stderr",
     "output_type": "stream",
     "text": [
      "C:\\Users\\Pranav\\anaconda3\\lib\\site-packages\\ipykernel_launcher.py:21: DeprecationWarning: time.clock has been deprecated in Python 3.3 and will be removed from Python 3.8: use time.perf_counter or time.process_time instead\n"
     ]
    },
    {
     "name": "stdout",
     "output_type": "stream",
     "text": [
      "Accuracy on Test Set is 0.4970000088214874\n"
     ]
    }
   ],
   "source": [
    "#Run the for-loop for a well defined number of epochs\n",
    "s = time.clock()\n",
    "loss_plot = []\n",
    "accuracy_plot = []\n",
    "\n",
    "for i, (Batch_x, Batch_y) in enumerate(train_data.take(40001), 1):\n",
    "    #Run the optimization to update W and b values.\n",
    "    run(Batch_x, Batch_y)\n",
    "    \n",
    "    if i % 2000 == 0:\n",
    "        pred = model(Batch_x, is_training = True)\n",
    "        loss = cross_entropy(pred, Batch_y)\n",
    "        acc = accuracy(pred, Batch_y)\n",
    "        print('Iteration = {}'.format(i))\n",
    "        print('Loss = {}'.format(loss))\n",
    "        print('Accuracy = {}\\n'.format(acc))\n",
    "        \n",
    "        loss_plot.append(loss)\n",
    "        accuracy_plot.append(acc)\n",
    "        \n",
    "e = time.clock()\n",
    "\n",
    "print('Time Elapsed = {} \\n'.format(e-s))\n",
    "\n",
    "pred = model(X_test, is_training = False)\n",
    "test_accuracy = accuracy(pred, Y_test)\n",
    "print('Accuracy on Test Set is {}'.format(test_accuracy))"
   ]
  },
  {
   "cell_type": "markdown",
   "metadata": {},
   "source": [
    "### Plotting the graph"
   ]
  },
  {
   "cell_type": "code",
   "execution_count": 11,
   "metadata": {},
   "outputs": [
    {
     "data": {
      "image/png": "[encoded data removed]",
      "text/plain": [
       "<Figure size 432x288 with 1 Axes>"
      ]
     },
     "metadata": {
      "needs_background": "light"
     },
     "output_type": "display_data"
    }
   ],
   "source": [
    "import matplotlib.pyplot as plt\n",
    "import numpy as np\n",
    "\n",
    "iterations = np.arange(1000, 40001, 2000)\n",
    "plt.plot(iterations, loss_plot, label = 'Training Loss')\n",
    "plt.title('Loss graph')\n",
    "plt.xlabel('Epochs')\n",
    "plt.xticks(np.arange(1000, 40001, 2000))\n",
    "plt.ylabel('Loss')\n",
    "plt.legend()\n",
    "plt.show()"
   ]
  },
  {
   "cell_type": "code",
   "execution_count": 12,
   "metadata": {},
   "outputs": [
    {
     "data": {
      "image/png": "[encoded data removed]",
      "text/plain": [
       "<Figure size 432x288 with 1 Axes>"
      ]
     },
     "metadata": {
      "needs_background": "light"
     },
     "output_type": "display_data"
    }
   ],
   "source": [
    "iterations = np.arange(1000, 40001, 2000)\n",
    "plt.plot(iterations, accuracy_plot, label = 'Training Accuracy')\n",
    "plt.title('Accuracy graph')\n",
    "plt.xlabel('Epochs')\n",
    "plt.xticks(np.arange(1000, 40001, 2000))\n",
    "plt.ylabel('Accuracy')\n",
    "plt.legend()\n",
    "plt.show()"
   ]
  },
  {
   "cell_type": "markdown",
   "metadata": {},
   "source": [
    "### Real Time Predictions"
   ]
  },
  {
   "cell_type": "code",
   "execution_count": 13,
   "metadata": {},
   "outputs": [],
   "source": [
    "def real_time(index):\n",
    "    '''\n",
    "    Input - Number, which is treated as an index pointing to data in test set\n",
    "    Returns - None\n",
    "\n",
    "    Output - Predictions with display of the test Image\n",
    "    '''\n",
    "    \n",
    "    labels = ['Airplane', 'Automobile', 'Bird', 'Cat', 'Deer', 'Dog', 'Frog', 'Horse', 'Ship', 'Truck']\n",
    "    \n",
    "    prediction = model(X_test[index].reshape(1, 3072), is_training = False)\n",
    "    print('Actual Ground Truth is {} ; {}'.format(np.squeeze(Y_test[index]), labels[np.argmax(Y_test[index])]))\n",
    "    print('Prediction for test image is {}; {}'.format(np.squeeze(prediction), labels[np.argmax(prediction[0])]))\n",
    "    plt.imshow(np.reshape(X_test[index].reshape(1, 3072), [32, 32, 3]))"
   ]
  },
  {
   "cell_type": "code",
   "execution_count": 14,
   "metadata": {},
   "outputs": [
    {
     "name": "stdout",
     "output_type": "stream",
     "text": [
      "Actual Ground Truth is [0. 0. 0. 0. 0. 0. 0. 1. 0. 0.] ; Horse\n",
      "Prediction for test image is [4.0361861e-10 6.5046901e-01 1.5454960e-14 8.8102983e-09 3.9706947e-06\n",
      " 9.5290664e-11 8.8550602e-13 2.7116498e-06 2.8588127e-09 3.4952432e-01]; Automobile\n"
     ]
    },
    {
     "data": {
      "image/png": "[encoded data removed]",
      "text/plain": [
       "<Figure size 432x288 with 1 Axes>"
      ]
     },
     "metadata": {
      "needs_background": "light"
     },
     "output_type": "display_data"
    }
   ],
   "source": [
    "real_time(20)"
   ]
  },
  {
   "cell_type": "code",
   "execution_count": 15,
   "metadata": {},
   "outputs": [
    {
     "name": "stdout",
     "output_type": "stream",
     "text": [
      "Actual Ground Truth is [0. 0. 0. 0. 1. 0. 0. 0. 0. 0.] ; Deer\n",
      "Prediction for test image is [1.8962573e-02 3.7770977e-09 1.3230922e-16 3.2771999e-14 9.8103619e-01\n",
      " 1.0615724e-12 3.7673977e-17 3.6761421e-09 1.2706984e-06 5.3345119e-09]; Deer\n"
     ]
    },
    {
     "data": {
      "image/png": "[encoded data removed]",
      "text/plain": [
       "<Figure size 432x288 with 1 Axes>"
      ]
     },
     "metadata": {
      "needs_background": "light"
     },
     "output_type": "display_data"
    }
   ],
   "source": [
    "real_time(40)"
   ]
  }
 ],
 "metadata": {
  "kernelspec": {
   "display_name": "Python 3",
   "language": "python",
   "name": "python3"
  },
  "language_info": {
   "codemirror_mode": {
    "name": "ipython",
    "version": 3
   },
   "file_extension": ".py",
   "mimetype": "text/x-python",
   "name": "python",
   "nbconvert_exporter": "python",
   "pygments_lexer": "ipython3",
   "version": "3.7.6"
  }
 },
 "nbformat": 4,
 "nbformat_minor": 4
}
