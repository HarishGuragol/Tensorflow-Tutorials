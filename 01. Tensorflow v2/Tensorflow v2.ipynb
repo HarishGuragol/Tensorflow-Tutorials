{
 "cells": [
  {
   "cell_type": "markdown",
   "metadata": {},
   "source": [
    "# Introduction to TensorFlow v2 : Basics"
   ]
  },
  {
   "cell_type": "markdown",
   "metadata": {},
   "source": [
    "### Importing and printing the versions"
   ]
  },
  {
   "cell_type": "code",
   "execution_count": 1,
   "metadata": {
    "ExecuteTime": {
     "end_time": "2020-11-16T22:51:57.588727Z",
     "start_time": "2020-11-16T22:51:36.036286Z"
    }
   },
   "outputs": [
    {
     "name": "stdout",
     "output_type": "stream",
     "text": [
      "TensorFlow version: 2.3.1\n",
      "Eager execution is: True\n",
      "Keras version: 2.4.0\n"
     ]
    }
   ],
   "source": [
    "import tensorflow as tf\n",
    "\n",
    "print(\"TensorFlow version: {}\".format(tf.__version__))\n",
    "print(\"Eager execution is: {}\".format(tf.executing_eagerly()))\n",
    "print(\"Keras version: {}\".format(tf.keras.__version__))"
   ]
  },
  {
   "cell_type": "markdown",
   "metadata": {},
   "source": [
    "### TensorFlow Variables\n",
    "\n",
    "[Tensors](https://www.tensorflow.org/guide/tensor) are multi-dimensional arrays in TensorFlow. But, Tensors are immutable in nature. [Variables](https://www.tensorflow.org/guide/variable) are a way to store data which can be manipulated and changed easily. Variables are automatically placed on the fastest compatible device for it's datatype. For ex: If GPU is found, the tensors are automatically placed on GPU directly. "
   ]
  },
  {
   "cell_type": "code",
   "execution_count": 2,
   "metadata": {
    "ExecuteTime": {
     "end_time": "2020-11-16T22:52:04.483793Z",
     "start_time": "2020-11-16T22:52:04.267800Z"
    }
   },
   "outputs": [],
   "source": [
    "var = 1\n",
    "\n",
    "# Defining a Tensorflow Variables\n",
    "ten = tf.Variable(7) \n",
    "another_tensor = tf.Variable([[1, 2],[3, 4]]) "
   ]
  },
  {
   "cell_type": "code",
   "execution_count": 3,
   "metadata": {
    "ExecuteTime": {
     "end_time": "2020-11-16T22:52:07.115553Z",
     "start_time": "2020-11-16T22:52:07.067554Z"
    }
   },
   "outputs": [
    {
     "data": {
      "text/plain": [
       "(1,\n",
       " <tf.Variable 'Variable:0' shape=() dtype=int32, numpy=7>,\n",
       " <tf.Variable 'Variable:0' shape=(2, 2) dtype=int32, numpy=\n",
       " array([[1, 2],\n",
       "        [3, 4]])>)"
      ]
     },
     "execution_count": 3,
     "metadata": {},
     "output_type": "execute_result"
    }
   ],
   "source": [
    "var, ten, another_tensor"
   ]
  },
  {
   "cell_type": "markdown",
   "metadata": {},
   "source": [
    "### Creating new Variables"
   ]
  },
  {
   "cell_type": "code",
   "execution_count": 4,
   "metadata": {
    "ExecuteTime": {
     "end_time": "2020-11-16T22:52:09.927486Z",
     "start_time": "2020-11-16T22:52:09.895485Z"
    }
   },
   "outputs": [
    {
     "name": "stdout",
     "output_type": "stream",
     "text": [
      "<tf.Variable 'Variable:0' shape=() dtype=float32, numpy=100.6>\n"
     ]
    }
   ],
   "source": [
    "f1 = tf.Variable(100.6)\n",
    "print(f1)"
   ]
  },
  {
   "cell_type": "markdown",
   "metadata": {},
   "source": [
    "### Assigning values to existing Variables"
   ]
  },
  {
   "cell_type": "code",
   "execution_count": 5,
   "metadata": {
    "ExecuteTime": {
     "end_time": "2020-11-16T22:52:12.838646Z",
     "start_time": "2020-11-16T22:52:12.814648Z"
    }
   },
   "outputs": [
    {
     "name": "stdout",
     "output_type": "stream",
     "text": [
      "<tf.Variable 'UnreadVariable' shape=() dtype=float32, numpy=25.0>\n",
      "<dtype: 'float32'>\n"
     ]
    }
   ],
   "source": [
    "# Assign and print the Data-Type\n",
    "print(f1.assign(25))\n",
    "print(f1.dtype)"
   ]
  },
  {
   "cell_type": "code",
   "execution_count": 6,
   "metadata": {
    "ExecuteTime": {
     "end_time": "2020-11-16T22:52:15.013973Z",
     "start_time": "2020-11-16T22:52:14.973964Z"
    }
   },
   "outputs": [
    {
     "name": "stdout",
     "output_type": "stream",
     "text": [
      "<dtype: 'float64'>\n"
     ]
    }
   ],
   "source": [
    "f2 = tf.Variable(7, dtype = tf.float64)\n",
    "print(f2.dtype)"
   ]
  },
  {
   "cell_type": "code",
   "execution_count": 7,
   "metadata": {
    "ExecuteTime": {
     "end_time": "2020-11-16T22:52:17.859781Z",
     "start_time": "2020-11-16T22:52:17.843738Z"
    }
   },
   "outputs": [
    {
     "name": "stdout",
     "output_type": "stream",
     "text": [
      "tf.Tensor(10, shape=(), dtype=int32)\n"
     ]
    }
   ],
   "source": [
    "# Creating a TensorFlow constant - Value cannot be changed in future\n",
    "constant_var = tf.constant(10)\n",
    "print(constant_var)"
   ]
  },
  {
   "cell_type": "markdown",
   "metadata": {},
   "source": [
    "### Extracting the value from a Tensor and formatting like a Numpy array using .numpy()"
   ]
  },
  {
   "cell_type": "code",
   "execution_count": 8,
   "metadata": {
    "ExecuteTime": {
     "end_time": "2020-11-16T22:52:20.434153Z",
     "start_time": "2020-11-16T22:52:20.402155Z"
    }
   },
   "outputs": [
    {
     "data": {
      "text/plain": [
       "10"
      ]
     },
     "execution_count": 8,
     "metadata": {},
     "output_type": "execute_result"
    }
   ],
   "source": [
    "constant_var.numpy()"
   ]
  },
  {
   "cell_type": "markdown",
   "metadata": {},
   "source": [
    "### Rank and Shape of Tensor"
   ]
  },
  {
   "cell_type": "markdown",
   "metadata": {},
   "source": [
    "About [Rank and Shape](https://www.tensorflow.org/guide/tensor#about_shapes) in TensorFlow"
   ]
  },
  {
   "cell_type": "code",
   "execution_count": 9,
   "metadata": {
    "ExecuteTime": {
     "end_time": "2020-11-16T22:52:25.701643Z",
     "start_time": "2020-11-16T22:52:25.677646Z"
    }
   },
   "outputs": [
    {
     "data": {
      "text/plain": [
       "<tf.Tensor: shape=(), dtype=int32, numpy=2>"
      ]
     },
     "execution_count": 9,
     "metadata": {},
     "output_type": "execute_result"
    }
   ],
   "source": [
    "tf.rank(another_tensor)"
   ]
  },
  {
   "cell_type": "code",
   "execution_count": 10,
   "metadata": {
    "ExecuteTime": {
     "end_time": "2020-11-16T22:52:26.952499Z",
     "start_time": "2020-11-16T22:52:26.920466Z"
    }
   },
   "outputs": [
    {
     "data": {
      "text/plain": [
       "<tf.Tensor: shape=(2,), dtype=int32, numpy=array([2, 2])>"
      ]
     },
     "execution_count": 10,
     "metadata": {},
     "output_type": "execute_result"
    }
   ],
   "source": [
    "tf.shape(another_tensor)"
   ]
  },
  {
   "cell_type": "code",
   "execution_count": 11,
   "metadata": {
    "ExecuteTime": {
     "end_time": "2020-11-16T22:52:28.278484Z",
     "start_time": "2020-11-16T22:52:28.246484Z"
    }
   },
   "outputs": [
    {
     "name": "stdout",
     "output_type": "stream",
     "text": [
      "(2, 2, 3)\n",
      "tf.Tensor(3, shape=(), dtype=int32)\n"
     ]
    }
   ],
   "source": [
    "new_tensor = tf.Variable([ [ [0., 1., 2.], [3., 4., 5.] ], [ [6., 7., 8.], [9., 10., 11.] ] ]) \n",
    "print(new_tensor.shape)\n",
    "print(tf.rank(new_tensor))"
   ]
  },
  {
   "cell_type": "markdown",
   "metadata": {},
   "source": [
    "### Reshaping Tensors"
   ]
  },
  {
   "cell_type": "code",
   "execution_count": 12,
   "metadata": {
    "ExecuteTime": {
     "end_time": "2020-11-16T22:52:30.906089Z",
     "start_time": "2020-11-16T22:52:30.874090Z"
    }
   },
   "outputs": [],
   "source": [
    "new_reshape = tf.reshape(new_tensor, [2, 6]) \n",
    "recent_reshape = tf.reshape(new_tensor, [1, 12])"
   ]
  },
  {
   "cell_type": "code",
   "execution_count": 13,
   "metadata": {
    "ExecuteTime": {
     "end_time": "2020-11-16T22:52:31.940230Z",
     "start_time": "2020-11-16T22:52:31.924234Z"
    }
   },
   "outputs": [
    {
     "name": "stdout",
     "output_type": "stream",
     "text": [
      "tf.Tensor(\n",
      "[[ 0.  1.  2.  3.  4.  5.]\n",
      " [ 6.  7.  8.  9. 10. 11.]], shape=(2, 6), dtype=float32)\n",
      "tf.Tensor([[ 0.  1.  2.  3.  4.  5.  6.  7.  8.  9. 10. 11.]], shape=(1, 12), dtype=float32)\n"
     ]
    }
   ],
   "source": [
    "print(new_reshape)\n",
    "print(recent_reshape)"
   ]
  },
  {
   "cell_type": "markdown",
   "metadata": {},
   "source": [
    "### Broadcasting Feature"
   ]
  },
  {
   "cell_type": "code",
   "execution_count": 14,
   "metadata": {
    "ExecuteTime": {
     "end_time": "2020-11-16T22:52:34.270753Z",
     "start_time": "2020-11-16T22:52:34.222706Z"
    }
   },
   "outputs": [
    {
     "data": {
      "text/plain": [
       "<tf.Tensor: shape=(2, 2, 3), dtype=float32, numpy=\n",
       "array([[[ 4.,  5.,  6.],\n",
       "        [ 7.,  8.,  9.]],\n",
       "\n",
       "       [[10., 11., 12.],\n",
       "        [13., 14., 15.]]], dtype=float32)>"
      ]
     },
     "execution_count": 14,
     "metadata": {},
     "output_type": "execute_result"
    }
   ],
   "source": [
    "new_tensor + 4"
   ]
  },
  {
   "cell_type": "code",
   "execution_count": 15,
   "metadata": {
    "ExecuteTime": {
     "end_time": "2020-11-16T22:52:35.815383Z",
     "start_time": "2020-11-16T22:52:35.783324Z"
    }
   },
   "outputs": [
    {
     "data": {
      "text/plain": [
       "<tf.Tensor: shape=(2, 2, 3), dtype=float32, numpy=\n",
       "array([[[-4., -3., -2.],\n",
       "        [-1.,  0.,  1.]],\n",
       "\n",
       "       [[ 2.,  3.,  4.],\n",
       "        [ 5.,  6.,  7.]]], dtype=float32)>"
      ]
     },
     "execution_count": 15,
     "metadata": {},
     "output_type": "execute_result"
    }
   ],
   "source": [
    "new_tensor - 4"
   ]
  },
  {
   "cell_type": "code",
   "execution_count": 16,
   "metadata": {
    "ExecuteTime": {
     "end_time": "2020-11-16T22:52:37.192464Z",
     "start_time": "2020-11-16T22:52:37.160462Z"
    }
   },
   "outputs": [
    {
     "data": {
      "text/plain": [
       "<tf.Tensor: shape=(2, 2, 3), dtype=float32, numpy=\n",
       "array([[[ 0.,  4.,  8.],\n",
       "        [12., 16., 20.]],\n",
       "\n",
       "       [[24., 28., 32.],\n",
       "        [36., 40., 44.]]], dtype=float32)>"
      ]
     },
     "execution_count": 16,
     "metadata": {},
     "output_type": "execute_result"
    }
   ],
   "source": [
    "new_tensor * 4"
   ]
  },
  {
   "cell_type": "markdown",
   "metadata": {},
   "source": [
    "### Matrix Multiplication"
   ]
  },
  {
   "cell_type": "code",
   "execution_count": 17,
   "metadata": {
    "ExecuteTime": {
     "end_time": "2020-11-16T22:52:40.309959Z",
     "start_time": "2020-11-16T22:52:40.285959Z"
    }
   },
   "outputs": [
    {
     "data": {
      "text/plain": [
       "<tf.Tensor: shape=(2, 2, 3), dtype=float32, numpy=\n",
       "array([[[  0.,   1.,   4.],\n",
       "        [  9.,  16.,  25.]],\n",
       "\n",
       "       [[ 36.,  49.,  64.],\n",
       "        [ 81., 100., 121.]]], dtype=float32)>"
      ]
     },
     "execution_count": 17,
     "metadata": {},
     "output_type": "execute_result"
    }
   ],
   "source": [
    "new_tensor * new_tensor"
   ]
  },
  {
   "cell_type": "code",
   "execution_count": 18,
   "metadata": {
    "ExecuteTime": {
     "end_time": "2020-11-16T22:52:41.320833Z",
     "start_time": "2020-11-16T22:52:41.280795Z"
    }
   },
   "outputs": [
    {
     "name": "stdout",
     "output_type": "stream",
     "text": [
      "Matrix Multiplication - Transpose\n",
      "tf.Tensor([[94]], shape=(1, 1), dtype=int32)\n"
     ]
    }
   ],
   "source": [
    "u = tf.constant([[5, 6, 7]])\n",
    "v = tf.constant([[8, 9, 0]])\n",
    "print('Matrix Multiplication - Transpose')\n",
    "print(tf.matmul(u, tf.transpose(a=v)))"
   ]
  },
  {
   "cell_type": "markdown",
   "metadata": {},
   "source": [
    "### Type Casting"
   ]
  },
  {
   "cell_type": "code",
   "execution_count": 19,
   "metadata": {
    "ExecuteTime": {
     "end_time": "2020-11-16T22:52:43.391339Z",
     "start_time": "2020-11-16T22:52:43.351384Z"
    }
   },
   "outputs": [
    {
     "name": "stdout",
     "output_type": "stream",
     "text": [
      "tf.Tensor(7.0, shape=(), dtype=float32)\n"
     ]
    }
   ],
   "source": [
    "int_tensor = tf.cast(ten, dtype=tf.float32)\n",
    "print(int_tensor)"
   ]
  },
  {
   "cell_type": "markdown",
   "metadata": {},
   "source": [
    "### Arithmetic Operations"
   ]
  },
  {
   "cell_type": "code",
   "execution_count": 20,
   "metadata": {
    "ExecuteTime": {
     "end_time": "2020-11-16T22:52:50.380382Z",
     "start_time": "2020-11-16T22:52:50.324375Z"
    }
   },
   "outputs": [
    {
     "name": "stdout",
     "output_type": "stream",
     "text": [
      "Addition - [[ 2.152709  -1.7924592]\n",
      " [ 2.1677308  2.0514646]]\n",
      "Square Root - [[4.634156  3.2129102]\n",
      " [4.6990566 4.208507 ]]\n",
      "Exponent - [[102.941025  24.851303]\n",
      " [109.8435    67.25606 ]]\n"
     ]
    }
   ],
   "source": [
    "a = tf.random.normal(shape=(2, 2))\n",
    "b = tf.random.normal(shape=(2, 2))\n",
    "\n",
    "c = a + b\n",
    "d = tf.square(c)\n",
    "e = tf.exp(d)\n",
    "\n",
    "print('Addition - {}'.format(c))\n",
    "print('Square Root - {}'.format(d))\n",
    "print('Exponent - {}'.format(e))"
   ]
  },
  {
   "cell_type": "markdown",
   "metadata": {},
   "source": [
    "# TensorFlow v2 Functions"
   ]
  },
  {
   "cell_type": "markdown",
   "metadata": {},
   "source": [
    "### Squared Difference Function"
   ]
  },
  {
   "cell_type": "code",
   "execution_count": 21,
   "metadata": {
    "ExecuteTime": {
     "end_time": "2020-11-16T22:52:57.596530Z",
     "start_time": "2020-11-16T22:52:57.556484Z"
    }
   },
   "outputs": [
    {
     "data": {
      "text/plain": [
       "<tf.Tensor: shape=(5,), dtype=int32, numpy=array([16,  4,  0,  4, 36])>"
      ]
     },
     "execution_count": 21,
     "metadata": {},
     "output_type": "execute_result"
    }
   ],
   "source": [
    "#Squared Difference Function\n",
    "x = [2, 4, 6, 8, 12]\n",
    "y = 6\n",
    "\n",
    "#(x-y)*(x-y)\n",
    "result = tf.math.squared_difference(x, y)\n",
    "result"
   ]
  },
  {
   "cell_type": "markdown",
   "metadata": {},
   "source": [
    "### Reduce Mean"
   ]
  },
  {
   "cell_type": "code",
   "execution_count": 22,
   "metadata": {
    "ExecuteTime": {
     "end_time": "2020-11-16T22:53:02.913721Z",
     "start_time": "2020-11-16T22:53:02.889769Z"
    }
   },
   "outputs": [
    {
     "name": "stdout",
     "output_type": "stream",
     "text": [
      "tf.Tensor(\n",
      "[[6. 9.]\n",
      " [3. 5.]], shape=(2, 2), dtype=float32)\n"
     ]
    }
   ],
   "source": [
    "numbers = tf.constant([[6., 9.], [3., 5.]])\n",
    "print(numbers)"
   ]
  },
  {
   "cell_type": "code",
   "execution_count": 23,
   "metadata": {
    "ExecuteTime": {
     "end_time": "2020-11-16T22:53:04.148521Z",
     "start_time": "2020-11-16T22:53:04.108477Z"
    }
   },
   "outputs": [
    {
     "data": {
      "text/plain": [
       "<tf.Tensor: shape=(), dtype=float32, numpy=5.75>"
      ]
     },
     "execution_count": 23,
     "metadata": {},
     "output_type": "execute_result"
    }
   ],
   "source": [
    "tf.reduce_mean(input_tensor = numbers)"
   ]
  },
  {
   "cell_type": "markdown",
   "metadata": {},
   "source": [
    "### Mean across columns"
   ]
  },
  {
   "cell_type": "code",
   "execution_count": 24,
   "metadata": {
    "ExecuteTime": {
     "end_time": "2020-11-16T22:53:11.380070Z",
     "start_time": "2020-11-16T22:53:11.356072Z"
    }
   },
   "outputs": [
    {
     "name": "stdout",
     "output_type": "stream",
     "text": [
      "tf.Tensor([4.5 7. ], shape=(2,), dtype=float32)\n"
     ]
    }
   ],
   "source": [
    "# Reduce rows -> Find mean across columns\n",
    "#(6. + 3.)/2, (9. + 5.)/2\n",
    "print(tf.reduce_mean(input_tensor = numbers, axis = 0))"
   ]
  },
  {
   "cell_type": "code",
   "execution_count": 25,
   "metadata": {
    "ExecuteTime": {
     "end_time": "2020-11-16T22:53:13.391483Z",
     "start_time": "2020-11-16T22:53:13.370465Z"
    }
   },
   "outputs": [
    {
     "name": "stdout",
     "output_type": "stream",
     "text": [
      "tf.Tensor([[4.5 7. ]], shape=(1, 2), dtype=float32)\n"
     ]
    }
   ],
   "source": [
    "# (6. + 3.)/2, (9. + 5.)/2\n",
    "print(tf.reduce_mean(input_tensor = numbers, axis = 0, keepdims = True))"
   ]
  },
  {
   "cell_type": "markdown",
   "metadata": {},
   "source": [
    "### Mean across rows"
   ]
  },
  {
   "cell_type": "code",
   "execution_count": 26,
   "metadata": {
    "ExecuteTime": {
     "end_time": "2020-11-16T22:53:14.954267Z",
     "start_time": "2020-11-16T22:53:14.930312Z"
    }
   },
   "outputs": [
    {
     "name": "stdout",
     "output_type": "stream",
     "text": [
      "tf.Tensor([7.5 4. ], shape=(2,), dtype=float32)\n"
     ]
    }
   ],
   "source": [
    "# Reduce columns -> Find mean across rows\n",
    "#(6. + 9.)/2, (3. + 5.)/2\n",
    "print(tf.reduce_mean(input_tensor = numbers, axis = 1))"
   ]
  },
  {
   "cell_type": "code",
   "execution_count": 27,
   "metadata": {
    "ExecuteTime": {
     "end_time": "2020-11-16T22:53:15.856527Z",
     "start_time": "2020-11-16T22:53:15.824496Z"
    }
   },
   "outputs": [
    {
     "name": "stdout",
     "output_type": "stream",
     "text": [
      "tf.Tensor(\n",
      "[[7.5]\n",
      " [4. ]], shape=(2, 1), dtype=float32)\n"
     ]
    }
   ],
   "source": [
    "# (6. + 9.)/2, (3. + 5.)/2\n",
    "print(tf.reduce_mean(input_tensor = numbers, axis = 1, keepdims = True))"
   ]
  },
  {
   "cell_type": "markdown",
   "metadata": {},
   "source": [
    "### Generating normal distribution in a tensor"
   ]
  },
  {
   "cell_type": "code",
   "execution_count": 28,
   "metadata": {
    "ExecuteTime": {
     "end_time": "2020-11-16T22:53:18.062533Z",
     "start_time": "2020-11-16T22:53:18.014491Z"
    }
   },
   "outputs": [
    {
     "name": "stdout",
     "output_type": "stream",
     "text": [
      "tf.Tensor(\n",
      "[[11.67767  10.190011]\n",
      " [ 4.638527 10.937168]\n",
      " [11.941066  8.749236]], shape=(3, 2), dtype=float32)\n"
     ]
    }
   ],
   "source": [
    "print(tf.random.normal(shape = (3, 2), mean = 10, stddev = 2, dtype = tf.float32, seed = None, name = None))"
   ]
  },
  {
   "cell_type": "markdown",
   "metadata": {},
   "source": [
    "### Generating uniform distribution in a tensor"
   ]
  },
  {
   "cell_type": "code",
   "execution_count": 29,
   "metadata": {
    "ExecuteTime": {
     "end_time": "2020-11-16T22:53:19.562251Z",
     "start_time": "2020-11-16T22:53:19.522250Z"
    }
   },
   "outputs": [
    {
     "data": {
      "text/plain": [
       "<tf.Tensor: shape=(3, 2), dtype=float32, numpy=\n",
       "array([[0.02733564, 0.16111183],\n",
       "       [0.2704568 , 0.02369511],\n",
       "       [0.16415834, 0.68207777]], dtype=float32)>"
      ]
     },
     "execution_count": 29,
     "metadata": {},
     "output_type": "execute_result"
    }
   ],
   "source": [
    "tf.random.uniform(shape = (3, 2),  minval = 0, maxval = 1, dtype = tf.float32, seed = None, name = None)"
   ]
  },
  {
   "cell_type": "markdown",
   "metadata": {},
   "source": [
    "### Random Seed in Tensorflow"
   ]
  },
  {
   "cell_type": "code",
   "execution_count": 30,
   "metadata": {
    "ExecuteTime": {
     "end_time": "2020-11-16T22:53:21.214327Z",
     "start_time": "2020-11-16T22:53:21.110329Z"
    }
   },
   "outputs": [
    {
     "name": "stdout",
     "output_type": "stream",
     "text": [
      "Random Seed - 11\n",
      "\n",
      "tf.Tensor(\n",
      "[[4 3]\n",
      " [0 2]], shape=(2, 2), dtype=int32)\n",
      "tf.Tensor(\n",
      "[[6 3]\n",
      " [6 3]], shape=(2, 2), dtype=int32)\n",
      "\n",
      "\n",
      "Random Seed - 12\n",
      "\n",
      "tf.Tensor(\n",
      "[[0 4]\n",
      " [2 2]], shape=(2, 2), dtype=int32)\n",
      "tf.Tensor(\n",
      "[[0 4]\n",
      " [0 1]], shape=(2, 2), dtype=int32)\n",
      "\n",
      "\n",
      "Random Seed - 11\n",
      "\n",
      "tf.Tensor(\n",
      "[[4 3]\n",
      " [0 2]], shape=(2, 2), dtype=int32)\n",
      "tf.Tensor(\n",
      "[[6 3]\n",
      " [6 3]], shape=(2, 2), dtype=int32)\n"
     ]
    }
   ],
   "source": [
    "print('Random Seed - 11\\n')\n",
    "tf.random.set_seed(11)\n",
    "random_1 = tf.random.uniform(shape = (2, 2), maxval = 7, dtype = tf.int32)\n",
    "random_2 =  tf.random.uniform(shape = (2, 2), maxval = 7, dtype = tf.int32)\n",
    "print(random_1) \n",
    "print(random_2)\n",
    "print('\\n')\n",
    "\n",
    "print('Random Seed - 12\\n')\n",
    "tf.random.set_seed(12)\n",
    "random_1 = tf.random.uniform(shape = (2, 2), maxval = 7, dtype = tf.int32)\n",
    "random_2 =  tf.random.uniform(shape = (2, 2), maxval = 7, dtype = tf.int32)\n",
    "print(random_1) \n",
    "print(random_2)\n",
    "print('\\n')\n",
    "\n",
    "print('Random Seed - 11\\n')\n",
    "tf.random.set_seed(11)\n",
    "random_1 = tf.random.uniform(shape = (2, 2), maxval = 7, dtype = tf.int32)\n",
    "random_2 =  tf.random.uniform(shape = (2, 2), maxval = 7, dtype = tf.int32)\n",
    "print(random_1) \n",
    "print(random_2)"
   ]
  },
  {
   "cell_type": "markdown",
   "metadata": {},
   "source": [
    "### Max, Min and Indices"
   ]
  },
  {
   "cell_type": "code",
   "execution_count": 31,
   "metadata": {
    "ExecuteTime": {
     "end_time": "2020-11-16T22:53:22.832723Z",
     "start_time": "2020-11-16T22:53:22.768683Z"
    }
   },
   "outputs": [
    {
     "name": "stdout",
     "output_type": "stream",
     "text": [
      "tf.Tensor([  2  20  15  32  77  29 -16 -51  29], shape=(9,), dtype=int32)\n",
      "Index of max: 4\n",
      "\n",
      "Max element: 77\n"
     ]
    }
   ],
   "source": [
    "tensor_m = tf.constant([2, 20, 15, 32, 77, 29, -16, -51, 29])\n",
    "print(tensor_m)\n",
    "\n",
    "# Max argument\n",
    "index = tf.argmax(input = tensor_m)\n",
    "print('Index of max: {}\\n'.format(index))\n",
    "print('Max element: {}'.format(tensor_m[index].numpy()))"
   ]
  },
  {
   "cell_type": "code",
   "execution_count": 32,
   "metadata": {
    "ExecuteTime": {
     "end_time": "2020-11-16T22:53:23.892395Z",
     "start_time": "2020-11-16T22:53:23.860356Z"
    }
   },
   "outputs": [
    {
     "name": "stdout",
     "output_type": "stream",
     "text": [
      "tf.Tensor([  2  20  15  32  77  29 -16 -51  29], shape=(9,), dtype=int32)\n",
      "Index of minumum element: 7\n",
      "\n",
      "Minimum element: -51\n"
     ]
    }
   ],
   "source": [
    "print(tensor_m)\n",
    "\n",
    "# Min argument\n",
    "index = tf.argmin(input = tensor_m)\n",
    "print('Index of minumum element: {}\\n'.format(index))\n",
    "print('Minimum element: {}'.format(tensor_m[index].numpy()))"
   ]
  },
  {
   "cell_type": "markdown",
   "metadata": {},
   "source": [
    "# TensorFlow v2 : Advanced"
   ]
  },
  {
   "cell_type": "markdown",
   "metadata": {},
   "source": [
    "### Computing gradients with GradientTape - Automatic Differentiation\n",
    "\n",
    "TensorFlow v2 has this API for recording gradient values based on the values computed in the forward pass with respect to inputs. Since we need values to be remembered during the forward pass, the tf.GradientTape provides us a way to automatically differentiate a certain function wrt to the input variable specified. To read more on Auto Diiferentiation in TensorFlow v2 click [here]https://www.tensorflow.org/guide/autodiff)."
   ]
  },
  {
   "cell_type": "code",
   "execution_count": 33,
   "metadata": {
    "ExecuteTime": {
     "end_time": "2020-11-16T22:53:27.078252Z",
     "start_time": "2020-11-16T22:53:26.950299Z"
    }
   },
   "outputs": [
    {
     "name": "stdout",
     "output_type": "stream",
     "text": [
      "tf.Tensor(\n",
      "[[0.57269156 0.9751479 ]\n",
      " [0.53572375 0.8537005 ]], shape=(2, 2), dtype=float32)\n"
     ]
    }
   ],
   "source": [
    "x = tf.random.normal(shape=(2, 2))\n",
    "y = tf.random.normal(shape=(2, 2))\n",
    "\n",
    "with tf.GradientTape() as tape:\n",
    "    \n",
    "    # Start recording the history of operations applied to x\n",
    "    tape.watch(x)\n",
    "    \n",
    "    # Do some math using x and y\n",
    "    z = tf.sqrt(tf.square(x) + tf.square(y))  \n",
    "    \n",
    "    # What's the gradient of z with respect to x\n",
    "    dz = tape.gradient(z, x)\n",
    "    print(dz)"
   ]
  },
  {
   "cell_type": "markdown",
   "metadata": {},
   "source": [
    "tf.GradientTape API automatically watches the function to be differentiated, no need to explicitly mention/run tape.watch()"
   ]
  },
  {
   "cell_type": "code",
   "execution_count": 34,
   "metadata": {
    "ExecuteTime": {
     "end_time": "2020-11-16T22:53:30.680525Z",
     "start_time": "2020-11-16T22:53:30.640481Z"
    }
   },
   "outputs": [
    {
     "name": "stdout",
     "output_type": "stream",
     "text": [
      "tf.Tensor(\n",
      "[[0.57269156 0.9751479 ]\n",
      " [0.53572375 0.8537005 ]], shape=(2, 2), dtype=float32)\n"
     ]
    }
   ],
   "source": [
    "x = tf.Variable(x)\n",
    "\n",
    "with tf.GradientTape() as tape:\n",
    "    \n",
    "    # Doing some calculations using x and y\n",
    "    z = tf.sqrt(tf.square(x) + tf.square(y))\n",
    "    \n",
    "    # Getting the gradient of z wrt x\n",
    "    dz = tape.gradient(z, x)\n",
    "    print(dz)"
   ]
  },
  {
   "cell_type": "markdown",
   "metadata": {},
   "source": [
    "We can perform differentiation in chains also, using two tapes!"
   ]
  },
  {
   "cell_type": "code",
   "execution_count": 35,
   "metadata": {
    "ExecuteTime": {
     "end_time": "2020-11-16T22:53:35.286605Z",
     "start_time": "2020-11-16T22:53:35.238604Z"
    }
   },
   "outputs": [
    {
     "name": "stdout",
     "output_type": "stream",
     "text": [
      "tf.Tensor(\n",
      "[[0.47573683 0.04185158]\n",
      " [1.0060201  0.24222922]], shape=(2, 2), dtype=float32)\n"
     ]
    }
   ],
   "source": [
    "with tf.GradientTape() as outer_tape:\n",
    "    \n",
    "    with tf.GradientTape() as tape:\n",
    "        \n",
    "        # Computation using x and y\n",
    "        z = tf.sqrt(tf.square(x) + tf.square(y))\n",
    "        \n",
    "        # First differentiation of z wrt x\n",
    "        dz = tape.gradient(z, x)\n",
    "        \n",
    "    # Second differentiation of z wrt x   \n",
    "    dz2 = outer_tape.gradient(dz, x)\n",
    "    print(dz2)"
   ]
  },
  {
   "cell_type": "markdown",
   "metadata": {},
   "source": [
    "### Tensorflow v2 Graph Function\n",
    "\n",
    "Read [here](https://www.tensorflow.org/guide/intro_to_graphs) for more information on Computation Graphs and TensorFlow Functions of TensorFlow v1"
   ]
  },
  {
   "cell_type": "code",
   "execution_count": 36,
   "metadata": {
    "ExecuteTime": {
     "end_time": "2020-11-16T22:53:41.729040Z",
     "start_time": "2020-11-16T22:53:41.262925Z"
    }
   },
   "outputs": [
    {
     "name": "stdout",
     "output_type": "stream",
     "text": [
      "tf.Tensor(182.5, shape=(), dtype=float32)\n",
      "tf.Tensor(182.5, shape=(), dtype=float32)\n"
     ]
    }
   ],
   "source": [
    "#Normal Python function\n",
    "def f1(x, y):\n",
    "    return tf.reduce_mean(input_tensor=tf.multiply(x ** 2, 5) + y**2)\n",
    "\n",
    "#Converting that into Tensorflow Graph function\n",
    "f2 = tf.function(f1)\n",
    "\n",
    "x = tf.constant([7., -2.])\n",
    "y = tf.constant([8., 6.])\n",
    "\n",
    "#Funtion 1 and function 2 return the same value, but function 2 executes as a TensorFlow graph\n",
    "assert f1(x,y).numpy() == f2(x,y).numpy()\n",
    "\n",
    "ans = f1(x,y)\n",
    "print(ans)\n",
    "\n",
    "ans = f2(x,y)\n",
    "print(ans)"
   ]
  },
  {
   "cell_type": "markdown",
   "metadata": {},
   "source": [
    "# TensorFlow v2 : Linear Regression and tf.function"
   ]
  },
  {
   "cell_type": "markdown",
   "metadata": {},
   "source": [
    "### Let's see what is the importance of tf.function with a small example of Linear Regression"
   ]
  },
  {
   "cell_type": "code",
   "execution_count": 37,
   "metadata": {
    "ExecuteTime": {
     "end_time": "2020-11-16T22:53:58.646000Z",
     "start_time": "2020-11-16T22:53:58.606000Z"
    }
   },
   "outputs": [],
   "source": [
    "input_dim = 2\n",
    "output_dim = 1\n",
    "learning_rate = 0.01\n",
    "\n",
    "# This is our weight matrix\n",
    "w = tf.Variable(tf.random.uniform(shape=(input_dim, output_dim)))\n",
    "\n",
    "# This is our bias vector\n",
    "b = tf.Variable(tf.zeros(shape=(output_dim,)))\n",
    "\n",
    "def compute_predictions(features):\n",
    "    return tf.matmul(features, w) + b\n",
    "\n",
    "def compute_loss(labels, predictions):\n",
    "    return tf.reduce_mean(tf.square(labels - predictions))\n",
    "\n",
    "def train_on_batch(x, y):\n",
    "    with tf.GradientTape() as tape:\n",
    "        \n",
    "        predictions = compute_predictions(x)\n",
    "        loss = compute_loss(y, predictions)\n",
    "        \n",
    "        # Note that `tape.gradient` works with a list as well (w, b).\n",
    "        dloss_dw, dloss_db = tape.gradient(loss, [w, b])\n",
    "        \n",
    "    w.assign_sub(learning_rate * dloss_dw)\n",
    "    b.assign_sub(learning_rate * dloss_db)\n",
    "    \n",
    "    return loss"
   ]
  },
  {
   "cell_type": "code",
   "execution_count": 38,
   "metadata": {
    "ExecuteTime": {
     "end_time": "2020-11-16T22:54:16.673367Z",
     "start_time": "2020-11-16T22:54:12.708631Z"
    }
   },
   "outputs": [
    {
     "data": {
      "text/plain": [
       "<matplotlib.collections.PathCollection at 0x1ceec2b9a48>"
      ]
     },
     "execution_count": 38,
     "metadata": {},
     "output_type": "execute_result"
    },
    {
     "data": {
      "image/png": "[encoded data removed]",
      "text/plain": [
       "<Figure size 432x288 with 1 Axes>"
      ]
     },
     "metadata": {
      "needs_background": "light"
     },
     "output_type": "display_data"
    }
   ],
   "source": [
    "import numpy as np\n",
    "import random\n",
    "import matplotlib.pyplot as plt\n",
    "%matplotlib inline\n",
    "\n",
    "# Prepare a dataset.\n",
    "num_samples = 10000\n",
    "negative_samples = np.random.multivariate_normal(mean=[0, 3], cov=[[1, 0.5],[0.5, 1]], size=num_samples)\n",
    "positive_samples = np.random.multivariate_normal(mean=[3, 0], cov=[[1, 0.5],[0.5, 1]], size=num_samples)\n",
    "features = np.vstack((negative_samples, positive_samples)).astype(np.float32)\n",
    "labels = np.vstack((np.zeros((num_samples, 1), dtype='float32'), np.ones((num_samples, 1), dtype='float32')))\n",
    "\n",
    "plt.scatter(features[:, 0], features[:, 1], c=labels[:, 0])"
   ]
  },
  {
   "cell_type": "code",
   "execution_count": 39,
   "metadata": {
    "ExecuteTime": {
     "end_time": "2020-11-16T22:54:28.552693Z",
     "start_time": "2020-11-16T22:54:23.985064Z"
    }
   },
   "outputs": [
    {
     "name": "stdout",
     "output_type": "stream",
     "text": [
      "Epoch 0: last batch loss = 0.0806\n",
      "Epoch 1: last batch loss = 0.0757\n",
      "Epoch 2: last batch loss = 0.0427\n",
      "Epoch 3: last batch loss = 0.0150\n",
      "Epoch 4: last batch loss = 0.0360\n",
      "Epoch 5: last batch loss = 0.0294\n",
      "Epoch 6: last batch loss = 0.0151\n",
      "Epoch 7: last batch loss = 0.0229\n",
      "Epoch 8: last batch loss = 0.0184\n",
      "Epoch 9: last batch loss = 0.0294\n"
     ]
    }
   ],
   "source": [
    "# Shuffle the data.\n",
    "indices = np.random.permutation(len(features))\n",
    "features = features[indices]\n",
    "labels = labels[indices]\n",
    "\n",
    "# Create a tf.data.Dataset object for easy batched iteration\n",
    "dataset = tf.data.Dataset.from_tensor_slices((features, labels))\n",
    "dataset = dataset.shuffle(buffer_size=1024).batch(256)\n",
    "\n",
    "for epoch in range(10):\n",
    "    for step, (x, y) in enumerate(dataset):\n",
    "        loss = train_on_batch(x, y)\n",
    "    print('Epoch %d: last batch loss = %.4f' % (epoch, float(loss)))"
   ]
  },
  {
   "cell_type": "code",
   "execution_count": 40,
   "metadata": {
    "ExecuteTime": {
     "end_time": "2020-11-16T22:54:34.776212Z",
     "start_time": "2020-11-16T22:54:31.963428Z"
    }
   },
   "outputs": [
    {
     "data": {
      "text/plain": [
       "<matplotlib.collections.PathCollection at 0x1cee9cb8888>"
      ]
     },
     "execution_count": 40,
     "metadata": {},
     "output_type": "execute_result"
    },
    {
     "data": {
      "image/png": "[encoded data removed]",
      "text/plain": [
       "<Figure size 432x288 with 1 Axes>"
      ]
     },
     "metadata": {
      "needs_background": "light"
     },
     "output_type": "display_data"
    }
   ],
   "source": [
    "predictions = compute_predictions(features)\n",
    "plt.scatter(features[:, 0], features[:, 1], c=predictions[:, 0] > 0.5)"
   ]
  },
  {
   "cell_type": "markdown",
   "metadata": {},
   "source": [
    "### Analysizing the code run time"
   ]
  },
  {
   "cell_type": "markdown",
   "metadata": {},
   "source": [
    "TensorFlow v2 with Eager Execution"
   ]
  },
  {
   "cell_type": "code",
   "execution_count": 41,
   "metadata": {
    "ExecuteTime": {
     "end_time": "2020-11-16T22:54:46.128506Z",
     "start_time": "2020-11-16T22:54:38.092748Z"
    }
   },
   "outputs": [
    {
     "name": "stdout",
     "output_type": "stream",
     "text": [
      "Time per epoch: 0.400 s\n"
     ]
    }
   ],
   "source": [
    "import time\n",
    "\n",
    "t0 = time.time()\n",
    "for epoch in range(20):\n",
    "    for step, (x, y) in enumerate(dataset):\n",
    "        loss = train_on_batch(x, y)\n",
    "t_end = time.time() - t0\n",
    "print('Time per epoch: %.3f s' % (t_end / 20,))"
   ]
  },
  {
   "cell_type": "markdown",
   "metadata": {},
   "source": [
    "Adding the @tf.function to convert the function into a static graph (TensorFlow v1)"
   ]
  },
  {
   "cell_type": "code",
   "execution_count": 42,
   "metadata": {
    "ExecuteTime": {
     "end_time": "2020-11-16T22:54:49.512540Z",
     "start_time": "2020-11-16T22:54:49.480545Z"
    }
   },
   "outputs": [],
   "source": [
    "@tf.function\n",
    "def train_on_batch_tf(x, y):\n",
    "    with tf.GradientTape() as tape:\n",
    "        predictions = compute_predictions(x)\n",
    "        loss = compute_loss(y, predictions)\n",
    "        dloss_dw, dloss_db = tape.gradient(loss, [w, b])\n",
    "    w.assign_sub(learning_rate * dloss_dw)\n",
    "    b.assign_sub(learning_rate * dloss_db)\n",
    "    return loss"
   ]
  },
  {
   "cell_type": "markdown",
   "metadata": {},
   "source": [
    "Running using the Static Graph method "
   ]
  },
  {
   "cell_type": "code",
   "execution_count": 43,
   "metadata": {
    "ExecuteTime": {
     "end_time": "2020-11-16T22:54:56.267823Z",
     "start_time": "2020-11-16T22:54:51.069568Z"
    }
   },
   "outputs": [
    {
     "name": "stdout",
     "output_type": "stream",
     "text": [
      "Time per epoch: 0.259 s\n"
     ]
    }
   ],
   "source": [
    "t0 = time.time()\n",
    "for epoch in range(20):\n",
    "    for step, (x, y) in enumerate(dataset):\n",
    "        loss = train_on_batch_tf(x, y)\n",
    "t_end = time.time() - t0\n",
    "print('Time per epoch: %.3f s' % (t_end / 20,))"
   ]
  },
  {
   "cell_type": "markdown",
   "metadata": {},
   "source": [
    "## There is a huge decrease in the time taken per epoch!!!\n",
    "\n",
    "## Eager execution is great for debugging and printing results line-by-line, but when it's time to scale, static graphs are a researcher's best friends."
   ]
  }
 ],
 "metadata": {
  "kernelspec": {
   "display_name": "Python 3",
   "language": "python",
   "name": "python3"
  },
  "language_info": {
   "codemirror_mode": {
    "name": "ipython",
    "version": 3
   },
   "file_extension": ".py",
   "mimetype": "text/x-python",
   "name": "python",
   "nbconvert_exporter": "python",
   "pygments_lexer": "ipython3",
   "version": "3.7.6"
  },
  "varInspector": {
   "cols": {
    "lenName": 16,
    "lenType": 16,
    "lenVar": 40
   },
   "kernels_config": {
    "python": {
     "delete_cmd_postfix": "",
     "delete_cmd_prefix": "del ",
     "library": "var_list.py",
     "varRefreshCmd": "print(var_dic_list())"
    },
    "r": {
     "delete_cmd_postfix": ") ",
     "delete_cmd_prefix": "rm(",
     "library": "var_list.r",
     "varRefreshCmd": "cat(var_dic_list()) "
    }
   },
   "types_to_exclude": [
    "module",
    "function",
    "builtin_function_or_method",
    "instance",
    "_Feature"
   ],
   "window_display": false
  }
 },
 "nbformat": 4,
 "nbformat_minor": 4
}
