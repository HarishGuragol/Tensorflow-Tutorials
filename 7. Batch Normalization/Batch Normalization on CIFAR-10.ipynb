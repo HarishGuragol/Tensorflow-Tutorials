{
 "cells": [
  {
   "cell_type": "markdown",
   "metadata": {},
   "source": [
    "### Import packages "
   ]
  },
  {
   "cell_type": "code",
   "execution_count": 1,
   "metadata": {},
   "outputs": [],
   "source": [
    "#Importing packages\n",
    "import time\n",
    "import datetime\n",
    "import numpy as np\n",
    "import tensorflow as tf\n",
    "import matplotlib.pyplot as plt\n",
    "from tensorflow.keras.datasets import cifar10\n",
    "from tensorflow.keras.utils import to_categorical\n",
    "from tensorflow.keras import Model, layers, Input"
   ]
  },
  {
   "cell_type": "markdown",
   "metadata": {},
   "source": [
    "### Define the Hyperparameter & Data info"
   ]
  },
  {
   "cell_type": "code",
   "execution_count": 2,
   "metadata": {},
   "outputs": [],
   "source": [
    "#Learning Rate, Iterations, Batch Size Hyperparameters\n",
    "learning_rate = 0.001\n",
    "iterations = 40000\n",
    "batch_size = 256\n",
    "#dropout = 0.5\n",
    "#epochs = 10"
   ]
  },
  {
   "cell_type": "markdown",
   "metadata": {},
   "source": [
    "### Load CIFAR-10 Data"
   ]
  },
  {
   "cell_type": "code",
   "execution_count": 3,
   "metadata": {},
   "outputs": [],
   "source": [
    "#CIFAR-10 Dataset has 60000 images of common objects, 6k images per class and 10 classes in total\n",
    "(X_train, Y_train), (X_test, Y_test) = cifar10.load_data()"
   ]
  },
  {
   "cell_type": "markdown",
   "metadata": {},
   "source": [
    "### Data Preparation"
   ]
  },
  {
   "cell_type": "code",
   "execution_count": 4,
   "metadata": {},
   "outputs": [
    {
     "name": "stdout",
     "output_type": "stream",
     "text": [
      "(50000, 3072)\n",
      "(50000, 10)\n",
      "(10000, 3072)\n",
      "(10000, 10)\n"
     ]
    }
   ],
   "source": [
    "#Convert to float type\n",
    "X_train, X_test = np.array(X_train, np.float32), np.array(X_test, np.float32)\n",
    "\n",
    "#Flatten images to 1-D vector of 3072 features (32*32*3)\n",
    "X_train, X_test = X_train.reshape([-1, 3072]), X_test.reshape([-1, 3072])\n",
    "\n",
    "#One hot encoding of labels\n",
    "Y_train = to_categorical(Y_train, 10)\n",
    "Y_test = to_categorical(Y_test, 10)\n",
    "\n",
    "#Normalization of images\n",
    "X_train = X_train / 255.\n",
    "X_test = X_test / 255.\n",
    "\n",
    "#Use Tensorflow data for shuffling and fetching it batchwise\n",
    "train_data = tf.data.Dataset.from_tensor_slices((X_train, Y_train))\n",
    "train_data = train_data.repeat().shuffle(5000).batch(batch_size).prefetch(1)\n",
    "\n",
    "print(X_train.shape)\n",
    "print(Y_train.shape)\n",
    "print(X_test.shape)\n",
    "print(Y_test.shape)"
   ]
  },
  {
   "cell_type": "markdown",
   "metadata": {},
   "source": [
    "## Define the model, Adding BatchNorm layer after each Layer\n",
    "### We will see the graphs later to understand the difference of adding BatchNormalization"
   ]
  },
  {
   "cell_type": "code",
   "execution_count": 5,
   "metadata": {},
   "outputs": [],
   "source": [
    "model = tf.keras.models.Sequential()\n",
    "model.add(layers.Dense(1024, input_dim = 3072 , activation = 'relu'))\n",
    "model.add(layers.BatchNormalization())\n",
    "model.add(layers.Dense(512, activation = 'relu'))\n",
    "model.add(layers.BatchNormalization())\n",
    "model.add(layers.Dense(256, activation = 'relu'))\n",
    "model.add(layers.BatchNormalization())\n",
    "model.add(layers.Dense(128, activation = 'relu'))\n",
    "model.add(layers.BatchNormalization())\n",
    "model.add(layers.Dense(10, activation = 'softmax'))"
   ]
  },
  {
   "cell_type": "markdown",
   "metadata": {},
   "source": [
    "### Compile the model with optimizer"
   ]
  },
  {
   "cell_type": "code",
   "execution_count": 6,
   "metadata": {},
   "outputs": [],
   "source": [
    "log_dir = \"logs/fit/\" + datetime.datetime.now().strftime(\"%Y%m%d-%H%M%S\")\n",
    "tensorboard_callback = tf.keras.callbacks.TensorBoard(log_dir = log_dir, histogram_freq = 1)\n",
    "\n",
    "model.compile(optimizer= tf.keras.optimizers.Adam(), loss = 'categorical_crossentropy', metrics = ['accuracy'])"
   ]
  },
  {
   "cell_type": "markdown",
   "metadata": {},
   "source": [
    "### Train the model"
   ]
  },
  {
   "cell_type": "code",
   "execution_count": 7,
   "metadata": {},
   "outputs": [
    {
     "name": "stdout",
     "output_type": "stream",
     "text": [
      "Epoch 1/25\n",
      "  1/196 [..............................] - ETA: 0s - loss: 3.1651 - accuracy: 0.0898WARNING:tensorflow:From C:\\Users\\Pranav\\anaconda3\\lib\\site-packages\\tensorflow\\python\\ops\\summary_ops_v2.py:1277: stop (from tensorflow.python.eager.profiler) is deprecated and will be removed after 2020-07-01.\n",
      "Instructions for updating:\n",
      "use `tf.profiler.experimental.stop` instead.\n",
      "196/196 [==============================] - 16s 84ms/step - loss: 1.7090 - accuracy: 0.3965 - val_loss: 1.9878 - val_accuracy: 0.3275\n",
      "Epoch 2/25\n",
      "196/196 [==============================] - 15s 78ms/step - loss: 1.4887 - accuracy: 0.4718 - val_loss: 1.7451 - val_accuracy: 0.3791\n",
      "Epoch 3/25\n",
      "196/196 [==============================] - 17s 86ms/step - loss: 1.3913 - accuracy: 0.5036 - val_loss: 1.7629 - val_accuracy: 0.3863\n",
      "Epoch 4/25\n",
      "196/196 [==============================] - 17s 84ms/step - loss: 1.3270 - accuracy: 0.5278 - val_loss: 1.9986 - val_accuracy: 0.3365\n",
      "Epoch 5/25\n",
      "196/196 [==============================] - 19s 99ms/step - loss: 1.2690 - accuracy: 0.5501 - val_loss: 2.0670 - val_accuracy: 0.3312\n",
      "Epoch 6/25\n",
      "196/196 [==============================] - 16s 79ms/step - loss: 1.2133 - accuracy: 0.5683 - val_loss: 1.7165 - val_accuracy: 0.4074\n",
      "Epoch 7/25\n",
      "196/196 [==============================] - 14s 74ms/step - loss: 1.1582 - accuracy: 0.5868 - val_loss: 1.9119 - val_accuracy: 0.3688\n",
      "Epoch 8/25\n",
      "196/196 [==============================] - 15s 74ms/step - loss: 1.0993 - accuracy: 0.6090 - val_loss: 1.8554 - val_accuracy: 0.3925\n",
      "Epoch 9/25\n",
      "196/196 [==============================] - 14s 73ms/step - loss: 1.0475 - accuracy: 0.6262 - val_loss: 1.7399 - val_accuracy: 0.4341\n",
      "Epoch 10/25\n",
      "196/196 [==============================] - 15s 74ms/step - loss: 0.9977 - accuracy: 0.6411 - val_loss: 1.5406 - val_accuracy: 0.4877\n",
      "Epoch 11/25\n",
      "196/196 [==============================] - 18s 94ms/step - loss: 0.9398 - accuracy: 0.6652 - val_loss: 1.5809 - val_accuracy: 0.4517\n",
      "Epoch 12/25\n",
      "196/196 [==============================] - 15s 74ms/step - loss: 0.8937 - accuracy: 0.6822 - val_loss: 1.5713 - val_accuracy: 0.4770\n",
      "Epoch 13/25\n",
      "196/196 [==============================] - 14s 72ms/step - loss: 0.8340 - accuracy: 0.7020 - val_loss: 1.6252 - val_accuracy: 0.4721\n",
      "Epoch 14/25\n",
      "196/196 [==============================] - 14s 72ms/step - loss: 0.7786 - accuracy: 0.7239 - val_loss: 1.7659 - val_accuracy: 0.4673\n",
      "Epoch 15/25\n",
      "196/196 [==============================] - 15s 75ms/step - loss: 0.7261 - accuracy: 0.7434 - val_loss: 1.7136 - val_accuracy: 0.4761\n",
      "Epoch 16/25\n",
      "196/196 [==============================] - 18s 89ms/step - loss: 0.6682 - accuracy: 0.7637 - val_loss: 1.6560 - val_accuracy: 0.4850\n",
      "Epoch 17/25\n",
      "196/196 [==============================] - 17s 88ms/step - loss: 0.6131 - accuracy: 0.7837 - val_loss: 1.7944 - val_accuracy: 0.4763\n",
      "Epoch 18/25\n",
      "196/196 [==============================] - 17s 86ms/step - loss: 0.5683 - accuracy: 0.8013 - val_loss: 2.1732 - val_accuracy: 0.4370\n",
      "Epoch 19/25\n",
      "196/196 [==============================] - 17s 89ms/step - loss: 0.5262 - accuracy: 0.8140 - val_loss: 2.0866 - val_accuracy: 0.4820\n",
      "Epoch 20/25\n",
      "196/196 [==============================] - 15s 76ms/step - loss: 0.4659 - accuracy: 0.8362 - val_loss: 2.0435 - val_accuracy: 0.4727\n",
      "Epoch 21/25\n",
      "196/196 [==============================] - 18s 90ms/step - loss: 0.4359 - accuracy: 0.8454 - val_loss: 2.1860 - val_accuracy: 0.4601\n",
      "Epoch 22/25\n",
      "196/196 [==============================] - 18s 91ms/step - loss: 0.3947 - accuracy: 0.8611 - val_loss: 2.1675 - val_accuracy: 0.4807\n",
      "Epoch 23/25\n",
      "196/196 [==============================] - 14s 71ms/step - loss: 0.3618 - accuracy: 0.8721 - val_loss: 2.2114 - val_accuracy: 0.4919\n",
      "Epoch 24/25\n",
      "196/196 [==============================] - 16s 81ms/step - loss: 0.3314 - accuracy: 0.8831 - val_loss: 2.3584 - val_accuracy: 0.4672\n",
      "Epoch 25/25\n",
      "196/196 [==============================] - 16s 81ms/step - loss: 0.2988 - accuracy: 0.8953 - val_loss: 2.2955 - val_accuracy: 0.4959\n"
     ]
    }
   ],
   "source": [
    "history = model.fit(x = X_train, y = Y_train, validation_data = (X_test, Y_test),\n",
    "                    epochs = 25, callbacks = [tensorboard_callback], batch_size = batch_size)"
   ]
  },
  {
   "cell_type": "markdown",
   "metadata": {},
   "source": [
    "### Plotting Accuracy and Loss graphs"
   ]
  },
  {
   "cell_type": "code",
   "execution_count": 8,
   "metadata": {},
   "outputs": [
    {
     "data": {
      "image/png": "[encoded data removed]",
      "text/plain": [
       "<Figure size 432x288 with 1 Axes>"
      ]
     },
     "metadata": {
      "needs_background": "light"
     },
     "output_type": "display_data"
    }
   ],
   "source": [
    "#Accuracy Graph\n",
    "plt.plot(history.history['accuracy'])\n",
    "plt.plot(history.history['val_accuracy'])\n",
    "plt.title('Model accuracy')\n",
    "plt.ylabel('Accuracy')\n",
    "plt.xlabel('Epoch')\n",
    "plt.legend(['Train', 'Test'], loc='upper left')\n",
    "plt.show()"
   ]
  },
  {
   "cell_type": "code",
   "execution_count": 9,
   "metadata": {},
   "outputs": [
    {
     "data": {
      "image/png": "[encoded data removed]",
      "text/plain": [
       "<Figure size 432x288 with 1 Axes>"
      ]
     },
     "metadata": {
      "needs_background": "light"
     },
     "output_type": "display_data"
    }
   ],
   "source": [
    "#Loss Graph\n",
    "plt.plot(history.history['loss'])\n",
    "plt.plot(history.history['val_loss'])\n",
    "plt.title('Model loss')\n",
    "plt.ylabel('Loss')\n",
    "plt.xlabel('Epoch')\n",
    "plt.legend(['Train', 'Test'], loc='upper left')\n",
    "plt.show()"
   ]
  },
  {
   "cell_type": "markdown",
   "metadata": {},
   "source": [
    "## Model without BatchNorm layer"
   ]
  },
  {
   "cell_type": "code",
   "execution_count": 10,
   "metadata": {},
   "outputs": [],
   "source": [
    "model1 = tf.keras.models.Sequential()\n",
    "model1.add(layers.Dense(1024, input_dim = 3072 , activation = 'relu'))\n",
    "model1.add(layers.Dense(512, activation = 'relu'))\n",
    "model1.add(layers.Dense(256, activation = 'relu'))\n",
    "model1.add(layers.Dense(128, activation = 'relu'))\n",
    "model1.add(layers.Dense(10, activation = 'softmax'))"
   ]
  },
  {
   "cell_type": "markdown",
   "metadata": {},
   "source": [
    "### Compile the model with optimizer"
   ]
  },
  {
   "cell_type": "code",
   "execution_count": 11,
   "metadata": {},
   "outputs": [],
   "source": [
    "log_dir_latest = \"logs/fit_latest/\" + datetime.datetime.now().strftime(\"%Y%m%d-%H%M%S\")\n",
    "tensorboard_callback_latest = tf.keras.callbacks.TensorBoard(log_dir = log_dir_latest, histogram_freq = 1)\n",
    "\n",
    "model1.compile(optimizer= tf.keras.optimizers.Adam(), loss = 'categorical_crossentropy', metrics = ['accuracy'])"
   ]
  },
  {
   "cell_type": "markdown",
   "metadata": {},
   "source": [
    "### Train the model"
   ]
  },
  {
   "cell_type": "code",
   "execution_count": 12,
   "metadata": {},
   "outputs": [
    {
     "name": "stdout",
     "output_type": "stream",
     "text": [
      "Epoch 1/25\n",
      "196/196 [==============================] - 15s 77ms/step - loss: 1.9929 - accuracy: 0.2813 - val_loss: 1.8056 - val_accuracy: 0.3466\n",
      "Epoch 2/25\n",
      "196/196 [==============================] - 16s 81ms/step - loss: 1.7262 - accuracy: 0.3793 - val_loss: 1.6796 - val_accuracy: 0.3897\n",
      "Epoch 3/25\n",
      "196/196 [==============================] - 14s 73ms/step - loss: 1.6240 - accuracy: 0.4198 - val_loss: 1.6144 - val_accuracy: 0.4235\n",
      "Epoch 4/25\n",
      "196/196 [==============================] - 16s 80ms/step - loss: 1.5568 - accuracy: 0.4440 - val_loss: 1.5276 - val_accuracy: 0.4540\n",
      "Epoch 5/25\n",
      "196/196 [==============================] - 14s 71ms/step - loss: 1.5093 - accuracy: 0.4595 - val_loss: 1.5148 - val_accuracy: 0.4574\n",
      "Epoch 6/25\n",
      "196/196 [==============================] - 13s 65ms/step - loss: 1.4658 - accuracy: 0.4774 - val_loss: 1.4633 - val_accuracy: 0.4778\n",
      "Epoch 7/25\n",
      "196/196 [==============================] - 12s 60ms/step - loss: 1.4305 - accuracy: 0.4898 - val_loss: 1.5020 - val_accuracy: 0.4598\n",
      "Epoch 8/25\n",
      "196/196 [==============================] - 13s 64ms/step - loss: 1.4003 - accuracy: 0.5007 - val_loss: 1.4168 - val_accuracy: 0.4983\n",
      "Epoch 9/25\n",
      "196/196 [==============================] - 12s 61ms/step - loss: 1.3663 - accuracy: 0.5127 - val_loss: 1.4122 - val_accuracy: 0.4954\n",
      "Epoch 10/25\n",
      "196/196 [==============================] - 12s 61ms/step - loss: 1.3447 - accuracy: 0.5214 - val_loss: 1.4510 - val_accuracy: 0.4919\n",
      "Epoch 11/25\n",
      "196/196 [==============================] - 12s 60ms/step - loss: 1.3086 - accuracy: 0.5319 - val_loss: 1.4112 - val_accuracy: 0.5025\n",
      "Epoch 12/25\n",
      "196/196 [==============================] - 12s 60ms/step - loss: 1.2877 - accuracy: 0.5387 - val_loss: 1.3854 - val_accuracy: 0.5073\n",
      "Epoch 13/25\n",
      "196/196 [==============================] - 14s 73ms/step - loss: 1.2601 - accuracy: 0.5505 - val_loss: 1.3980 - val_accuracy: 0.5068\n",
      "Epoch 14/25\n",
      "196/196 [==============================] - 12s 60ms/step - loss: 1.2359 - accuracy: 0.5576 - val_loss: 1.3890 - val_accuracy: 0.5108\n",
      "Epoch 15/25\n",
      "196/196 [==============================] - 12s 60ms/step - loss: 1.2096 - accuracy: 0.5667 - val_loss: 1.4081 - val_accuracy: 0.5079\n",
      "Epoch 16/25\n",
      "196/196 [==============================] - 12s 60ms/step - loss: 1.1856 - accuracy: 0.5775 - val_loss: 1.4310 - val_accuracy: 0.5012\n",
      "Epoch 17/25\n",
      "196/196 [==============================] - 12s 60ms/step - loss: 1.1544 - accuracy: 0.5881 - val_loss: 1.3731 - val_accuracy: 0.5194\n",
      "Epoch 18/25\n",
      "196/196 [==============================] - 12s 60ms/step - loss: 1.1322 - accuracy: 0.5943 - val_loss: 1.3658 - val_accuracy: 0.5242\n",
      "Epoch 19/25\n",
      "196/196 [==============================] - 12s 60ms/step - loss: 1.0951 - accuracy: 0.6086 - val_loss: 1.3638 - val_accuracy: 0.5273\n",
      "Epoch 20/25\n",
      "196/196 [==============================] - 15s 77ms/step - loss: 1.0781 - accuracy: 0.6122 - val_loss: 1.3598 - val_accuracy: 0.5335\n",
      "Epoch 21/25\n",
      "196/196 [==============================] - 15s 77ms/step - loss: 1.0515 - accuracy: 0.6253 - val_loss: 1.4146 - val_accuracy: 0.5176\n",
      "Epoch 22/25\n",
      "196/196 [==============================] - 16s 80ms/step - loss: 1.0191 - accuracy: 0.6362 - val_loss: 1.4191 - val_accuracy: 0.5196\n",
      "Epoch 23/25\n",
      "196/196 [==============================] - 16s 81ms/step - loss: 0.9947 - accuracy: 0.6454 - val_loss: 1.4032 - val_accuracy: 0.5228\n",
      "Epoch 24/25\n",
      "196/196 [==============================] - 13s 67ms/step - loss: 0.9607 - accuracy: 0.6551 - val_loss: 1.4138 - val_accuracy: 0.5306\n",
      "Epoch 25/25\n",
      "196/196 [==============================] - 15s 78ms/step - loss: 0.9329 - accuracy: 0.6644 - val_loss: 1.4262 - val_accuracy: 0.5296\n"
     ]
    }
   ],
   "source": [
    "history1 = model1.fit(x = X_train, y = Y_train, validation_data = (X_test, Y_test),\n",
    "                    epochs = 25, callbacks = [tensorboard_callback_latest], batch_size = batch_size)"
   ]
  },
  {
   "cell_type": "markdown",
   "metadata": {},
   "source": [
    "### Plotting Accuracy and Loss Graphs"
   ]
  },
  {
   "cell_type": "code",
   "execution_count": 13,
   "metadata": {},
   "outputs": [
    {
     "data": {
      "image/png": "[encoded data removed]",
      "text/plain": [
       "<Figure size 432x288 with 1 Axes>"
      ]
     },
     "metadata": {
      "needs_background": "light"
     },
     "output_type": "display_data"
    }
   ],
   "source": [
    "#Accuracy Graph\n",
    "plt.plot(history1.history['accuracy'])\n",
    "plt.plot(history1.history['val_accuracy'])\n",
    "plt.title('Model accuracy')\n",
    "plt.ylabel('Accuracy')\n",
    "plt.xlabel('Epoch')\n",
    "plt.legend(['Train', 'Test'], loc='upper left')\n",
    "plt.show()"
   ]
  },
  {
   "cell_type": "code",
   "execution_count": 14,
   "metadata": {},
   "outputs": [
    {
     "data": {
      "image/png": "[encoded data removed]",
      "text/plain": [
       "<Figure size 432x288 with 1 Axes>"
      ]
     },
     "metadata": {
      "needs_background": "light"
     },
     "output_type": "display_data"
    }
   ],
   "source": [
    "#Loss Graph\n",
    "plt.plot(history1.history['loss'])\n",
    "plt.plot(history1.history['val_loss'])\n",
    "plt.title('Model loss')\n",
    "plt.ylabel('Loss')\n",
    "plt.xlabel('Epoch')\n",
    "plt.legend(['Train', 'Test'], loc='upper left')\n",
    "plt.show()"
   ]
  },
  {
   "cell_type": "markdown",
   "metadata": {},
   "source": [
    "## As we compare the stats of loss going down between the two models, we clearly see that BatchNorm model reached a final loss of 0.30 at the end of 25 epochs whereas the Non-BatchNorm model reached a final loss of just 0.93\n",
    "\n",
    "## The BatchNorm model reached the loss of 0.93 at around 11th epoch only, which brings us to a conclusion that Model with BatchNorm trains faster.\n",
    "\n",
    "## Note: Here we demonstrate only the affect of BatchNorm, and not focusing on improving the overall test_accuracy which can be done by adding proper Regularization and Augmentation in a CNN approach network"
   ]
  }
 ],
 "metadata": {
  "kernelspec": {
   "display_name": "Python 3",
   "language": "python",
   "name": "python3"
  },
  "language_info": {
   "codemirror_mode": {
    "name": "ipython",
    "version": 3
   },
   "file_extension": ".py",
   "mimetype": "text/x-python",
   "name": "python",
   "nbconvert_exporter": "python",
   "pygments_lexer": "ipython3",
   "version": "3.7.6"
  }
 },
 "nbformat": 4,
 "nbformat_minor": 4
}
