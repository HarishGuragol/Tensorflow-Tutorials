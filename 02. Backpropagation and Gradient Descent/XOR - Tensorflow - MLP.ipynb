{
 "cells": [
  {
   "cell_type": "markdown",
   "metadata": {},
   "source": [
    "### Import tensorflow and disable v2"
   ]
  },
  {
   "cell_type": "code",
   "execution_count": 1,
   "metadata": {},
   "outputs": [
    {
     "name": "stdout",
     "output_type": "stream",
     "text": [
      "WARNING:tensorflow:From C:\\Users\\Pranav\\anaconda3\\lib\\site-packages\\tensorflow\\python\\compat\\v2_compat.py:96: disable_resource_variables (from tensorflow.python.ops.variable_scope) is deprecated and will be removed in a future version.\n",
      "Instructions for updating:\n",
      "non-resource variables are not supported in the long term\n"
     ]
    }
   ],
   "source": [
    "#Importing packages\n",
    "import time\n",
    "import tensorflow.compat.v1 as tf\n",
    "tf.disable_v2_behavior()"
   ]
  },
  {
   "cell_type": "markdown",
   "metadata": {},
   "source": [
    "### Create placeholders for Input(X) and Output(Y)"
   ]
  },
  {
   "cell_type": "code",
   "execution_count": 2,
   "metadata": {},
   "outputs": [],
   "source": [
    "#Define the placeholders for holding Input and Output Instances\n",
    "X = tf.placeholder(tf.float32, shape = [4, 2])\n",
    "Y = tf.placeholder(tf.float32, shape = [4, 1])"
   ]
  },
  {
   "cell_type": "markdown",
   "metadata": {},
   "source": [
    "### Define the range of the random initializer between -1 & 1"
   ]
  },
  {
   "cell_type": "code",
   "execution_count": 3,
   "metadata": {},
   "outputs": [],
   "source": [
    "#Defining the weights of 1st hidden layer and output neuron\n",
    "w1 = tf.Variable([[1.0, 0.0], [1.0, 0.0]], shape = [2, 2])\n",
    "w2 = tf.Variable([[1.0, 0.0], [1.0, 0.0]], shape = [2, 2])\n",
    "w3 = tf.Variable([[0.0], [1.0]], shape = [2, 1])"
   ]
  },
  {
   "cell_type": "markdown",
   "metadata": {},
   "source": [
    "### Define the bias "
   ]
  },
  {
   "cell_type": "code",
   "execution_count": 4,
   "metadata": {},
   "outputs": [],
   "source": [
    "#Defining the bias of 1st hidden layer and output neuron\n",
    "b1 = tf.Variable([0.0, 0.0], shape = [2])\n",
    "b2 = tf.Variable([0.0, 0.0], shape = [2])\n",
    "b3 = tf.Variable([0.0], shape = 1)"
   ]
  },
  {
   "cell_type": "markdown",
   "metadata": {},
   "source": [
    "### Setup the model flow"
   ]
  },
  {
   "cell_type": "code",
   "execution_count": 5,
   "metadata": {},
   "outputs": [],
   "source": [
    "#Setting the flow -> Inputs -> Weights * Inputs -> Activation -> Weights * Activation1 -> Output \n",
    "A1 = tf.tanh(tf.matmul(X, w1) + b1)\n",
    "A2 = tf.tanh(tf.matmul(A1, w2) + b2)\n",
    "Yhat = tf.sigmoid(tf.matmul(A2, w3) + b3)"
   ]
  },
  {
   "cell_type": "markdown",
   "metadata": {},
   "source": [
    "### Define the cost function"
   ]
  },
  {
   "cell_type": "code",
   "execution_count": 6,
   "metadata": {},
   "outputs": [],
   "source": [
    "#Cost function definition\n",
    "#cost = tf.reduce_mean(-1 * (Y * tf.log(Yhat)) + (1 - Y) * tf.log(1 - Yhat))\n",
    "cost = tf.reduce_mean(tf.squared_difference(Y, Yhat))"
   ]
  },
  {
   "cell_type": "markdown",
   "metadata": {},
   "source": [
    "### Put it all together"
   ]
  },
  {
   "cell_type": "code",
   "execution_count": 7,
   "metadata": {},
   "outputs": [],
   "source": [
    "#Setup the optimizer function with learning rate as parameter\n",
    "train = tf.train.GradientDescentOptimizer(0.1).minimize(cost)"
   ]
  },
  {
   "cell_type": "markdown",
   "metadata": {},
   "source": [
    "### Define the input values to the network (XOR)"
   ]
  },
  {
   "cell_type": "code",
   "execution_count": 8,
   "metadata": {},
   "outputs": [],
   "source": [
    "#Define the XOR Inputs and Outputs\n",
    "XOR_input = [[0, 0], [0, 1], [1, 0], [1, 1]]\n",
    "XOR_output = [[0], [1], [1], [0]]"
   ]
  },
  {
   "cell_type": "markdown",
   "metadata": {},
   "source": [
    "### Instantiate the tensorflow global variables -> Graph"
   ]
  },
  {
   "cell_type": "code",
   "execution_count": 9,
   "metadata": {},
   "outputs": [],
   "source": [
    "#Initialize the Tensorflow Session and global varibales (Get it readdy to spawn a Computational Graph)\n",
    "init = tf.global_variables_initializer()\n",
    "sess = tf.Session()\n",
    "sess.run(init)"
   ]
  },
  {
   "cell_type": "markdown",
   "metadata": {},
   "source": [
    "### Let's train for 10000 epochs"
   ]
  },
  {
   "cell_type": "code",
   "execution_count": 10,
   "metadata": {},
   "outputs": [
    {
     "name": "stderr",
     "output_type": "stream",
     "text": [
      "C:\\Users\\Pranav\\anaconda3\\lib\\site-packages\\ipykernel_launcher.py:2: DeprecationWarning: time.clock has been deprecated in Python 3.3 and will be removed from Python 3.8: use time.perf_counter or time.process_time instead\n",
      "  \n"
     ]
    },
    {
     "name": "stdout",
     "output_type": "stream",
     "text": [
      "Epoch = 0\n",
      "Cost = 0.24976608157157898\n",
      "[0.5]\n",
      "[0.501205]\n",
      "[0.501205]\n",
      "[0.5014694]\n",
      "Epoch = 10000\n",
      "Cost = 0.0001638973189983517\n",
      "[0.01141223]\n",
      "[0.98700345]\n",
      "[0.98700345]\n",
      "[0.01369414]\n",
      "Epoch = 20000\n",
      "Cost = 7.322928286157548e-05\n",
      "[0.00766066]\n",
      "[0.9912702]\n",
      "[0.9912702]\n",
      "[0.009045]\n",
      "Epoch = 30000\n",
      "Cost = 4.6748762542847544e-05\n",
      "[0.00613299]\n",
      "[0.9930067]\n",
      "[0.9930067]\n",
      "[0.00718117]\n",
      "Epoch = 40000\n",
      "Cost = 3.42311650456395e-05\n",
      "[0.00525293]\n",
      "[0.9940053]\n",
      "[0.9940053]\n",
      "[0.00612038]\n",
      "Epoch = 50000\n",
      "Cost = 2.695487273740582e-05\n",
      "[0.00466439]\n",
      "[0.9946743]\n",
      "[0.9946743]\n",
      "[0.00541639]\n",
      "Epoch = 60000\n",
      "Cost = 2.2214751879801042e-05\n",
      "[0.00423574]\n",
      "[0.9951602]\n",
      "[0.9951602]\n",
      "[0.00490618]\n",
      "Epoch = 70000\n",
      "Cost = 1.8877146430895664e-05\n",
      "[0.00391009]\n",
      "[0.9955355]\n",
      "[0.9955355]\n",
      "[0.00451177]\n",
      "Epoch = 80000\n",
      "Cost = 1.6408162991865538e-05\n",
      "[0.00364271]\n",
      "[0.99583197]\n",
      "[0.99583197]\n",
      "[0.00419742]\n",
      "Epoch = 90000\n",
      "Cost = 1.4519629985443316e-05\n",
      "[0.00342852]\n",
      "[0.99607956]\n",
      "[0.99607956]\n",
      "[0.00394768]\n",
      "Epoch = 100000\n",
      "Cost = 1.3003756976104341e-05\n",
      "[0.00324434]\n",
      "[0.9962888]\n",
      "[0.9962888]\n",
      "[0.00373402]\n",
      "Time Elapsed = 137.1833666\n"
     ]
    },
    {
     "name": "stderr",
     "output_type": "stream",
     "text": [
      "C:\\Users\\Pranav\\anaconda3\\lib\\site-packages\\ipykernel_launcher.py:18: DeprecationWarning: time.clock has been deprecated in Python 3.3 and will be removed from Python 3.8: use time.perf_counter or time.process_time instead\n"
     ]
    }
   ],
   "source": [
    "#Run the for-loop for a well defined number of epochs\n",
    "s = time.clock()\n",
    "for i in range(100001):\n",
    "    \n",
    "    #Generate the Computational Graph and train the network\n",
    "    sess.run(train, feed_dict = {X : XOR_input, Y : XOR_output})\n",
    "    \n",
    "    #Print epoch and cost values at end of every 10000th epoch\n",
    "    if i % 10000 == 0:\n",
    "        print('Epoch = {}'.format(i))\n",
    "        print('Cost = {}'.format(sess.run(cost, feed_dict = {X : XOR_input, Y : XOR_output})))\n",
    "        \n",
    "        #Print the network output at this state\n",
    "        for a in sess.run(Yhat, feed_dict = {X : XOR_input, Y : XOR_output}):\n",
    "            print(a)\n",
    "\n",
    "        \n",
    "e = time.clock()\n",
    "\n",
    "print('Time Elapsed = {}'.format(e-s))"
   ]
  }
 ],
 "metadata": {
  "kernelspec": {
   "display_name": "Python 3",
   "language": "python",
   "name": "python3"
  },
  "language_info": {
   "codemirror_mode": {
    "name": "ipython",
    "version": 3
   },
   "file_extension": ".py",
   "mimetype": "text/x-python",
   "name": "python",
   "nbconvert_exporter": "python",
   "pygments_lexer": "ipython3",
   "version": "3.7.6"
  }
 },
 "nbformat": 4,
 "nbformat_minor": 4
}
