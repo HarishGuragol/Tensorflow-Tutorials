{
 "cells": [
  {
   "cell_type": "markdown",
   "metadata": {},
   "source": [
    "### Import Numpy & Math libraries"
   ]
  },
  {
   "cell_type": "code",
   "execution_count": 1,
   "metadata": {},
   "outputs": [],
   "source": [
    "import numpy as np\n",
    "import math"
   ]
  },
  {
   "cell_type": "markdown",
   "metadata": {},
   "source": [
    "### Assuming a 200 Layer Neural Network\n",
    "#### Let's see what happens to the Mean and Std-Dev at the end of 200 layer computations when we randomly initialize from a standard distribution (Using np.random.randn)"
   ]
  },
  {
   "cell_type": "code",
   "execution_count": 2,
   "metadata": {},
   "outputs": [
    {
     "name": "stdout",
     "output_type": "stream",
     "text": [
      "Mean : 6.803182103233671e+238\n",
      "Std-Dev : inf\n"
     ]
    },
    {
     "name": "stderr",
     "output_type": "stream",
     "text": [
      "C:\\Users\\Pranav\\anaconda3\\lib\\site-packages\\numpy\\core\\_methods.py:195: RuntimeWarning: overflow encountered in multiply\n",
      "  x = um.multiply(x, x, out=x)\n"
     ]
    }
   ],
   "source": [
    "x = np.random.randn(256)\n",
    "\n",
    "for i in range(200):\n",
    "    a = np.random.randn(256, 256)\n",
    "    x = np.matmul(a, x)\n",
    "print('Mean : {}'.format(x.mean()))\n",
    "print('Std-Dev : {}'.format(x.std()))"
   ]
  },
  {
   "cell_type": "markdown",
   "metadata": {},
   "source": [
    "#### Above results show that the activations blew and the mean & std-dev are too high. Let's see after which layer this actually happened..."
   ]
  },
  {
   "cell_type": "code",
   "execution_count": 3,
   "metadata": {},
   "outputs": [
    {
     "name": "stdout",
     "output_type": "stream",
     "text": [
      "Layer : 127\n"
     ]
    },
    {
     "name": "stderr",
     "output_type": "stream",
     "text": [
      "C:\\Users\\Pranav\\anaconda3\\lib\\site-packages\\numpy\\core\\_methods.py:199: RuntimeWarning: overflow encountered in reduce\n",
      "  ret = umr_sum(x, axis, dtype, out, keepdims)\n"
     ]
    }
   ],
   "source": [
    "x = np.random.randn(256)\n",
    "\n",
    "for i in range(200):\n",
    "    a = np.random.randn(256, 256)\n",
    "    x = np.matmul(a, x)\n",
    "    if np.isinf(x.std()):\n",
    "        break\n",
    "print('Layer : {}'.format(i))"
   ]
  },
  {
   "cell_type": "markdown",
   "metadata": {},
   "source": [
    "#### At Layer 127, the std-dev went close to inf!!! "
   ]
  },
  {
   "cell_type": "markdown",
   "metadata": {},
   "source": [
    "#### Let's see if we initialize it too low, having a std-dev of 0.01"
   ]
  },
  {
   "cell_type": "code",
   "execution_count": 4,
   "metadata": {},
   "outputs": [
    {
     "name": "stdout",
     "output_type": "stream",
     "text": [
      "Mean : 6.618773411677304e-161\n",
      "Std-Dev : 9.306805286187753e-160\n"
     ]
    }
   ],
   "source": [
    "x = np.random.randn(256)\n",
    "\n",
    "for i in range(200):\n",
    "    a = np.random.randn(256, 256) * 0.01\n",
    "    x = np.matmul(a, x)\n",
    "print('Mean : {}'.format(x.mean()))\n",
    "print('Std-Dev : {}'.format(x.std()))"
   ]
  },
  {
   "cell_type": "markdown",
   "metadata": {},
   "source": [
    "#### As we can see, the values are too low and have vanished completely!!!"
   ]
  },
  {
   "cell_type": "markdown",
   "metadata": {},
   "source": [
    "#### The matrix product of our inputs x and weight matrix a that we initialized from a standard normal distribution will, on average, have a standard deviation very close to the square root of the number of input connections i.e √256"
   ]
  },
  {
   "cell_type": "code",
   "execution_count": 5,
   "metadata": {},
   "outputs": [
    {
     "name": "stdout",
     "output_type": "stream",
     "text": [
      "Mean : -2.033238568959367\n",
      "Std-Dev : 16.671325799966347\n",
      "Sqrt of 256 : 16.0\n"
     ]
    }
   ],
   "source": [
    "for i in range(200):\n",
    "    x = np.random.randn(256)\n",
    "    a = np.random.randn(256, 256)\n",
    "    y = np.matmul(a, x)\n",
    "    \n",
    "print('Mean : {}'.format(y.mean()))\n",
    "print('Std-Dev : {}'.format(y.std()))\n",
    "\n",
    "print('Sqrt of 256 : {}'.format(math.sqrt(256)))"
   ]
  },
  {
   "cell_type": "markdown",
   "metadata": {},
   "source": [
    "#### We see a Std-Dev of 0 when we initialize with 1 as parameter for the standard normal distribution"
   ]
  },
  {
   "cell_type": "code",
   "execution_count": 6,
   "metadata": {},
   "outputs": [
    {
     "name": "stdout",
     "output_type": "stream",
     "text": [
      "Mean : -0.35479144564342663\n",
      "Std-Dev : 0.0\n"
     ]
    }
   ],
   "source": [
    "for i in range(200):\n",
    "    x = np.random.randn(1)\n",
    "    a = np.random.randn(1) \n",
    "    y = np.matmul(a, x)\n",
    "    \n",
    "print('Mean : {}'.format(y.mean()))\n",
    "print('Std-Dev : {}'.format(y.std()))"
   ]
  },
  {
   "cell_type": "markdown",
   "metadata": {},
   "source": [
    "#### If we first scale the weight matrix a by dividing all its randomly chosen values by √256, the element-wise multiplication that fills in one element of the outputs y would now, on average, have a variance of only 1/√256."
   ]
  },
  {
   "cell_type": "code",
   "execution_count": 7,
   "metadata": {},
   "outputs": [
    {
     "name": "stdout",
     "output_type": "stream",
     "text": [
      "Mean : 0.0174401771173429\n",
      "Std-Dev : 0.9460319973401099\n",
      "\n"
     ]
    }
   ],
   "source": [
    "for i in range(200):\n",
    "    x = np.random.randn(256)\n",
    "    a = np.random.randn(256, 256) * math.sqrt(1./256)\n",
    "    y = np.matmul(a, x)\n",
    "    \n",
    "print('Mean : {}'.format(y.mean()))\n",
    "print('Std-Dev : {}\\n'.format(y.std()))"
   ]
  },
  {
   "cell_type": "markdown",
   "metadata": {},
   "source": [
    "#### Let's scale the weights by 1/√n, where n is the number of network input connections at a layer (256 in our case)"
   ]
  },
  {
   "cell_type": "code",
   "execution_count": 8,
   "metadata": {},
   "outputs": [
    {
     "name": "stdout",
     "output_type": "stream",
     "text": [
      "Mean : 0.07338313940839904\n",
      "Std-Dev : 1.3934180755815289\n",
      "\n"
     ]
    }
   ],
   "source": [
    "x = np.random.randn(256)\n",
    "\n",
    "for i in range(200):\n",
    "    a = np.random.randn(256, 256) * math.sqrt(1./256)\n",
    "    x = np.matmul(a, x)\n",
    "    \n",
    "print('Mean : {}'.format(x.mean()))\n",
    "print('Std-Dev : {}\\n'.format(x.std()))    "
   ]
  },
  {
   "cell_type": "markdown",
   "metadata": {},
   "source": [
    "#### Voila!!! Certainly did not explode at the end of 200 layers also!!!"
   ]
  },
  {
   "cell_type": "markdown",
   "metadata": {},
   "source": [
    "#### Let's see what happens if we scale the weights and have a network size of 1000"
   ]
  },
  {
   "cell_type": "code",
   "execution_count": 9,
   "metadata": {},
   "outputs": [
    {
     "name": "stdout",
     "output_type": "stream",
     "text": [
      "Mean : -0.020828393550299015\n",
      "Std-Dev : 0.717778763909457\n",
      "\n"
     ]
    }
   ],
   "source": [
    "x = np.random.randn(256)\n",
    "\n",
    "for i in range(1000):\n",
    "    a = np.random.randn(256, 256) * math.sqrt(1./256)\n",
    "    x = np.matmul(a, x)\n",
    "\n",
    "print('Mean : {}'.format(x.mean()))\n",
    "print('Std-Dev : {}\\n'.format(x.std()))  "
   ]
  },
  {
   "cell_type": "markdown",
   "metadata": {},
   "source": [
    "#### Certainly impressive results, they are not yet blown even after 1000 layer"
   ]
  },
  {
   "cell_type": "markdown",
   "metadata": {},
   "source": [
    "### Let's attach activation functions and look at the results"
   ]
  },
  {
   "cell_type": "code",
   "execution_count": 10,
   "metadata": {},
   "outputs": [],
   "source": [
    "def tanh(x):\n",
    "    return np.tanh(x)\n",
    "\n",
    "def sigmoid(x):\n",
    "    s = 1.0/(1 + np.exp(-x))\n",
    "    return s\n",
    "\n",
    "def ReLU(x):\n",
    "    r = np.maximum(0, x)\n",
    "    return r"
   ]
  },
  {
   "cell_type": "markdown",
   "metadata": {},
   "source": [
    "#### Tanh Activation + Standard Normal Distribution"
   ]
  },
  {
   "cell_type": "code",
   "execution_count": 11,
   "metadata": {},
   "outputs": [
    {
     "name": "stdout",
     "output_type": "stream",
     "text": [
      "Mean : -0.002034847274239449\n",
      "Std-Dev : 0.032827911434005104\n",
      "\n"
     ]
    }
   ],
   "source": [
    "x = np.random.randn(256)\n",
    "\n",
    "for i in range(200):\n",
    "    a = np.random.randn(256, 256) * math.sqrt(1./256)\n",
    "    x = tanh(np.matmul(a, x))\n",
    "\n",
    "print('Mean : {}'.format(x.mean()))\n",
    "print('Std-Dev : {}\\n'.format(x.std()))"
   ]
  },
  {
   "cell_type": "markdown",
   "metadata": {},
   "source": [
    "#### Sigmoid Activation + Standard Normal Distribution"
   ]
  },
  {
   "cell_type": "code",
   "execution_count": 12,
   "metadata": {},
   "outputs": [
    {
     "name": "stdout",
     "output_type": "stream",
     "text": [
      "Mean : 0.5046677078887747\n",
      "Std-Dev : 0.11297762639466236\n",
      "\n"
     ]
    }
   ],
   "source": [
    "x = np.random.randn(256)\n",
    "\n",
    "for i in range(200):\n",
    "    a = np.random.randn(256, 256) * math.sqrt(1./256)\n",
    "    x = sigmoid(np.matmul(a, x))\n",
    "\n",
    "print('Mean : {}'.format(x.mean()))\n",
    "print('Std-Dev : {}\\n'.format(x.std()))"
   ]
  },
  {
   "cell_type": "markdown",
   "metadata": {},
   "source": [
    "#### Conceptually, it makes sense that when using activation functions that are symmetric about zero and have outputs inside [-1,1], such as softsign and tanh, we’d want the activation outputs of each layer to have a mean of 0 and a standard deviation around 1, on average. Let's see if applied to ReLU\n",
    "\n",
    "\n",
    "#### ReLU +  Standard Normal Distribution fails drastically"
   ]
  },
  {
   "cell_type": "code",
   "execution_count": 13,
   "metadata": {},
   "outputs": [
    {
     "name": "stdout",
     "output_type": "stream",
     "text": [
      "Mean : 3.360893927132041e-31\n",
      "Std-Dev : 5.391334907304023e-31\n",
      "\n"
     ]
    }
   ],
   "source": [
    "x = np.random.randn(256)\n",
    "\n",
    "for i in range(200):\n",
    "    a = np.random.randn(256, 256) * math.sqrt(1./256)\n",
    "    x = ReLU(np.matmul(a, x))\n",
    "\n",
    "print('Mean : {}'.format(x.mean()))\n",
    "print('Std-Dev : {}\\n'.format(x.std()))"
   ]
  },
  {
   "cell_type": "markdown",
   "metadata": {},
   "source": [
    "#### In ReLU the Std-dev is quite close to the square root of the number of input connections, divided by the square root of two, or √256/√2 here"
   ]
  },
  {
   "cell_type": "code",
   "execution_count": 14,
   "metadata": {},
   "outputs": [
    {
     "name": "stdout",
     "output_type": "stream",
     "text": [
      "Mean : 6.345789744210585\n",
      "Std-Dev : 9.193129641219196\n",
      "\n"
     ]
    }
   ],
   "source": [
    "for i in range(200):\n",
    "    x = np.random.randn(256)\n",
    "    a = np.random.randn(256, 256) \n",
    "    y = ReLU(np.matmul(a, x))\n",
    "    \n",
    "print('Mean : {}'.format(y.mean()))\n",
    "print('Std-Dev : {}\\n'.format(y.std()))"
   ]
  },
  {
   "cell_type": "code",
   "execution_count": 15,
   "metadata": {},
   "outputs": [
    {
     "data": {
      "text/plain": [
       "11.313708498984761"
      ]
     },
     "execution_count": 15,
     "metadata": {},
     "output_type": "execute_result"
    }
   ],
   "source": [
    "math.sqrt(256/2)"
   ]
  },
  {
   "cell_type": "markdown",
   "metadata": {},
   "source": [
    "#### Scaling the weights by this number i.e. 2 will help our cause. One more reason of choosing two is increase the influence by 2 as half of the weights are lost when f(x)<0"
   ]
  },
  {
   "cell_type": "code",
   "execution_count": 16,
   "metadata": {},
   "outputs": [
    {
     "name": "stdout",
     "output_type": "stream",
     "text": [
      "Mean : 0.3403720852053421\n",
      "Std-Dev : 0.5489153045498826\n",
      "\n"
     ]
    }
   ],
   "source": [
    "x = np.random.randn(256)\n",
    "\n",
    "for i in range(200):\n",
    "    a = np.random.randn(256, 256) * math.sqrt(2./256)\n",
    "    x = ReLU(np.matmul(a, x))\n",
    "\n",
    "print('Mean : {}'.format(x.mean()))\n",
    "print('Std-Dev : {}\\n'.format(x.std()))"
   ]
  },
  {
   "cell_type": "markdown",
   "metadata": {},
   "source": [
    "#### Tanh + Uniform Normal Distribution fails drastically"
   ]
  },
  {
   "cell_type": "code",
   "execution_count": 17,
   "metadata": {},
   "outputs": [
    {
     "name": "stdout",
     "output_type": "stream",
     "text": [
      "Mean : -1.2651254607463406e-49\n",
      "Std-Dev : 1.7536069498096755e-48\n",
      "\n"
     ]
    }
   ],
   "source": [
    "x = np.random.randn(256)\n",
    "\n",
    "for i in range(200):\n",
    "    a = np.random.uniform(-1, 1, (256, 256)) * math.sqrt(1./256)\n",
    "    x = tanh(np.matmul(a, x))\n",
    "\n",
    "print('Mean : {}'.format(x.mean()))\n",
    "print('Std-Dev : {}\\n'.format(x.std()))"
   ]
  },
  {
   "cell_type": "markdown",
   "metadata": {},
   "source": [
    "#### Xavier Initialization + Tanh works well"
   ]
  },
  {
   "cell_type": "code",
   "execution_count": 18,
   "metadata": {},
   "outputs": [
    {
     "name": "stdout",
     "output_type": "stream",
     "text": [
      "Mean : 0.0037240065404603416\n",
      "Std-Dev : 0.05154912410212177\n",
      "\n"
     ]
    }
   ],
   "source": [
    "x = np.random.randn(256)\n",
    "\n",
    "for i in range(200):\n",
    "    a = np.random.uniform(-1, 1, (256, 256)) * math.sqrt(6./(256 + 256))\n",
    "    x = tanh(np.matmul(a, x))\n",
    "\n",
    "print('Mean : {}'.format(x.mean()))\n",
    "print('Std-Dev : {}\\n'.format(x.std()))"
   ]
  },
  {
   "cell_type": "markdown",
   "metadata": {},
   "source": [
    "#### Xavier Initialization + ReLU fails!"
   ]
  },
  {
   "cell_type": "code",
   "execution_count": 19,
   "metadata": {},
   "outputs": [
    {
     "name": "stdout",
     "output_type": "stream",
     "text": [
      "Mean : 3.0915757299320967e-31\n",
      "Std-Dev : 4.1623075606803016e-31\n",
      "\n"
     ]
    }
   ],
   "source": [
    "x = np.random.randn(256)\n",
    "\n",
    "for i in range(200):\n",
    "    a = np.random.uniform(-1, 1, (256, 256)) * math.sqrt(6./(256 + 256))\n",
    "    x = ReLU(np.matmul(a, x))\n",
    "\n",
    "print('Mean : {}'.format(x.mean()))\n",
    "print('Std-Dev : {}\\n'.format(x.std()))"
   ]
  },
  {
   "cell_type": "markdown",
   "metadata": {},
   "source": [
    "## Summary"
   ]
  },
  {
   "cell_type": "markdown",
   "metadata": {},
   "source": [
    "#### Xavier Init with ReLU fails\n",
    "#### Xavier Init and Std Normal Distribution with all zero-centered activations will work well (Tanh, Sigmoid etc)\n",
    "#### Std Normal Distribution scaled by sqrt(2/n) with ReLU works well where n is no. of neurons"
   ]
  }
 ],
 "metadata": {
  "kernelspec": {
   "display_name": "Python 3",
   "language": "python",
   "name": "python3"
  },
  "language_info": {
   "codemirror_mode": {
    "name": "ipython",
    "version": 3
   },
   "file_extension": ".py",
   "mimetype": "text/x-python",
   "name": "python",
   "nbconvert_exporter": "python",
   "pygments_lexer": "ipython3",
   "version": "3.7.6"
  }
 },
 "nbformat": 4,
 "nbformat_minor": 4
}
