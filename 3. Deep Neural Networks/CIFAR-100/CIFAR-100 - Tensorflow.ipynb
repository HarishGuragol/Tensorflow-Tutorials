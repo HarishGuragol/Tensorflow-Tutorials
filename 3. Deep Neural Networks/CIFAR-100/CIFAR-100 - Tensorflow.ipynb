{
 "cells": [
  {
   "cell_type": "markdown",
   "metadata": {},
   "source": [
    "Import tensorflow and disable v2"
   ]
  },
  {
   "cell_type": "code",
   "execution_count": 1,
   "metadata": {},
   "outputs": [
    {
     "name": "stdout",
     "output_type": "stream",
     "text": [
      "WARNING:tensorflow:From C:\\Users\\Pranav\\anaconda3\\lib\\site-packages\\tensorflow\\python\\compat\\v2_compat.py:96: disable_resource_variables (from tensorflow.python.ops.variable_scope) is deprecated and will be removed in a future version.\n",
      "Instructions for updating:\n",
      "non-resource variables are not supported in the long term\n"
     ]
    }
   ],
   "source": [
    "#Importing packages\n",
    "import time\n",
    "import numpy as np\n",
    "import matplotlib.pyplot as plt\n",
    "import tensorflow.compat.v1 as tf\n",
    "from tensorflow.keras.datasets import cifar100\n",
    "from tensorflow.keras.utils import to_categorical\n",
    "\n",
    "tf.disable_v2_behavior()"
   ]
  },
  {
   "cell_type": "markdown",
   "metadata": {},
   "source": [
    "Define the Hyperparameter & Data info"
   ]
  },
  {
   "cell_type": "code",
   "execution_count": 2,
   "metadata": {},
   "outputs": [],
   "source": [
    "#Learning Rate, Iterations, Batch Size - Hyperparameters\n",
    "learning_rate = 0.0001\n",
    "iterations = 40000\n",
    "batch_size = 256\n",
    "#dropout = 0.5"
   ]
  },
  {
   "cell_type": "markdown",
   "metadata": {},
   "source": [
    "Load CIFAR-100 Data"
   ]
  },
  {
   "cell_type": "code",
   "execution_count": 3,
   "metadata": {},
   "outputs": [
    {
     "name": "stdout",
     "output_type": "stream",
     "text": [
      "Downloading data from https://www.cs.toronto.edu/~kriz/cifar-100-python.tar.gz\n",
      "169009152/169001437 [==============================] - 54s 0us/step\n"
     ]
    }
   ],
   "source": [
    "#CIFAR-10 Dataset has 60000 images of common objects, 6k images per class and 10 classes in total\n",
    "(X_train, Y_train), (X_test, Y_test) = cifar100.load_data()"
   ]
  },
  {
   "cell_type": "code",
   "execution_count": 4,
   "metadata": {},
   "outputs": [],
   "source": [
    "#Convert to float type\n",
    "X_train = X_train.astype('float32')\n",
    "X_test = X_test.astype('float32')\n",
    "\n",
    "#One hot encoding of labels\n",
    "Y_train = to_categorical(Y_train, 100)\n",
    "Y_test = to_categorical(Y_test, 100)\n",
    "\n",
    "#Normalization of images\n",
    "X_train = X_train / 255.\n",
    "X_test = X_test / 255.\n",
    "\n",
    "#Reshape to [None, 3072] = 32 * 32 * 3\n",
    "X_train = X_train.reshape(-1, 32*32*3)\n",
    "X_test = X_test.reshape(-1, 32*32*3)"
   ]
  },
  {
   "cell_type": "markdown",
   "metadata": {},
   "source": [
    "Function to shuffle and return data batch-wise"
   ]
  },
  {
   "cell_type": "code",
   "execution_count": 5,
   "metadata": {},
   "outputs": [],
   "source": [
    "#Function to randomly sample the data in batches\n",
    "def next_batch(num, data, labels):\n",
    "    '''\n",
    "    Input - num, batch size\n",
    "            data, train data instances\n",
    "            labels. train data labels\n",
    "    Returns - np arrays of data and labels\n",
    "    '''    \n",
    "    i = np.arange(0 , len(data))\n",
    "    np.random.shuffle(i)\n",
    "    i = i[:num]\n",
    "    data_shuffle = [data[j] for j in i]\n",
    "    labels_shuffle = [labels[j] for j in i]\n",
    "\n",
    "    return np.asarray(data_shuffle), np.asarray(labels_shuffle)"
   ]
  },
  {
   "cell_type": "markdown",
   "metadata": {},
   "source": [
    "Create placeholders for Input(X) and Output(Y)"
   ]
  },
  {
   "cell_type": "code",
   "execution_count": 6,
   "metadata": {},
   "outputs": [],
   "source": [
    "#Define the placeholders for holding Input and Output Instances\n",
    "#Here shape is [None, 784], where None means any number of  examples can be passed and 3072 stands for 32 * 32 * 3\n",
    "X = tf.placeholder(tf.float32, shape = [None, 3072])\n",
    "#Here shape is [None, 10], where 10 represents number of output classes\n",
    "Y = tf.placeholder(tf.float32, shape = [None, 100])"
   ]
  },
  {
   "cell_type": "markdown",
   "metadata": {},
   "source": [
    "Define the weight matrices"
   ]
  },
  {
   "cell_type": "code",
   "execution_count": 7,
   "metadata": {},
   "outputs": [],
   "source": [
    "#Defining the weights of 2 hidden layers and output layer\n",
    "w1 = tf.Variable(tf.truncated_normal([3072, 1024], stddev = 0.1))\n",
    "w2 = tf.Variable(tf.truncated_normal([1024, 512], stddev = 0.1))\n",
    "w3 = tf.Variable(tf.truncated_normal([512, 256], stddev = 0.1))\n",
    "w4 = tf.Variable(tf.truncated_normal([256, 128], stddev = 0.1))\n",
    "w5 = tf.Variable(tf.truncated_normal([128, 100], stddev = 0.1))"
   ]
  },
  {
   "cell_type": "markdown",
   "metadata": {},
   "source": [
    "Define the bias "
   ]
  },
  {
   "cell_type": "code",
   "execution_count": 8,
   "metadata": {},
   "outputs": [],
   "source": [
    "#Defining the bias of 2 hidden layers and output layer\n",
    "b1 = tf.Variable(tf.constant(0, shape = [1024], dtype = tf.float32))\n",
    "b2 = tf.Variable(tf.constant(0, shape = [512], dtype = tf.float32))\n",
    "b3 = tf.Variable(tf.constant(0, shape = [256], dtype = tf.float32))\n",
    "b4 = tf.Variable(tf.constant(0, shape = [128], dtype = tf.float32))\n",
    "b5 = tf.Variable(tf.constant(0, shape = [100], dtype = tf.float32))"
   ]
  },
  {
   "cell_type": "markdown",
   "metadata": {},
   "source": [
    "Setup the model flow"
   ]
  },
  {
   "cell_type": "code",
   "execution_count": 9,
   "metadata": {},
   "outputs": [
    {
     "name": "stdout",
     "output_type": "stream",
     "text": [
      "WARNING:tensorflow:From <ipython-input-9-a4b3a8dd186f>:5: calling dropout (from tensorflow.python.ops.nn_ops) with keep_prob is deprecated and will be removed in a future version.\n",
      "Instructions for updating:\n",
      "Please use `rate` instead of `keep_prob`. Rate should be set to `rate = 1 - keep_prob`.\n"
     ]
    }
   ],
   "source": [
    "#Setting the flow -> Input -> L1 -> A1 -> L2 -> A2 -> L3 -> A3 -> L4 -> A4 -> Output\n",
    "A1 = tf.nn.relu(tf.matmul(X, w1) + b1)\n",
    "A2 = tf.nn.relu(tf.matmul(A1, w2) + b2)\n",
    "A3 = tf.nn.relu(tf.matmul(A2, w3) + b3)\n",
    "drop_1 = tf.nn.dropout(A3, 0.5)\n",
    "A4 = tf.nn.relu(tf.matmul(A3, w4) + b4)\n",
    "drop_2 = tf.nn.dropout(A4, 0.5)\n",
    "Yhat = tf.nn.softmax(tf.matmul(A4, w5) + b5)"
   ]
  },
  {
   "cell_type": "markdown",
   "metadata": {},
   "source": [
    "Define the cost function"
   ]
  },
  {
   "cell_type": "code",
   "execution_count": 10,
   "metadata": {},
   "outputs": [
    {
     "name": "stdout",
     "output_type": "stream",
     "text": [
      "WARNING:tensorflow:From <ipython-input-10-daed0c9d06f0>:2: softmax_cross_entropy_with_logits (from tensorflow.python.ops.nn_ops) is deprecated and will be removed in a future version.\n",
      "Instructions for updating:\n",
      "\n",
      "Future major versions of TensorFlow will allow gradients to flow\n",
      "into the labels input on backprop by default.\n",
      "\n",
      "See `tf.nn.softmax_cross_entropy_with_logits_v2`.\n",
      "\n"
     ]
    }
   ],
   "source": [
    "#Cost function definition, using the softmax cross entropy loss\n",
    "cross_entropy = tf.reduce_mean(tf.nn.softmax_cross_entropy_with_logits(logits = Yhat, labels = Y))"
   ]
  },
  {
   "cell_type": "markdown",
   "metadata": {},
   "source": [
    "Metrics to check predictions"
   ]
  },
  {
   "cell_type": "code",
   "execution_count": 11,
   "metadata": {},
   "outputs": [],
   "source": [
    "#To verify the predictions\n",
    "pred = tf.equal(tf.argmax(Yhat, 1), tf.argmax(Y, 1))\n",
    "accuracy = tf.reduce_mean(tf.cast(pred, tf.float32))"
   ]
  },
  {
   "cell_type": "markdown",
   "metadata": {},
   "source": [
    "Put it all together"
   ]
  },
  {
   "cell_type": "code",
   "execution_count": 12,
   "metadata": {},
   "outputs": [
    {
     "name": "stdout",
     "output_type": "stream",
     "text": [
      "WARNING:tensorflow:From C:\\Users\\Pranav\\anaconda3\\lib\\site-packages\\tensorflow\\python\\training\\rmsprop.py:123: calling Ones.__init__ (from tensorflow.python.ops.init_ops) with dtype is deprecated and will be removed in a future version.\n",
      "Instructions for updating:\n",
      "Call initializer instance with the dtype argument instead of passing it to the constructor\n"
     ]
    }
   ],
   "source": [
    "#Setup the optimizer function with learning rate as parameter\n",
    "train_step = tf.train.RMSPropOptimizer(learning_rate).minimize(cross_entropy)"
   ]
  },
  {
   "cell_type": "markdown",
   "metadata": {},
   "source": [
    "Instantiate the tensorflow global variables -> Graph"
   ]
  },
  {
   "cell_type": "code",
   "execution_count": 13,
   "metadata": {},
   "outputs": [],
   "source": [
    "#Initialize the Tensorflow Session and global varibales (Get it ready to spawn a Computational Graph)\n",
    "init = tf.global_variables_initializer()\n",
    "sess = tf.Session()\n",
    "sess.run(init)"
   ]
  },
  {
   "cell_type": "markdown",
   "metadata": {},
   "source": [
    "Let's train for 40000 iterations"
   ]
  },
  {
   "cell_type": "code",
   "execution_count": 14,
   "metadata": {},
   "outputs": [
    {
     "name": "stderr",
     "output_type": "stream",
     "text": [
      "C:\\Users\\Pranav\\anaconda3\\lib\\site-packages\\ipykernel_launcher.py:2: DeprecationWarning: time.clock has been deprecated in Python 3.3 and will be removed from Python 3.8: use time.perf_counter or time.process_time instead\n",
      "  \n"
     ]
    },
    {
     "name": "stdout",
     "output_type": "stream",
     "text": [
      "Iteration = 0\n",
      "Loss = 4.613461494445801\n",
      "Accuracy = 0.00390625\n",
      "\n",
      "Iteration = 2000\n",
      "Loss = 4.5521650314331055\n",
      "Accuracy = 0.0703125\n",
      "\n",
      "Iteration = 4000\n",
      "Loss = 4.5307769775390625\n",
      "Accuracy = 0.08984375\n",
      "\n",
      "Iteration = 6000\n",
      "Loss = 4.5356764793396\n",
      "Accuracy = 0.0859375\n",
      "\n",
      "Iteration = 8000\n",
      "Loss = 4.514364242553711\n",
      "Accuracy = 0.109375\n",
      "\n",
      "Iteration = 10000\n",
      "Loss = 4.458442211151123\n",
      "Accuracy = 0.1640625\n",
      "\n",
      "Iteration = 12000\n",
      "Loss = 4.486967086791992\n",
      "Accuracy = 0.1328125\n",
      "\n",
      "Iteration = 14000\n",
      "Loss = 4.479709148406982\n",
      "Accuracy = 0.140625\n",
      "\n",
      "Iteration = 16000\n",
      "Loss = 4.47107458114624\n",
      "Accuracy = 0.15234375\n",
      "\n",
      "Iteration = 18000\n",
      "Loss = 4.498745441436768\n",
      "Accuracy = 0.12109375\n",
      "\n",
      "Iteration = 20000\n",
      "Loss = 4.429722785949707\n",
      "Accuracy = 0.19140625\n",
      "\n",
      "Iteration = 22000\n",
      "Loss = 4.459412574768066\n",
      "Accuracy = 0.1640625\n",
      "\n",
      "Iteration = 24000\n",
      "Loss = 4.470415115356445\n",
      "Accuracy = 0.15234375\n",
      "\n",
      "Iteration = 26000\n",
      "Loss = 4.4534735679626465\n",
      "Accuracy = 0.16796875\n",
      "\n",
      "Iteration = 28000\n",
      "Loss = 4.462644100189209\n",
      "Accuracy = 0.15625\n",
      "\n",
      "Iteration = 30000\n",
      "Loss = 4.445807456970215\n",
      "Accuracy = 0.17578125\n",
      "\n",
      "Iteration = 32000\n",
      "Loss = 4.424723148345947\n",
      "Accuracy = 0.19921875\n",
      "\n",
      "Iteration = 34000\n",
      "Loss = 4.42189359664917\n",
      "Accuracy = 0.19921875\n",
      "\n",
      "Iteration = 36000\n",
      "Loss = 4.436164855957031\n",
      "Accuracy = 0.1875\n",
      "\n",
      "Iteration = 38000\n",
      "Loss = 4.406251907348633\n",
      "Accuracy = 0.21484375\n",
      "\n",
      "Iteration = 40000\n",
      "Loss = 4.447113990783691\n",
      "Accuracy = 0.17578125\n",
      "\n",
      "Time Elapsed = 2476.993623 \n",
      "\n"
     ]
    },
    {
     "name": "stderr",
     "output_type": "stream",
     "text": [
      "C:\\Users\\Pranav\\anaconda3\\lib\\site-packages\\ipykernel_launcher.py:25: DeprecationWarning: time.clock has been deprecated in Python 3.3 and will be removed from Python 3.8: use time.perf_counter or time.process_time instead\n"
     ]
    },
    {
     "name": "stdout",
     "output_type": "stream",
     "text": [
      "Accuracy on Test Set is 0.09669999778270721\n"
     ]
    }
   ],
   "source": [
    "#Run the for-loop for a well defined number of epochs\n",
    "s = time.clock()\n",
    "loss = []\n",
    "accuracy1 = []\n",
    "\n",
    "for i in range(iterations + 1):\n",
    "\n",
    "    X_train1, Y_train1 = next_batch(256, X_train, Y_train)\n",
    "\n",
    "    #Generate the Computational Graph and train the network\n",
    "    sess.run(train_step, feed_dict={X: X_train1, Y: Y_train1})\n",
    "\n",
    "    #Print step and cost values at end of every 100th step\n",
    "    if i % 2000 == 0:\n",
    "        minibatch_loss, minibatch_accuracy = sess.run([cross_entropy, accuracy], feed_dict={X: X_train1, Y: Y_train1})\n",
    "\n",
    "        print('Iteration = {}'.format(i))\n",
    "        print('Loss = {}'.format(minibatch_loss))\n",
    "        print('Accuracy = {}\\n'.format(minibatch_accuracy))\n",
    "\n",
    "        loss.append(minibatch_loss)\n",
    "        accuracy1.append(minibatch_accuracy)\n",
    "\n",
    "\n",
    "e = time.clock()\n",
    "\n",
    "print('Time Elapsed = {} \\n'.format(e-s))\n",
    "\n",
    "#Calculate and print the test accuracy\n",
    "test_accuracy = sess.run(accuracy, feed_dict={X: X_test, Y: Y_test})\n",
    "print('Accuracy on Test Set is {}'.format(test_accuracy))"
   ]
  },
  {
   "cell_type": "markdown",
   "metadata": {},
   "source": [
    "Plotting the graphs - Accuracy & Loss"
   ]
  },
  {
   "cell_type": "code",
   "execution_count": 15,
   "metadata": {},
   "outputs": [
    {
     "data": {
      "image/png": "[encoded data removed]",
      "text/plain": [
       "<Figure size 432x288 with 1 Axes>"
      ]
     },
     "metadata": {
      "needs_background": "light"
     },
     "output_type": "display_data"
    }
   ],
   "source": [
    "#Loss Graph\n",
    "iterations = np.arange(0, 40001, 2000)\n",
    "plt.plot(iterations, loss, label = 'Training Loss')\n",
    "plt.title('Loss graph')\n",
    "plt.xlabel('Epochs')\n",
    "plt.xticks(np.arange(0, 40001, 2000))\n",
    "plt.ylabel('Loss')\n",
    "plt.legend()\n",
    "plt.show()"
   ]
  },
  {
   "cell_type": "code",
   "execution_count": 16,
   "metadata": {},
   "outputs": [
    {
     "data": {
      "image/png": "[encoded data removed]",
      "text/plain": [
       "<Figure size 432x288 with 1 Axes>"
      ]
     },
     "metadata": {
      "needs_background": "light"
     },
     "output_type": "display_data"
    }
   ],
   "source": [
    "#Accuracy Graph\n",
    "iterations = np.arange(0, 40001, 2000)\n",
    "plt.plot(iterations, accuracy1, label = 'Training Accuracy')\n",
    "plt.title('Accuracy graph')\n",
    "plt.xlabel('Epochs')\n",
    "plt.xticks(np.arange(0, 40001, 2000))\n",
    "plt.ylabel('Accuracy')\n",
    "plt.legend()\n",
    "plt.show()"
   ]
  },
  {
   "cell_type": "markdown",
   "metadata": {},
   "source": [
    "Real Time Predictions"
   ]
  },
  {
   "cell_type": "code",
   "execution_count": 28,
   "metadata": {},
   "outputs": [],
   "source": [
    "#User defined function for making predictions\n",
    "def predict(index):\n",
    "    '''\n",
    "    Input - Number, which is treated as an index pointing to data in test set\n",
    "    Returns - None\n",
    "\n",
    "    Output - Predictions with display of the test Image  \n",
    "    '''\n",
    "    labels = ['Airplane', 'Automobile', 'Bird', 'Cat', 'Deer', 'Dog', 'Frog', 'Horse', 'Ship', 'Truck']\n",
    "\n",
    "    \n",
    "    a = sess.run(tf.argmax(Yhat, 1), feed_dict={X: [X_test[index]]})\n",
    "    #print('Model Prediction is {}'.format(labels[a[0]]))\n",
    "    print(a)\n",
    "    #print('Ground Truth is {}'.format(labels[np.argmax(Y_test[index])]))\n",
    "    print(np.argmax(Y_test[index]))\n",
    "\n",
    "\n",
    "    plt.imshow(X_test[index].reshape(32, 32, 3))"
   ]
  },
  {
   "cell_type": "code",
   "execution_count": 29,
   "metadata": {},
   "outputs": [
    {
     "name": "stdout",
     "output_type": "stream",
     "text": [
      "[1]\n",
      "71\n"
     ]
    },
    {
     "data": {
      "image/png": "[encoded data removed]",
      "text/plain": [
       "<Figure size 432x288 with 1 Axes>"
      ]
     },
     "metadata": {
      "needs_background": "light"
     },
     "output_type": "display_data"
    }
   ],
   "source": [
    "predict(10)"
   ]
  },
  {
   "cell_type": "code",
   "execution_count": 30,
   "metadata": {},
   "outputs": [
    {
     "name": "stdout",
     "output_type": "stream",
     "text": [
      "[4]\n",
      "4\n"
     ]
    },
    {
     "data": {
      "image/png": "[encoded data removed]",
      "text/plain": [
       "<Figure size 432x288 with 1 Axes>"
      ]
     },
     "metadata": {
      "needs_background": "light"
     },
     "output_type": "display_data"
    }
   ],
   "source": [
    "predict(50)"
   ]
  },
  {
   "cell_type": "code",
   "execution_count": 31,
   "metadata": {},
   "outputs": [
    {
     "name": "stdout",
     "output_type": "stream",
     "text": [
      "[74]\n",
      "50\n"
     ]
    },
    {
     "data": {
      "image/png": "[encoded data removed]",
      "text/plain": [
       "<Figure size 432x288 with 1 Axes>"
      ]
     },
     "metadata": {
      "needs_background": "light"
     },
     "output_type": "display_data"
    }
   ],
   "source": [
    "predict(1500)"
   ]
  }
 ],
 "metadata": {
  "kernelspec": {
   "display_name": "Python 3",
   "language": "python",
   "name": "python3"
  },
  "language_info": {
   "codemirror_mode": {
    "name": "ipython",
    "version": 3
   },
   "file_extension": ".py",
   "mimetype": "text/x-python",
   "name": "python",
   "nbconvert_exporter": "python",
   "pygments_lexer": "ipython3",
   "version": "3.7.6"
  }
 },
 "nbformat": 4,
 "nbformat_minor": 4
}
