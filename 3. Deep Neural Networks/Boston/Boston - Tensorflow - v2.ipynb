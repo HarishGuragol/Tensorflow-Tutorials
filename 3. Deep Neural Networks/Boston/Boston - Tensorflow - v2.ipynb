{
 "cells": [
  {
   "cell_type": "markdown",
   "metadata": {},
   "source": [
    "Import packages and modules"
   ]
  },
  {
   "cell_type": "code",
   "execution_count": 1,
   "metadata": {},
   "outputs": [],
   "source": [
    "#Import packages\n",
    "\n",
    "import numpy as np\n",
    "import tensorflow as tf\n",
    "import matplotlib.pyplot as plt\n",
    "from sklearn.preprocessing import scale\n",
    "from sklearn.datasets import load_boston"
   ]
  },
  {
   "cell_type": "markdown",
   "metadata": {},
   "source": [
    "Load the Boston Housing Dataset"
   ]
  },
  {
   "cell_type": "code",
   "execution_count": 2,
   "metadata": {},
   "outputs": [],
   "source": [
    "features, prices = load_boston(return_X_y = True)"
   ]
  },
  {
   "cell_type": "markdown",
   "metadata": {},
   "source": [
    "Define Hyperparameters & Data Info"
   ]
  },
  {
   "cell_type": "code",
   "execution_count": 3,
   "metadata": {},
   "outputs": [],
   "source": [
    "learning_rate = 0.001\n",
    "epochs = 20000"
   ]
  },
  {
   "cell_type": "markdown",
   "metadata": {},
   "source": [
    "Data Preparation"
   ]
  },
  {
   "cell_type": "code",
   "execution_count": 4,
   "metadata": {},
   "outputs": [],
   "source": [
    "#Training samples\n",
    "#Scale is used to convert data into zero mean and unit std dev\n",
    "train_features = tf.cast(scale(features[ : 350]), dtype = tf.float32)\n",
    "train_prices = prices[ : 350]\n",
    "\n",
    "#Validation samples\n",
    "#Scale is used to convert data into zero mean and unit std dev\n",
    "valid_features = tf.cast(scale(features[350 : 450]), dtype = tf.float32)\n",
    "valid_prices = prices[350 : 450]\n",
    "\n",
    "#Testing samples\n",
    "#Scale is used to convert data into zero mean and unit std dev\n",
    "test_features = tf.cast(scale(features[450 : ]), dtype = tf.float32)\n",
    "test_prices = prices[450 : ]"
   ]
  },
  {
   "cell_type": "markdown",
   "metadata": {},
   "source": [
    "Forward pass of the model"
   ]
  },
  {
   "cell_type": "code",
   "execution_count": 5,
   "metadata": {},
   "outputs": [],
   "source": [
    "#Function to make a forward passs\n",
    "def forward_pass(x, weights, bias):\n",
    "    return tf.add(tf.matmul(x, weights), bias)"
   ]
  },
  {
   "cell_type": "markdown",
   "metadata": {},
   "source": [
    "Define the cost function"
   ]
  },
  {
   "cell_type": "code",
   "execution_count": 6,
   "metadata": {},
   "outputs": [],
   "source": [
    "#Cost function definition - R-MSE\n",
    "def loss(x, y, weights, bias):\n",
    "    \n",
    "    #Calculate Loss and R-MSE\n",
    "    squared_error = tf.square(forward_pass(x, weights, bias) - y )\n",
    "    return tf.sqrt(tf.reduce_mean(squared_error))"
   ]
  },
  {
   "cell_type": "markdown",
   "metadata": {},
   "source": [
    "Put it all together"
   ]
  },
  {
   "cell_type": "code",
   "execution_count": 7,
   "metadata": {},
   "outputs": [],
   "source": [
    "# Find the derivative of loss with respect to weight and bias\n",
    "def gradient(x, y, weights, bias):\n",
    "    \n",
    "    with tf.GradientTape() as tape:\n",
    "        loss_value = loss(x, y, weights, bias)\n",
    "    return tape.gradient(loss_value, [weights, bias])# direction and value ofthe gradient of our weight and bias"
   ]
  },
  {
   "cell_type": "markdown",
   "metadata": {},
   "source": [
    "Initialize the Weights and Bias"
   ]
  },
  {
   "cell_type": "code",
   "execution_count": 8,
   "metadata": {},
   "outputs": [
    {
     "name": "stdout",
     "output_type": "stream",
     "text": [
      "Initial loss: 26.92583465576172\n"
     ]
    }
   ],
   "source": [
    "#Initialize W and B for the network\n",
    "W = tf.Variable(tf.random.normal([13, 1], mean = 1.0, stddev = 1.0, dtype = tf.float32))\n",
    "B = tf.Variable(tf.zeros(1) , dtype = tf.float32)\n",
    "#print(W,B)\n",
    "print(\"Initial loss: {}\".format(loss(train_features, train_prices, W, B)))"
   ]
  },
  {
   "cell_type": "markdown",
   "metadata": {},
   "source": [
    "Training Loop"
   ]
  },
  {
   "cell_type": "code",
   "execution_count": 9,
   "metadata": {},
   "outputs": [
    {
     "name": "stdout",
     "output_type": "stream",
     "text": [
      "Validation Loss after Epoch 0: 19.271181106567383\n",
      "Validation Loss after Epoch 1000: 18.365365982055664\n",
      "Validation Loss after Epoch 2000: 17.50364875793457\n",
      "Validation Loss after Epoch 3000: 16.682329177856445\n",
      "Validation Loss after Epoch 4000: 15.899077415466309\n",
      "Validation Loss after Epoch 5000: 15.152819633483887\n",
      "Validation Loss after Epoch 6000: 14.44364070892334\n",
      "Validation Loss after Epoch 7000: 13.772659301757812\n",
      "Validation Loss after Epoch 8000: 13.141918182373047\n",
      "Validation Loss after Epoch 9000: 12.554231643676758\n",
      "Validation Loss after Epoch 10000: 12.013050079345703\n",
      "Validation Loss after Epoch 11000: 11.522195816040039\n",
      "Validation Loss after Epoch 12000: 11.085672378540039\n",
      "Validation Loss after Epoch 13000: 10.707282066345215\n",
      "Validation Loss after Epoch 14000: 10.390276908874512\n",
      "Validation Loss after Epoch 15000: 10.136938095092773\n",
      "Validation Loss after Epoch 16000: 9.948180198669434\n",
      "Validation Loss after Epoch 17000: 9.823258399963379\n",
      "Validation Loss after Epoch 18000: 9.759601593017578\n",
      "Validation Loss after Epoch 19000: 9.75284481048584\n",
      "Validation Loss after Epoch 20000: 9.7970609664917\n"
     ]
    }
   ],
   "source": [
    "l = []\n",
    "a = []\n",
    "for i in range(epochs+1): #iterate for each training epoch\n",
    "    \n",
    "    #Calculate gradients\n",
    "    deltaW, deltaB = gradient(train_features, train_prices, W, B) \n",
    "    \n",
    "    #Wieght update and bias update\n",
    "    change_W = deltaW * learning_rate \n",
    "    change_B = deltaB * learning_rate \n",
    "    \n",
    "    #Make changes to the values according to the gradients and learning rate\n",
    "    W.assign_sub(change_W) # subract from W\n",
    "    B.assign_sub(change_B) # subract from B\n",
    "    \n",
    "    #Printing loss information\n",
    "    if i % 1000 == 0:\n",
    "        l.append(loss(train_features, valid_prices, W, B))\n",
    "        print(\"Validation Loss after Epoch {}: {}\".format(i, loss(valid_features, valid_prices, W, B)))"
   ]
  },
  {
   "cell_type": "markdown",
   "metadata": {},
   "source": [
    "Plot Loss Graphs"
   ]
  },
  {
   "cell_type": "code",
   "execution_count": 10,
   "metadata": {},
   "outputs": [
    {
     "data": {
      "text/plain": [
       "[]"
      ]
     },
     "execution_count": 10,
     "metadata": {},
     "output_type": "execute_result"
    },
    {
     "data": {
      "image/png": "[encoded data removed]",
      "text/plain": [
       "<Figure size 432x288 with 1 Axes>"
      ]
     },
     "metadata": {
      "needs_background": "light"
     },
     "output_type": "display_data"
    }
   ],
   "source": [
    "iterations = np.arange(0, 20001, 1000)\n",
    "plt.plot(iterations, l, label = 'Training Loss')\n",
    "plt.title('Loss Graph')\n",
    "plt.xlabel('Epochs')\n",
    "plt.xticks(np.arange(0, 20001, 1000))\n",
    "plt.ylabel('Loss')\n",
    "plt.legend()\n",
    "plt.plot()"
   ]
  },
  {
   "cell_type": "markdown",
   "metadata": {},
   "source": [
    "Real time predictions"
   ]
  },
  {
   "cell_type": "code",
   "execution_count": 11,
   "metadata": {},
   "outputs": [],
   "source": [
    "def predictions(index):\n",
    "    '''\n",
    "    \n",
    "    '''\n",
    "\n",
    "    example_house = index\n",
    "    y = test_prices[example_house]\n",
    "    y_pred = forward_pass(test_features,W.numpy(),B.numpy())[example_house]\n",
    "    print('Actual median house value is {} (in $10k)'.format(y))\n",
    "    print('Predicted median house value is {} (in $10k)'.format(y_pred))"
   ]
  },
  {
   "cell_type": "code",
   "execution_count": 12,
   "metadata": {},
   "outputs": [
    {
     "name": "stdout",
     "output_type": "stream",
     "text": [
      "Actual median house value is 19.9 (in $10k)\n",
      "Predicted median house value is [18.767366] (in $10k)\n"
     ]
    }
   ],
   "source": [
    "predictions(20)"
   ]
  },
  {
   "cell_type": "code",
   "execution_count": 13,
   "metadata": {},
   "outputs": [
    {
     "name": "stdout",
     "output_type": "stream",
     "text": [
      "Actual median house value is 21.2 (in $10k)\n",
      "Predicted median house value is [19.115408] (in $10k)\n"
     ]
    }
   ],
   "source": [
    "predictions(35)"
   ]
  }
 ],
 "metadata": {
  "kernelspec": {
   "display_name": "Python 3",
   "language": "python",
   "name": "python3"
  },
  "language_info": {
   "codemirror_mode": {
    "name": "ipython",
    "version": 3
   },
   "file_extension": ".py",
   "mimetype": "text/x-python",
   "name": "python",
   "nbconvert_exporter": "python",
   "pygments_lexer": "ipython3",
   "version": "3.7.6"
  }
 },
 "nbformat": 4,
 "nbformat_minor": 4
}
