{
 "cells": [
  {
   "cell_type": "markdown",
   "metadata": {},
   "source": [
    "Import packages "
   ]
  },
  {
   "cell_type": "code",
   "execution_count": 1,
   "metadata": {},
   "outputs": [],
   "source": [
    "#Importing packages\n",
    "import time\n",
    "import numpy as np\n",
    "import tensorflow as tf\n",
    "from tensorflow.keras import Model, layers\n",
    "from tensorflow.keras.datasets import mnist"
   ]
  },
  {
   "cell_type": "markdown",
   "metadata": {},
   "source": [
    "Load MNIST Data"
   ]
  },
  {
   "cell_type": "code",
   "execution_count": 2,
   "metadata": {},
   "outputs": [],
   "source": [
    "#MNIST Dataset has 70000 instances of hand written digits from 0-9, each image size is 28*28\n",
    "(x_train, y_train), (x_test, y_test) = mnist.load_data()"
   ]
  },
  {
   "cell_type": "markdown",
   "metadata": {},
   "source": [
    "Define the Hyperparameter & Data info"
   ]
  },
  {
   "cell_type": "code",
   "execution_count": 3,
   "metadata": {},
   "outputs": [],
   "source": [
    "#Learning Rate, Iterations, Batch Size Hyperparameters\n",
    "learning_rate = 0.001\n",
    "iterations = 10000\n",
    "batch_size = 128\n",
    "#dropout = 0.5\n",
    "#epochs = 10"
   ]
  },
  {
   "cell_type": "markdown",
   "metadata": {},
   "source": [
    "Data Preparation"
   ]
  },
  {
   "cell_type": "code",
   "execution_count": 4,
   "metadata": {},
   "outputs": [],
   "source": [
    "#Get the data ready for training\n",
    "#Convert to Float\n",
    "x_train, x_test = np.array(x_train, np.float32), np.array(x_test, np.float32)\n",
    "\n",
    "#Flatten images to 1-D vector of 784 features (28*28).\n",
    "x_train, x_test = x_train.reshape([-1, 784]), x_test.reshape([-1, 784])\n",
    "\n",
    "#Normalize images value from [0, 255] to [0, 1].\n",
    "x_train = x_train / 255.\n",
    "x_test =  x_test / 255.\n",
    "\n",
    "#Use Tensorflow data for shuffling and fetching it batchwise\n",
    "train_data = tf.data.Dataset.from_tensor_slices((x_train, y_train))\n",
    "train_data = train_data.repeat().shuffle(5000).batch(batch_size).prefetch(1)"
   ]
  },
  {
   "cell_type": "markdown",
   "metadata": {},
   "source": [
    "Define the model"
   ]
  },
  {
   "cell_type": "code",
   "execution_count": 5,
   "metadata": {},
   "outputs": [],
   "source": [
    "class NeuralNet(Model):\n",
    "    \n",
    "    def __init__(self):\n",
    "        super(NeuralNet, self).__init__()\n",
    "        self.L1 = layers.Dense(512, activation=tf.nn.relu)\n",
    "        self.L2 = layers.Dense(256, activation=tf.nn.relu)\n",
    "        self.Yhat = layers.Dense(10)\n",
    "\n",
    "    # Set forward pass.\n",
    "    def call(self, x, is_training=False):\n",
    "        x = self.L1(x)\n",
    "        x = self.L2(x)\n",
    "        x = self.Yhat(x)\n",
    "        if not is_training:\n",
    "            x = tf.nn.softmax(x)\n",
    "        return x\n",
    "\n",
    "# Build the network\n",
    "model = NeuralNet()"
   ]
  },
  {
   "cell_type": "markdown",
   "metadata": {},
   "source": [
    "Define the cost function"
   ]
  },
  {
   "cell_type": "code",
   "execution_count": 6,
   "metadata": {},
   "outputs": [],
   "source": [
    "#Cost function definition, using the softmax cross entropy loss\n",
    "def cross_entropy(y_pred, y_true):\n",
    "    \n",
    "    y_true = tf.cast(y_true, tf.int64)\n",
    "    loss = tf.nn.sparse_softmax_cross_entropy_with_logits(labels = y_true, logits = y_pred)\n",
    "    \n",
    "    return tf.reduce_mean(loss)"
   ]
  },
  {
   "cell_type": "markdown",
   "metadata": {},
   "source": [
    "Metrics to check predictions"
   ]
  },
  {
   "cell_type": "code",
   "execution_count": 7,
   "metadata": {},
   "outputs": [],
   "source": [
    "#To verify the predictions\n",
    "def accuracy(y_pred, y_true):\n",
    "    \n",
    "    correct_prediction = tf.equal(tf.argmax(y_pred, 1), tf.cast(y_true, tf.int64))\n",
    "    a = tf.reduce_mean(tf.cast(correct_prediction, tf.float32), axis=-1)\n",
    "    \n",
    "    return a"
   ]
  },
  {
   "cell_type": "markdown",
   "metadata": {},
   "source": [
    "Define the optimizer"
   ]
  },
  {
   "cell_type": "code",
   "execution_count": 8,
   "metadata": {},
   "outputs": [],
   "source": [
    "#Setup the optimizer function with learning rate as parameter\n",
    "optimizer = tf.optimizers.Adam(learning_rate)"
   ]
  },
  {
   "cell_type": "markdown",
   "metadata": {},
   "source": [
    "Put it all together (Optimization of the network)"
   ]
  },
  {
   "cell_type": "code",
   "execution_count": 9,
   "metadata": {},
   "outputs": [],
   "source": [
    "def run(X, Y):\n",
    "    \n",
    "    #Using GradientTape for automatic differentiation.\n",
    "    with tf.GradientTape() as tape:\n",
    "        pred = model(X, is_training = True)\n",
    "        loss = cross_entropy(pred, Y)\n",
    "        \n",
    "    #Get W and B values \n",
    "    train_variables = model.trainable_variables\n",
    "\n",
    "    #Compute gradients.\n",
    "    gradients = tape.gradient(loss, train_variables)\n",
    "    \n",
    "    #Update W and b following gradients\n",
    "    optimizer.apply_gradients(zip(gradients, train_variables))"
   ]
  },
  {
   "cell_type": "markdown",
   "metadata": {},
   "source": [
    "Let's train for 10000 iterations"
   ]
  },
  {
   "cell_type": "code",
   "execution_count": 10,
   "metadata": {},
   "outputs": [
    {
     "name": "stderr",
     "output_type": "stream",
     "text": [
      "C:\\Users\\Pranav\\anaconda3\\lib\\site-packages\\ipykernel_launcher.py:3: DeprecationWarning: time.clock has been deprecated in Python 3.3 and will be removed from Python 3.8: use time.perf_counter or time.process_time instead\n",
      "  This is separate from the ipykernel package so we can avoid doing imports until\n"
     ]
    },
    {
     "name": "stdout",
     "output_type": "stream",
     "text": [
      "Iteration = 1000\n",
      "Loss = 0.06946130096912384\n",
      "Accuracy = 0.984375\n",
      "\n",
      "Iteration = 2000\n",
      "Loss = 0.008638694882392883\n",
      "Accuracy = 0.9921875\n",
      "\n",
      "Iteration = 3000\n",
      "Loss = 0.020035140216350555\n",
      "Accuracy = 0.9921875\n",
      "\n",
      "Iteration = 4000\n",
      "Loss = 0.0044181132689118385\n",
      "Accuracy = 1.0\n",
      "\n",
      "Iteration = 5000\n",
      "Loss = 0.0002931443741545081\n",
      "Accuracy = 1.0\n",
      "\n",
      "Iteration = 6000\n",
      "Loss = 0.0014590175123885274\n",
      "Accuracy = 1.0\n",
      "\n",
      "Iteration = 7000\n",
      "Loss = 0.0024525087792426348\n",
      "Accuracy = 1.0\n",
      "\n",
      "Iteration = 8000\n",
      "Loss = 0.003576713614165783\n",
      "Accuracy = 1.0\n",
      "\n",
      "Iteration = 9000\n",
      "Loss = 0.004570917226374149\n",
      "Accuracy = 1.0\n",
      "\n",
      "Iteration = 10000\n",
      "Loss = 0.00015167002857197076\n",
      "Accuracy = 1.0\n",
      "\n",
      "Time Elapsed = 310.32506750000005 \n",
      "\n"
     ]
    },
    {
     "name": "stderr",
     "output_type": "stream",
     "text": [
      "C:\\Users\\Pranav\\anaconda3\\lib\\site-packages\\ipykernel_launcher.py:22: DeprecationWarning: time.clock has been deprecated in Python 3.3 and will be removed from Python 3.8: use time.perf_counter or time.process_time instead\n"
     ]
    },
    {
     "name": "stdout",
     "output_type": "stream",
     "text": [
      "Accuracy on Test Set is 0.9850999712944031\n"
     ]
    }
   ],
   "source": [
    "#Run the for-loop for a well defined number of epochs\n",
    "\n",
    "s = time.clock()\n",
    "loss_plot = []\n",
    "accuracy_plot = []\n",
    "\n",
    "for i, (Batch_x, Batch_y) in enumerate(train_data.take(10001), 1):\n",
    "    # Run the optimization to update W and b values.\n",
    "    run(Batch_x, Batch_y)\n",
    "    \n",
    "    if i % 1000 == 0:\n",
    "        pred = model(Batch_x, is_training = True)\n",
    "        loss = cross_entropy(pred, Batch_y)\n",
    "        acc = accuracy(pred, Batch_y)\n",
    "        print('Iteration = {}'.format(i))\n",
    "        print('Loss = {}'.format(loss))\n",
    "        print('Accuracy = {}\\n'.format(acc))\n",
    "        \n",
    "        loss_plot.append(loss)\n",
    "        accuracy_plot.append(acc)\n",
    "        \n",
    "e = time.clock()\n",
    "\n",
    "print('Time Elapsed = {} \\n'.format(e-s))\n",
    "\n",
    "pred = model(x_test, is_training = False)\n",
    "test_accuracy = accuracy(pred, y_test)\n",
    "print('Accuracy on Test Set is {}'.format(test_accuracy))"
   ]
  },
  {
   "cell_type": "markdown",
   "metadata": {},
   "source": [
    "Plotting the graph"
   ]
  },
  {
   "cell_type": "code",
   "execution_count": 11,
   "metadata": {},
   "outputs": [
    {
     "data": {
      "image/png": "[encoded data removed]",
      "text/plain": [
       "<Figure size 432x288 with 1 Axes>"
      ]
     },
     "metadata": {
      "needs_background": "light"
     },
     "output_type": "display_data"
    }
   ],
   "source": [
    "import matplotlib.pyplot as plt\n",
    "import numpy as np\n",
    "\n",
    "iterations = np.arange(1000, 10001, 1000)\n",
    "plt.plot(iterations, loss_plot, label = 'Training Loss')\n",
    "plt.title('Loss graph')\n",
    "plt.xlabel('Epochs')\n",
    "plt.xticks(np.arange(1000, 10001, 1000))\n",
    "plt.ylabel('Loss')\n",
    "plt.legend()\n",
    "plt.show()"
   ]
  },
  {
   "cell_type": "code",
   "execution_count": 12,
   "metadata": {},
   "outputs": [
    {
     "data": {
      "image/png": "[encoded data removed]",
      "text/plain": [
       "<Figure size 432x288 with 1 Axes>"
      ]
     },
     "metadata": {
      "needs_background": "light"
     },
     "output_type": "display_data"
    }
   ],
   "source": [
    "iterations = np.arange(1000, 10001, 1000)\n",
    "plt.plot(iterations, accuracy_plot, label = 'Training Accuracy')\n",
    "plt.title('Accuracy graph')\n",
    "plt.xlabel('Epochs')\n",
    "plt.xticks(np.arange(1000, 10001, 1000))\n",
    "plt.ylabel('Accuracy')\n",
    "plt.legend()\n",
    "plt.show()"
   ]
  },
  {
   "cell_type": "markdown",
   "metadata": {},
   "source": [
    "Real Time Predictions"
   ]
  },
  {
   "cell_type": "code",
   "execution_count": 13,
   "metadata": {},
   "outputs": [],
   "source": [
    "#Import required packages\n",
    "import numpy as np\n",
    "from PIL import Image"
   ]
  },
  {
   "cell_type": "code",
   "execution_count": 14,
   "metadata": {},
   "outputs": [],
   "source": [
    "#Loading, converting and flattening an image for prediction\n",
    "img = np.invert(Image.open('test_img.png').convert('L')).ravel()\n",
    "img = img.reshape(1, 784)"
   ]
  },
  {
   "cell_type": "code",
   "execution_count": 15,
   "metadata": {},
   "outputs": [
    {
     "name": "stdout",
     "output_type": "stream",
     "text": [
      "(1, 784)\n",
      "Actual Ground Truth is 2\n",
      "Prediction for test image is [0. 0. 1. 0. 0. 0. 0. 0. 0. 0.]\n"
     ]
    },
    {
     "data": {
      "text/plain": [
       "<matplotlib.image.AxesImage at 0x27346d40b88>"
      ]
     },
     "execution_count": 15,
     "metadata": {},
     "output_type": "execute_result"
    },
    {
     "data": {
      "image/png": "[encoded data removed]",
      "text/plain": [
       "<Figure size 432x288 with 1 Axes>"
      ]
     },
     "metadata": {
      "needs_background": "light"
     },
     "output_type": "display_data"
    }
   ],
   "source": [
    "#Passing the loaded image to the neural network\n",
    "print(img.shape)\n",
    "prediction = model(img, is_training = False)\n",
    "print('Actual Ground Truth is {}'.format(2))\n",
    "print('Prediction for test image is {}'.format(np.squeeze(prediction)))\n",
    "plt.imshow(np.reshape(img, [28, 28]), cmap='gray')"
   ]
  },
  {
   "cell_type": "code",
   "execution_count": 16,
   "metadata": {},
   "outputs": [
    {
     "name": "stdout",
     "output_type": "stream",
     "text": [
      "Actual Ground Truth is 5\n",
      "Prediction for test image is [3.1636898e-19 2.1655639e-14 2.8942400e-20 3.7008427e-09 2.4162319e-16\n",
      " 1.0000000e+00 1.4935504e-10 7.2028909e-17 1.8773881e-10 4.1773360e-12]\n"
     ]
    },
    {
     "data": {
      "text/plain": [
       "<matplotlib.image.AxesImage at 0x27346db5188>"
      ]
     },
     "execution_count": 16,
     "metadata": {},
     "output_type": "execute_result"
    },
    {
     "data": {
      "image/png": "[encoded data removed]",
      "text/plain": [
       "<Figure size 432x288 with 1 Axes>"
      ]
     },
     "metadata": {
      "needs_background": "light"
     },
     "output_type": "display_data"
    }
   ],
   "source": [
    "#Prediction using data from the Test Set randomly (We can select the index randomly)\n",
    "prediction = model(x_test[45].reshape(1, 784))\n",
    "print('Actual Ground Truth is {}'.format(np.squeeze(y_test[45])))\n",
    "print('Prediction for test image is {}'.format(np.squeeze(prediction)))\n",
    "plt.imshow(np.reshape(x_test[45].reshape(1, 784), [28, 28]), cmap='gray')"
   ]
  }
 ],
 "metadata": {
  "kernelspec": {
   "display_name": "Python 3",
   "language": "python",
   "name": "python3"
  },
  "language_info": {
   "codemirror_mode": {
    "name": "ipython",
    "version": 3
   },
   "file_extension": ".py",
   "mimetype": "text/x-python",
   "name": "python",
   "nbconvert_exporter": "python",
   "pygments_lexer": "ipython3",
   "version": "3.7.6"
  }
 },
 "nbformat": 4,
 "nbformat_minor": 4
}
