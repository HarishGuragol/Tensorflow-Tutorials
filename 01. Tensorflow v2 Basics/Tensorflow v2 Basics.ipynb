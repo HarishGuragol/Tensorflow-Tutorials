{
 "cells": [
  {
   "cell_type": "markdown",
   "metadata": {},
   "source": [
    "# Introduction to Tensorflow v2"
   ]
  },
  {
   "cell_type": "markdown",
   "metadata": {},
   "source": [
    "### Import the Tensorflow Framework"
   ]
  },
  {
   "cell_type": "code",
   "execution_count": 1,
   "metadata": {},
   "outputs": [],
   "source": [
    "import tensorflow as tf"
   ]
  },
  {
   "cell_type": "markdown",
   "metadata": {},
   "source": [
    "### Printing the versions"
   ]
  },
  {
   "cell_type": "code",
   "execution_count": 2,
   "metadata": {},
   "outputs": [
    {
     "name": "stdout",
     "output_type": "stream",
     "text": [
      "TensorFlow version: 2.3.1\n",
      "Eager execution is: True\n",
      "Keras version: 2.4.0\n"
     ]
    }
   ],
   "source": [
    "print(\"TensorFlow version: {}\".format(tf.__version__))\n",
    "print(\"Eager execution is: {}\".format(tf.executing_eagerly()))\n",
    "print(\"Keras version: {}\".format(tf.keras.__version__))"
   ]
  },
  {
   "cell_type": "markdown",
   "metadata": {},
   "source": [
    "### Let's have a look at python variable and tensors"
   ]
  },
  {
   "cell_type": "code",
   "execution_count": 3,
   "metadata": {},
   "outputs": [],
   "source": [
    "var = 1 \n",
    "ten = tf.Variable(7) \n",
    "another_tensor = tf.Variable([[1, 2],[3, 4]]) "
   ]
  },
  {
   "cell_type": "code",
   "execution_count": 4,
   "metadata": {},
   "outputs": [
    {
     "data": {
      "text/plain": [
       "(1,\n",
       " <tf.Variable 'Variable:0' shape=() dtype=int32, numpy=7>,\n",
       " <tf.Variable 'Variable:0' shape=(2, 2) dtype=int32, numpy=\n",
       " array([[1, 2],\n",
       "        [3, 4]])>)"
      ]
     },
     "execution_count": 4,
     "metadata": {},
     "output_type": "execute_result"
    }
   ],
   "source": [
    "var, ten, another_tensor"
   ]
  },
  {
   "cell_type": "code",
   "execution_count": 5,
   "metadata": {},
   "outputs": [
    {
     "name": "stdout",
     "output_type": "stream",
     "text": [
      "<tf.Variable 'Variable:0' shape=() dtype=float32, numpy=100.6>\n"
     ]
    }
   ],
   "source": [
    "f1 = tf.Variable(100.6)\n",
    "print(f1)"
   ]
  },
  {
   "cell_type": "code",
   "execution_count": 6,
   "metadata": {},
   "outputs": [
    {
     "name": "stdout",
     "output_type": "stream",
     "text": [
      "<tf.Variable 'UnreadVariable' shape=() dtype=float32, numpy=25.0>\n",
      "<dtype: 'float32'>\n"
     ]
    }
   ],
   "source": [
    "print(f1.assign(25))\n",
    "print(f1.dtype)"
   ]
  },
  {
   "cell_type": "code",
   "execution_count": 7,
   "metadata": {},
   "outputs": [
    {
     "name": "stdout",
     "output_type": "stream",
     "text": [
      "<dtype: 'float64'>\n"
     ]
    }
   ],
   "source": [
    "f2 = tf.Variable(7, dtype = tf.float64)\n",
    "print(f2.dtype)"
   ]
  },
  {
   "cell_type": "code",
   "execution_count": 8,
   "metadata": {},
   "outputs": [
    {
     "name": "stdout",
     "output_type": "stream",
     "text": [
      "tf.Tensor(10, shape=(), dtype=int32)\n"
     ]
    }
   ],
   "source": [
    "constant_var = tf.constant(10)\n",
    "print(constant_var)"
   ]
  },
  {
   "cell_type": "code",
   "execution_count": 9,
   "metadata": {},
   "outputs": [
    {
     "data": {
      "text/plain": [
       "10"
      ]
     },
     "execution_count": 9,
     "metadata": {},
     "output_type": "execute_result"
    }
   ],
   "source": [
    "constant_var.numpy()"
   ]
  },
  {
   "cell_type": "code",
   "execution_count": 10,
   "metadata": {},
   "outputs": [
    {
     "data": {
      "text/plain": [
       "<tf.Tensor: shape=(), dtype=int32, numpy=2>"
      ]
     },
     "execution_count": 10,
     "metadata": {},
     "output_type": "execute_result"
    }
   ],
   "source": [
    "tf.rank(another_tensor)"
   ]
  },
  {
   "cell_type": "code",
   "execution_count": 11,
   "metadata": {},
   "outputs": [
    {
     "data": {
      "text/plain": [
       "<tf.Tensor: shape=(2,), dtype=int32, numpy=array([2, 2])>"
      ]
     },
     "execution_count": 11,
     "metadata": {},
     "output_type": "execute_result"
    }
   ],
   "source": [
    "tf.shape(another_tensor)"
   ]
  },
  {
   "cell_type": "code",
   "execution_count": 12,
   "metadata": {},
   "outputs": [
    {
     "name": "stdout",
     "output_type": "stream",
     "text": [
      "(2, 2, 3)\n",
      "tf.Tensor(3, shape=(), dtype=int32)\n"
     ]
    }
   ],
   "source": [
    "new_tensor = tf.Variable([ [ [0., 1., 2.], [3., 4., 5.] ], [ [6., 7., 8.], [9., 10., 11.] ] ]) \n",
    "print(new_tensor.shape)\n",
    "print(tf.rank(new_tensor))"
   ]
  },
  {
   "cell_type": "code",
   "execution_count": 13,
   "metadata": {},
   "outputs": [],
   "source": [
    "new_reshape = tf.reshape(new_tensor, [2, 6]) \n",
    "recent_reshape = tf.reshape(new_tensor, [1, 12])"
   ]
  },
  {
   "cell_type": "code",
   "execution_count": 14,
   "metadata": {},
   "outputs": [
    {
     "name": "stdout",
     "output_type": "stream",
     "text": [
      "tf.Tensor(\n",
      "[[ 0.  1.  2.  3.  4.  5.]\n",
      " [ 6.  7.  8.  9. 10. 11.]], shape=(2, 6), dtype=float32)\n",
      "tf.Tensor([[ 0.  1.  2.  3.  4.  5.  6.  7.  8.  9. 10. 11.]], shape=(1, 12), dtype=float32)\n"
     ]
    }
   ],
   "source": [
    "print(new_reshape)\n",
    "print(recent_reshape)"
   ]
  },
  {
   "cell_type": "code",
   "execution_count": 15,
   "metadata": {},
   "outputs": [
    {
     "name": "stdout",
     "output_type": "stream",
     "text": [
      "[[[ 0.  1.  2.]\n",
      "  [ 3.  4.  5.]]\n",
      "\n",
      " [[ 6.  7.  8.]\n",
      "  [ 9. 10. 11.]]]\n"
     ]
    }
   ],
   "source": [
    "print(new_tensor.numpy())"
   ]
  },
  {
   "cell_type": "code",
   "execution_count": 16,
   "metadata": {},
   "outputs": [
    {
     "data": {
      "text/plain": [
       "<tf.Tensor: shape=(2, 2, 3), dtype=float32, numpy=\n",
       "array([[[  0.,   1.,   4.],\n",
       "        [  9.,  16.,  25.]],\n",
       "\n",
       "       [[ 36.,  49.,  64.],\n",
       "        [ 81., 100., 121.]]], dtype=float32)>"
      ]
     },
     "execution_count": 16,
     "metadata": {},
     "output_type": "execute_result"
    }
   ],
   "source": [
    "new_tensor * new_tensor"
   ]
  },
  {
   "cell_type": "code",
   "execution_count": 17,
   "metadata": {},
   "outputs": [
    {
     "data": {
      "text/plain": [
       "<tf.Tensor: shape=(2, 2, 3), dtype=float32, numpy=\n",
       "array([[[ 0.,  4.,  8.],\n",
       "        [12., 16., 20.]],\n",
       "\n",
       "       [[24., 28., 32.],\n",
       "        [36., 40., 44.]]], dtype=float32)>"
      ]
     },
     "execution_count": 17,
     "metadata": {},
     "output_type": "execute_result"
    }
   ],
   "source": [
    "new_tensor * 4"
   ]
  },
  {
   "cell_type": "code",
   "execution_count": 18,
   "metadata": {},
   "outputs": [
    {
     "name": "stdout",
     "output_type": "stream",
     "text": [
      "Matrix Multiplication - Transpose\n",
      "tf.Tensor([[94]], shape=(1, 1), dtype=int32)\n"
     ]
    }
   ],
   "source": [
    "u = tf.constant([[5, 6, 7]])\n",
    "v = tf.constant([[8, 9, 0]])\n",
    "print('Matrix Multiplication - Transpose')\n",
    "print(tf.matmul(u, tf.transpose(a=v)))"
   ]
  },
  {
   "cell_type": "code",
   "execution_count": 19,
   "metadata": {},
   "outputs": [
    {
     "name": "stdout",
     "output_type": "stream",
     "text": [
      "tf.Tensor(7.0, shape=(), dtype=float32)\n"
     ]
    }
   ],
   "source": [
    "int_tensor = tf.cast(ten, dtype=tf.float32)\n",
    "print(int_tensor)"
   ]
  },
  {
   "cell_type": "markdown",
   "metadata": {},
   "source": [
    "# Tensorflow v2 Functions"
   ]
  },
  {
   "cell_type": "markdown",
   "metadata": {},
   "source": [
    "### Squared Difference Function"
   ]
  },
  {
   "cell_type": "code",
   "execution_count": 20,
   "metadata": {},
   "outputs": [
    {
     "data": {
      "text/plain": [
       "<tf.Tensor: shape=(5,), dtype=int32, numpy=array([16,  4,  0,  4, 36])>"
      ]
     },
     "execution_count": 20,
     "metadata": {},
     "output_type": "execute_result"
    }
   ],
   "source": [
    "#Squared Difference Function\n",
    "x = [2, 4, 6, 8, 12]\n",
    "y = 6\n",
    "\n",
    "#(x-y)*(x-y)\n",
    "result = tf.math.squared_difference(x, y)\n",
    "result"
   ]
  },
  {
   "cell_type": "markdown",
   "metadata": {},
   "source": [
    "### Reduce Mean"
   ]
  },
  {
   "cell_type": "code",
   "execution_count": 21,
   "metadata": {},
   "outputs": [
    {
     "name": "stdout",
     "output_type": "stream",
     "text": [
      "tf.Tensor(\n",
      "[[6. 9.]\n",
      " [3. 5.]], shape=(2, 2), dtype=float32)\n"
     ]
    }
   ],
   "source": [
    "numbers = tf.constant([[6., 9.], [3., 5.]])\n",
    "print(numbers)"
   ]
  },
  {
   "cell_type": "code",
   "execution_count": 22,
   "metadata": {},
   "outputs": [
    {
     "data": {
      "text/plain": [
       "<tf.Tensor: shape=(), dtype=float32, numpy=5.75>"
      ]
     },
     "execution_count": 22,
     "metadata": {},
     "output_type": "execute_result"
    }
   ],
   "source": [
    "tf.reduce_mean(input_tensor = numbers)"
   ]
  },
  {
   "cell_type": "markdown",
   "metadata": {},
   "source": [
    "### Mean across columns"
   ]
  },
  {
   "cell_type": "code",
   "execution_count": 23,
   "metadata": {},
   "outputs": [
    {
     "name": "stdout",
     "output_type": "stream",
     "text": [
      "tf.Tensor([4.5 7. ], shape=(2,), dtype=float32)\n"
     ]
    }
   ],
   "source": [
    "#Reduce rows -> Find mean across columns\n",
    "#(6. + 3.)/2, (9. + 5.)/2\n",
    "print(tf.reduce_mean(input_tensor = numbers, axis = 0))"
   ]
  },
  {
   "cell_type": "code",
   "execution_count": 24,
   "metadata": {},
   "outputs": [
    {
     "name": "stdout",
     "output_type": "stream",
     "text": [
      "tf.Tensor([[4.5 7. ]], shape=(1, 2), dtype=float32)\n"
     ]
    }
   ],
   "source": [
    "#(6. + 3.)/2, (9. + 5.)/2\n",
    "print(tf.reduce_mean(input_tensor = numbers, axis = 0, keepdims = True))"
   ]
  },
  {
   "cell_type": "markdown",
   "metadata": {},
   "source": [
    "### Mean across rows"
   ]
  },
  {
   "cell_type": "code",
   "execution_count": 25,
   "metadata": {},
   "outputs": [
    {
     "name": "stdout",
     "output_type": "stream",
     "text": [
      "tf.Tensor([7.5 4. ], shape=(2,), dtype=float32)\n"
     ]
    }
   ],
   "source": [
    "#Reduce columns -> Find mean across rows\n",
    "#(6. + 9.)/2, (3. + 5.)/2\n",
    "print(tf.reduce_mean(input_tensor = numbers, axis = 1))"
   ]
  },
  {
   "cell_type": "code",
   "execution_count": 26,
   "metadata": {},
   "outputs": [
    {
     "name": "stdout",
     "output_type": "stream",
     "text": [
      "tf.Tensor(\n",
      "[[7.5]\n",
      " [4. ]], shape=(2, 1), dtype=float32)\n"
     ]
    }
   ],
   "source": [
    "#(6. + 9.)/2, (3. + 5.)/2\n",
    "print(tf.reduce_mean(input_tensor = numbers, axis = 1, keepdims = True))"
   ]
  },
  {
   "cell_type": "markdown",
   "metadata": {},
   "source": [
    "### Generating normal distribution in a tensor"
   ]
  },
  {
   "cell_type": "code",
   "execution_count": 27,
   "metadata": {},
   "outputs": [
    {
     "name": "stdout",
     "output_type": "stream",
     "text": [
      "tf.Tensor(\n",
      "[[ 7.8424673 10.017846 ]\n",
      " [ 7.9010606 11.682917 ]\n",
      " [ 7.7593865 13.132599 ]], shape=(3, 2), dtype=float32)\n"
     ]
    }
   ],
   "source": [
    "print(tf.random.normal(shape = (3, 2), mean = 10, stddev = 2, dtype = tf.float32, seed = None, name = None))"
   ]
  },
  {
   "cell_type": "markdown",
   "metadata": {},
   "source": [
    "### Generating uniform distribution in a tensor"
   ]
  },
  {
   "cell_type": "code",
   "execution_count": 28,
   "metadata": {},
   "outputs": [
    {
     "data": {
      "text/plain": [
       "<tf.Tensor: shape=(3, 2), dtype=float32, numpy=\n",
       "array([[0.7521368 , 0.33398187],\n",
       "       [0.5066447 , 0.9244695 ],\n",
       "       [0.4273026 , 0.23606348]], dtype=float32)>"
      ]
     },
     "execution_count": 28,
     "metadata": {},
     "output_type": "execute_result"
    }
   ],
   "source": [
    "tf.random.uniform(shape = (3, 2),  minval = 0, maxval = 1, dtype = tf.float32, seed = None, name = None)"
   ]
  },
  {
   "cell_type": "markdown",
   "metadata": {},
   "source": [
    "### Random Seed in Tensorflow"
   ]
  },
  {
   "cell_type": "code",
   "execution_count": 29,
   "metadata": {},
   "outputs": [
    {
     "name": "stdout",
     "output_type": "stream",
     "text": [
      "Random Seed - 11\n",
      "\n",
      "tf.Tensor(\n",
      "[[4 3]\n",
      " [0 2]], shape=(2, 2), dtype=int32)\n",
      "tf.Tensor(\n",
      "[[6 3]\n",
      " [6 3]], shape=(2, 2), dtype=int32)\n",
      "\n",
      "\n",
      "Random Seed - 12\n",
      "\n",
      "tf.Tensor(\n",
      "[[0 4]\n",
      " [2 2]], shape=(2, 2), dtype=int32)\n",
      "tf.Tensor(\n",
      "[[0 4]\n",
      " [0 1]], shape=(2, 2), dtype=int32)\n",
      "\n",
      "\n",
      "Random Seed - 11\n",
      "\n",
      "tf.Tensor(\n",
      "[[4 3]\n",
      " [0 2]], shape=(2, 2), dtype=int32)\n",
      "tf.Tensor(\n",
      "[[6 3]\n",
      " [6 3]], shape=(2, 2), dtype=int32)\n"
     ]
    }
   ],
   "source": [
    "print('Random Seed - 11\\n')\n",
    "tf.random.set_seed(11)\n",
    "random_1 = tf.random.uniform(shape = (2, 2), maxval = 7, dtype = tf.int32)\n",
    "random_2 =  tf.random.uniform(shape = (2, 2), maxval = 7, dtype = tf.int32)\n",
    "print(random_1) \n",
    "print(random_2)\n",
    "print('\\n')\n",
    "\n",
    "print('Random Seed - 12\\n')\n",
    "tf.random.set_seed(12)\n",
    "random_1 = tf.random.uniform(shape = (2, 2), maxval = 7, dtype = tf.int32)\n",
    "random_2 =  tf.random.uniform(shape = (2, 2), maxval = 7, dtype = tf.int32)\n",
    "print(random_1) \n",
    "print(random_2)\n",
    "print('\\n')\n",
    "\n",
    "print('Random Seed - 11\\n')\n",
    "tf.random.set_seed(11)\n",
    "random_1 = tf.random.uniform(shape = (2, 2), maxval = 7, dtype = tf.int32)\n",
    "random_2 =  tf.random.uniform(shape = (2, 2), maxval = 7, dtype = tf.int32)\n",
    "print(random_1) \n",
    "print(random_2)"
   ]
  },
  {
   "cell_type": "markdown",
   "metadata": {},
   "source": [
    "### Max, Min and Indices"
   ]
  },
  {
   "cell_type": "code",
   "execution_count": 30,
   "metadata": {},
   "outputs": [
    {
     "name": "stdout",
     "output_type": "stream",
     "text": [
      "tf.Tensor([  2  20  15  32  77  29 -16 -51  29], shape=(9,), dtype=int32)\n",
      "Index of max: 4\n",
      "\n",
      "Max element: 77\n"
     ]
    }
   ],
   "source": [
    "tensor_m = tf.constant([2, 20, 15, 32, 77, 29, -16, -51, 29])\n",
    "print(tensor_m)\n",
    "index = tf.argmax(input = tensor_m)\n",
    "print('Index of max: {}\\n'.format(index))\n",
    "print('Max element: {}'.format(tensor_m[index].numpy()))"
   ]
  },
  {
   "cell_type": "code",
   "execution_count": 31,
   "metadata": {},
   "outputs": [
    {
     "name": "stdout",
     "output_type": "stream",
     "text": [
      "tf.Tensor([  2  20  15  32  77  29 -16 -51  29], shape=(9,), dtype=int32)\n",
      "Index of minumum element: 7\n",
      "\n",
      "Minimum element: -51\n"
     ]
    }
   ],
   "source": [
    "print(tensor_m)\n",
    "index = tf.argmin(input = tensor_m)\n",
    "print('Index of minumum element: {}\\n'.format(index))\n",
    "print('Minimum element: {}'.format(tensor_m[index].numpy()))"
   ]
  },
  {
   "cell_type": "markdown",
   "metadata": {},
   "source": [
    "### Tensorflow v2 Graph Function"
   ]
  },
  {
   "cell_type": "code",
   "execution_count": 32,
   "metadata": {},
   "outputs": [
    {
     "name": "stdout",
     "output_type": "stream",
     "text": [
      "tf.Tensor(182.5, shape=(), dtype=float32)\n",
      "tf.Tensor(182.5, shape=(), dtype=float32)\n"
     ]
    }
   ],
   "source": [
    "#Normal Python function\n",
    "def f1(x, y):\n",
    "    return tf.reduce_mean(input_tensor=tf.multiply(x ** 2, 5) + y**2)\n",
    "\n",
    "#Converting that into Tensorflow Graph function\n",
    "f2 = tf.function(f1)\n",
    "\n",
    "x = tf.constant([7., -2.])\n",
    "y = tf.constant([8., 6.])\n",
    "\n",
    "#Funtion 1 and function 2 return the same value, but function 2 executes as a TensorFlow graph\n",
    "assert f1(x,y).numpy() == f2(x,y).numpy()\n",
    "\n",
    "ans = f1(x,y)\n",
    "print(ans)\n",
    "\n",
    "ans = f2(x,y)\n",
    "print(ans)"
   ]
  }
 ],
 "metadata": {
  "kernelspec": {
   "display_name": "Python 3",
   "language": "python",
   "name": "python3"
  },
  "language_info": {
   "codemirror_mode": {
    "name": "ipython",
    "version": 3
   },
   "file_extension": ".py",
   "mimetype": "text/x-python",
   "name": "python",
   "nbconvert_exporter": "python",
   "pygments_lexer": "ipython3",
   "version": "3.7.6"
  }
 },
 "nbformat": 4,
 "nbformat_minor": 4
}
